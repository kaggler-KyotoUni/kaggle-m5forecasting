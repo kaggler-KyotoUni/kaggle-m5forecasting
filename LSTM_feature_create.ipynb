{
 "cells": [
  {
   "cell_type": "code",
   "execution_count": 20,
   "metadata": {},
   "outputs": [],
   "source": [
    "import pandas as pd \n",
    "import numpy as np \n",
    "import matplotlib.pyplot as plt \n",
    "import os \n",
    "from itertools import cycle\n",
    "color_cycle = cycle(plt.rcParams['axes.prop_cycle'].by_key()['color'])"
   ]
  },
  {
   "cell_type": "code",
   "execution_count": 21,
   "metadata": {},
   "outputs": [],
   "source": [
    "INPUT_DIR = \".\\\\datas\\\\\"\n",
    "\n",
    "def read_data():\n",
    "    cal = pd.read_csv(f\"{INPUT_DIR}calendar.csv\")\n",
    "    stv = pd.read_csv(f\"{INPUT_DIR}sales_train_validation.csv\")\n",
    "    ste = pd.read_csv(f\"{INPUT_DIR}sales_train_evaluation.csv\")\n",
    "    ss = pd.read_csv(f\"{INPUT_DIR}sample_submission.csv\")\n",
    "    sellp = pd.read_csv(f\"{INPUT_DIR}sell_prices.csv\")\n",
    "    \n",
    "    return cal, stv, ste, ss, sellp"
   ]
  },
  {
   "cell_type": "code",
   "execution_count": 22,
   "metadata": {},
   "outputs": [],
   "source": [
    "cal, stv, ste, ss, sellp = read_data()"
   ]
  },
  {
   "cell_type": "code",
   "execution_count": 23,
   "metadata": {},
   "outputs": [],
   "source": [
    "def reduce_mem_usage(df, verbose=True):\n",
    "    \"\"\"\n",
    "    目的：メモリサイズの削減\n",
    "    df: メモリを削減したい DataFrame (pandas.DataFrame)\n",
    "    verbose: 実行時に、メモリ削減の情報を出力するかどうかを指定(bool)\n",
    "\n",
    "    ■ 基本思想\n",
    "    【前提知識】\n",
    "    pandas で作成したデータフレームのうち数値データは、特に dtype を指定しない場合\n",
    "    int64 または float64 でデータを作成するので、\n",
    "    実際のデータよりもこの型が大きいと余計なメモリサイズを確保してしまう。\n",
    "\n",
    "    【処理内容】\n",
    "    (1) 入力された DataFrame の column の型を全てチェック(for loop)\n",
    "    (2) その型が大きい数値データ(int16~int64, float16~float64)ならば、\n",
    "        そのデータフレームの最大値・最小値をチェック。\n",
    "        現在処理中のカラムを、上記の最大値・最小値を表せる必要最低限の型に変換する。\n",
    "        int と floatに分けて処理。\n",
    "\n",
    "    ────────────────────────────────────────────────────────────────────────\n",
    "    【変更履歴】\n",
    "    2020/06/06:\n",
    "    ■ 35行目\n",
    "    ifのネストが深かったので、リファクタ。\n",
    "    Early Continueを入れたので可読性が向上(したはず)。\n",
    "\n",
    "    ■ 46行目・71行目(置き換え・追加)\n",
    "    説明変数(関数?)で置き換え。\n",
    "    columnのtypeがintであるか否かを判定する関数を噛ませている。\n",
    "    (返り値はbool値)\n",
    "    \"\"\"\n",
    "\n",
    "    numerics = ['int16', 'int32', 'int64', 'float16', 'float32', 'float64']\n",
    "    start_mem = df.memory_usage().sum() / 1024**2\n",
    "\n",
    "    # main loop    \n",
    "    for col in df.columns:\n",
    "        col_type = df[col].dtypes\n",
    "\n",
    "        if col_type not in numerics: \n",
    "            continue # Early continue if column type is not numeric\n",
    "        \n",
    "        c_min = df[col].min()\n",
    "        c_max = df[col].max()\n",
    "\n",
    "        if IsInt(col_type):\n",
    "            if c_min > np.iinfo(np.int8).min and c_max < np.iinfo(np.int8).max:\n",
    "                df[col] = df[col].astype(np.int8)\n",
    "            elif c_min > np.iinfo(np.int16).min and c_max < np.iinfo(np.int16).max:\n",
    "                df[col] = df[col].astype(np.int16)\n",
    "            elif c_min > np.iinfo(np.int32).min and c_max < np.iinfo(np.int32).max:\n",
    "                df[col] = df[col].astype(np.int32)\n",
    "            elif c_min > np.iinfo(np.int64).min and c_max < np.iinfo(np.int64).max:\n",
    "                df[col] = df[col].astype(np.int64)  \n",
    "        else:\n",
    "            if c_min > np.finfo(np.float16).min and c_max < np.finfo(np.float16).max:\n",
    "                df[col] = df[col].astype(np.float16)\n",
    "            elif c_min > np.finfo(np.float32).min and c_max < np.finfo(np.float32).max:\n",
    "                df[col] = df[col].astype(np.float32)\n",
    "            else:\n",
    "                df[col] = df[col].astype(np.float64)\n",
    "\n",
    "    end_mem = df.memory_usage().sum() / 1024**2\n",
    "\n",
    "    if verbose: \n",
    "        print('Mem. usage decreased to {:5.2f} Mb ({:.1f}% reduction)'.format(end_mem, 100 * (start_mem - end_mem) / start_mem))\n",
    "\n",
    "    return df\n",
    "\n",
    "\n",
    "def IsInt(col_type):\n",
    "    return str(col_type)[:3] == 'int'\n"
   ]
  },
  {
   "cell_type": "code",
   "execution_count": 24,
   "metadata": {},
   "outputs": [
    {
     "output_type": "stream",
     "name": "stdout",
     "text": "Mem. usage decreased to  0.12 Mb (41.9% reduction)\nMem. usage decreased to 95.00 Mb (78.7% reduction)\nMem. usage decreased to 96.13 Mb (78.8% reduction)\nMem. usage decreased to  2.09 Mb (84.5% reduction)\nMem. usage decreased to 130.48 Mb (37.5% reduction)\n"
    }
   ],
   "source": [
    "dfs = [cal, stv, ste, ss, sellp]\n",
    "for df in dfs:\n",
    "    df = reduce_mem_usage(df)"
   ]
  },
  {
   "cell_type": "code",
   "execution_count": 25,
   "metadata": {},
   "outputs": [],
   "source": [
    "from sklearn import preprocessing, metrics\n",
    "from keras.models import Sequential\n",
    "from keras.layers import Dense\n",
    "from keras.layers import LSTM,Dropout\n",
    "from keras.layers import RepeatVector,TimeDistributed\n",
    "from numpy import array\n",
    "from keras.models import Sequential, load_model\n",
    "#import utils_paths\n",
    "import re\n",
    "from tqdm import tqdm\n",
    "import os"
   ]
  },
  {
   "cell_type": "code",
   "execution_count": 26,
   "metadata": {},
   "outputs": [],
   "source": [
    "train_sales = stv\n",
    "calendar = cal\n",
    "sell_prices = pd.read_csv(f\"{INPUT_DIR}sell_prices.csv\")\n",
    "# pd.pivot() を使うときに、メモリサイズを削減したものだとエラーになる模様。なので再度読み直し。対応策はないのか？\n",
    "submission_file = ss"
   ]
  },
  {
   "cell_type": "code",
   "execution_count": 27,
   "metadata": {},
   "outputs": [],
   "source": [
    "def transform(data):\n",
    "    \n",
    "    nan_features = ['event_name_1', 'event_type_1', 'event_name_2', 'event_type_2']\n",
    "    for feature in nan_features:\n",
    "        data[feature].fillna('unknown', inplace = True)\n",
    "        \n",
    "    cat = ['event_name_1','event_type_1','event_name_2','event_type_2','snap_CA','snap_TX','snap_WI']\n",
    "    for feature in cat:\n",
    "        encoder = preprocessing.LabelEncoder()\n",
    "        data[feature] = encoder.fit_transform(data[feature])\n",
    "    \n",
    "    return data\n",
    "#calendarの何もない日をunknownで埋めて、label encoderによって処理しやすい形に変える\n",
    "# one-hot encodingのほうが良いのでは？"
   ]
  },
  {
   "cell_type": "code",
   "execution_count": 28,
   "metadata": {},
   "outputs": [],
   "source": [
    "days = range(1, 1970)\n",
    "time_series_columns = [f'd_{i}' for i in days]\n",
    "\n",
    "event_snap_columns = ['event_name_1','event_type_1','event_name_2','event_type_2','snap_CA','snap_TX','snap_WI']\n",
    "\n",
    "transfer_cal = pd.DataFrame(calendar[event_snap_columns].values.T,\n",
    "                            index=event_snap_columns,\n",
    "                            columns=time_series_columns)\n",
    "transfer_cal = transfer_cal.fillna(0)\n",
    "\n",
    "event_name_1_se = transfer_cal.loc['event_name_1'].apply(lambda x: x if re.search(\"^\\d+$\", str(x)) else np.nan).fillna(10)\n",
    "event_name_2_se = transfer_cal.loc['event_name_2'].apply(lambda x: x if re.search(\"^\\d+$\", str(x)) else np.nan).fillna(10)\n",
    "#↑event nameが入っているものをnanにした後、10にしている。"
   ]
  },
  {
   "cell_type": "code",
   "execution_count": 66,
   "metadata": {},
   "outputs": [
    {
     "output_type": "execute_result",
     "data": {
      "text/plain": "           date  wm_yr_wk   weekday  wday  month  year       d  event_name_1  \\\n1918 2016-04-30     11614  Saturday     1      4  2016  d_1919            21   \n\n      event_type_1  event_name_2  event_type_2  snap_CA  snap_TX  snap_WI  \n1918             2             2             2        0        0        0  ",
      "text/html": "<div>\n<style scoped>\n    .dataframe tbody tr th:only-of-type {\n        vertical-align: middle;\n    }\n\n    .dataframe tbody tr th {\n        vertical-align: top;\n    }\n\n    .dataframe thead th {\n        text-align: right;\n    }\n</style>\n<table border=\"1\" class=\"dataframe\">\n  <thead>\n    <tr style=\"text-align: right;\">\n      <th></th>\n      <th>date</th>\n      <th>wm_yr_wk</th>\n      <th>weekday</th>\n      <th>wday</th>\n      <th>month</th>\n      <th>year</th>\n      <th>d</th>\n      <th>event_name_1</th>\n      <th>event_type_1</th>\n      <th>event_name_2</th>\n      <th>event_type_2</th>\n      <th>snap_CA</th>\n      <th>snap_TX</th>\n      <th>snap_WI</th>\n    </tr>\n  </thead>\n  <tbody>\n    <tr>\n      <th>1918</th>\n      <td>2016-04-30</td>\n      <td>11614</td>\n      <td>Saturday</td>\n      <td>1</td>\n      <td>4</td>\n      <td>2016</td>\n      <td>d_1919</td>\n      <td>21</td>\n      <td>2</td>\n      <td>2</td>\n      <td>2</td>\n      <td>0</td>\n      <td>0</td>\n      <td>0</td>\n    </tr>\n  </tbody>\n</table>\n</div>"
     },
     "metadata": {},
     "execution_count": 66
    }
   ],
   "source": [
    "calendar.loc[calendar[\"d\"] == \"d_1919\"]"
   ]
  },
  {
   "cell_type": "code",
   "execution_count": 80,
   "metadata": {},
   "outputs": [
    {
     "output_type": "execute_result",
     "data": {
      "text/plain": "                              0                    1                    2    \\\nevent_name_1                   30                   30                   30   \nevent_type_1                    4                    4                    4   \nevent_name_2                    2                    2                    2   \nevent_type_2                    2                    2                    2   \nsnap_CA                         0                    0                    0   \nsnap_TX                         0                    0                    0   \nsnap_WI                         0                    0                    0   \ndate          2014-01-27 00:00:00  2014-01-28 00:00:00  2014-01-29 00:00:00   \nd                          d_1095               d_1096               d_1097   \n\n                              3                    4                    5    \\\nevent_name_1                   30                   30                   30   \nevent_type_1                    4                    4                    4   \nevent_name_2                    2                    2                    2   \nevent_type_2                    2                    2                    2   \nsnap_CA                         0                    0                    1   \nsnap_TX                         0                    0                    1   \nsnap_WI                         0                    0                    0   \ndate          2014-01-30 00:00:00  2014-01-31 00:00:00  2014-02-01 00:00:00   \nd                          d_1098               d_1099               d_1100   \n\n                              6                    7                    8    \\\nevent_name_1                   26                   30                   30   \nevent_type_1                    3                    4                    4   \nevent_name_2                    2                    2                    2   \nevent_type_2                    2                    2                    2   \nsnap_CA                         1                    1                    1   \nsnap_TX                         0                    1                    0   \nsnap_WI                         1                    1                    0   \ndate          2014-02-02 00:00:00  2014-02-03 00:00:00  2014-02-04 00:00:00   \nd                          d_1101               d_1102               d_1103   \n\n                              9    ...                  837  \\\nevent_name_1                   30  ...                   30   \nevent_type_1                    4  ...                    4   \nevent_name_2                    2  ...                    2   \nevent_type_2                    2  ...                    2   \nsnap_CA                         1  ...                    0   \nsnap_TX                         1  ...                    1   \nsnap_WI                         1  ...                    0   \ndate          2014-02-05 00:00:00  ...  2016-05-13 00:00:00   \nd                          d_1104  ...               d_1932   \n\n                              838                  839                  840  \\\nevent_name_1                   30                   30                   30   \nevent_type_1                    4                    4                    4   \nevent_name_2                    2                    2                    2   \nevent_type_2                    2                    2                    2   \nsnap_CA                         0                    0                    0   \nsnap_TX                         0                    1                    0   \nsnap_WI                         1                    1                    0   \ndate          2016-05-14 00:00:00  2016-05-15 00:00:00  2016-05-16 00:00:00   \nd                          d_1933               d_1934               d_1935   \n\n                              841                  842                  843  \\\nevent_name_1                   30                   30                   30   \nevent_type_1                    4                    4                    4   \nevent_name_2                    2                    2                    2   \nevent_type_2                    2                    2                    2   \nsnap_CA                         0                    0                    0   \nsnap_TX                         0                    0                    0   \nsnap_WI                         0                    0                    0   \ndate          2016-05-17 00:00:00  2016-05-18 00:00:00  2016-05-19 00:00:00   \nd                          d_1936               d_1937               d_1938   \n\n                              844                  845                  846  \nevent_name_1                   30                   30                   30  \nevent_type_1                    4                    4                    4  \nevent_name_2                    2                    2                    2  \nevent_type_2                    2                    2                    2  \nsnap_CA                         0                    0                    0  \nsnap_TX                         0                    0                    0  \nsnap_WI                         0                    0                    0  \ndate          2016-05-20 00:00:00  2016-05-21 00:00:00  2016-05-22 00:00:00  \nd                          d_1939               d_1940               d_1941  \n\n[9 rows x 847 columns]",
      "text/html": "<div>\n<style scoped>\n    .dataframe tbody tr th:only-of-type {\n        vertical-align: middle;\n    }\n\n    .dataframe tbody tr th {\n        vertical-align: top;\n    }\n\n    .dataframe thead th {\n        text-align: right;\n    }\n</style>\n<table border=\"1\" class=\"dataframe\">\n  <thead>\n    <tr style=\"text-align: right;\">\n      <th></th>\n      <th>0</th>\n      <th>1</th>\n      <th>2</th>\n      <th>3</th>\n      <th>4</th>\n      <th>5</th>\n      <th>6</th>\n      <th>7</th>\n      <th>8</th>\n      <th>9</th>\n      <th>...</th>\n      <th>837</th>\n      <th>838</th>\n      <th>839</th>\n      <th>840</th>\n      <th>841</th>\n      <th>842</th>\n      <th>843</th>\n      <th>844</th>\n      <th>845</th>\n      <th>846</th>\n    </tr>\n  </thead>\n  <tbody>\n    <tr>\n      <th>event_name_1</th>\n      <td>30</td>\n      <td>30</td>\n      <td>30</td>\n      <td>30</td>\n      <td>30</td>\n      <td>30</td>\n      <td>26</td>\n      <td>30</td>\n      <td>30</td>\n      <td>30</td>\n      <td>...</td>\n      <td>30</td>\n      <td>30</td>\n      <td>30</td>\n      <td>30</td>\n      <td>30</td>\n      <td>30</td>\n      <td>30</td>\n      <td>30</td>\n      <td>30</td>\n      <td>30</td>\n    </tr>\n    <tr>\n      <th>event_type_1</th>\n      <td>4</td>\n      <td>4</td>\n      <td>4</td>\n      <td>4</td>\n      <td>4</td>\n      <td>4</td>\n      <td>3</td>\n      <td>4</td>\n      <td>4</td>\n      <td>4</td>\n      <td>...</td>\n      <td>4</td>\n      <td>4</td>\n      <td>4</td>\n      <td>4</td>\n      <td>4</td>\n      <td>4</td>\n      <td>4</td>\n      <td>4</td>\n      <td>4</td>\n      <td>4</td>\n    </tr>\n    <tr>\n      <th>event_name_2</th>\n      <td>2</td>\n      <td>2</td>\n      <td>2</td>\n      <td>2</td>\n      <td>2</td>\n      <td>2</td>\n      <td>2</td>\n      <td>2</td>\n      <td>2</td>\n      <td>2</td>\n      <td>...</td>\n      <td>2</td>\n      <td>2</td>\n      <td>2</td>\n      <td>2</td>\n      <td>2</td>\n      <td>2</td>\n      <td>2</td>\n      <td>2</td>\n      <td>2</td>\n      <td>2</td>\n    </tr>\n    <tr>\n      <th>event_type_2</th>\n      <td>2</td>\n      <td>2</td>\n      <td>2</td>\n      <td>2</td>\n      <td>2</td>\n      <td>2</td>\n      <td>2</td>\n      <td>2</td>\n      <td>2</td>\n      <td>2</td>\n      <td>...</td>\n      <td>2</td>\n      <td>2</td>\n      <td>2</td>\n      <td>2</td>\n      <td>2</td>\n      <td>2</td>\n      <td>2</td>\n      <td>2</td>\n      <td>2</td>\n      <td>2</td>\n    </tr>\n    <tr>\n      <th>snap_CA</th>\n      <td>0</td>\n      <td>0</td>\n      <td>0</td>\n      <td>0</td>\n      <td>0</td>\n      <td>1</td>\n      <td>1</td>\n      <td>1</td>\n      <td>1</td>\n      <td>1</td>\n      <td>...</td>\n      <td>0</td>\n      <td>0</td>\n      <td>0</td>\n      <td>0</td>\n      <td>0</td>\n      <td>0</td>\n      <td>0</td>\n      <td>0</td>\n      <td>0</td>\n      <td>0</td>\n    </tr>\n    <tr>\n      <th>snap_TX</th>\n      <td>0</td>\n      <td>0</td>\n      <td>0</td>\n      <td>0</td>\n      <td>0</td>\n      <td>1</td>\n      <td>0</td>\n      <td>1</td>\n      <td>0</td>\n      <td>1</td>\n      <td>...</td>\n      <td>1</td>\n      <td>0</td>\n      <td>1</td>\n      <td>0</td>\n      <td>0</td>\n      <td>0</td>\n      <td>0</td>\n      <td>0</td>\n      <td>0</td>\n      <td>0</td>\n    </tr>\n    <tr>\n      <th>snap_WI</th>\n      <td>0</td>\n      <td>0</td>\n      <td>0</td>\n      <td>0</td>\n      <td>0</td>\n      <td>0</td>\n      <td>1</td>\n      <td>1</td>\n      <td>0</td>\n      <td>1</td>\n      <td>...</td>\n      <td>0</td>\n      <td>1</td>\n      <td>1</td>\n      <td>0</td>\n      <td>0</td>\n      <td>0</td>\n      <td>0</td>\n      <td>0</td>\n      <td>0</td>\n      <td>0</td>\n    </tr>\n    <tr>\n      <th>date</th>\n      <td>2014-01-27 00:00:00</td>\n      <td>2014-01-28 00:00:00</td>\n      <td>2014-01-29 00:00:00</td>\n      <td>2014-01-30 00:00:00</td>\n      <td>2014-01-31 00:00:00</td>\n      <td>2014-02-01 00:00:00</td>\n      <td>2014-02-02 00:00:00</td>\n      <td>2014-02-03 00:00:00</td>\n      <td>2014-02-04 00:00:00</td>\n      <td>2014-02-05 00:00:00</td>\n      <td>...</td>\n      <td>2016-05-13 00:00:00</td>\n      <td>2016-05-14 00:00:00</td>\n      <td>2016-05-15 00:00:00</td>\n      <td>2016-05-16 00:00:00</td>\n      <td>2016-05-17 00:00:00</td>\n      <td>2016-05-18 00:00:00</td>\n      <td>2016-05-19 00:00:00</td>\n      <td>2016-05-20 00:00:00</td>\n      <td>2016-05-21 00:00:00</td>\n      <td>2016-05-22 00:00:00</td>\n    </tr>\n    <tr>\n      <th>d</th>\n      <td>d_1095</td>\n      <td>d_1096</td>\n      <td>d_1097</td>\n      <td>d_1098</td>\n      <td>d_1099</td>\n      <td>d_1100</td>\n      <td>d_1101</td>\n      <td>d_1102</td>\n      <td>d_1103</td>\n      <td>d_1104</td>\n      <td>...</td>\n      <td>d_1932</td>\n      <td>d_1933</td>\n      <td>d_1934</td>\n      <td>d_1935</td>\n      <td>d_1936</td>\n      <td>d_1937</td>\n      <td>d_1938</td>\n      <td>d_1939</td>\n      <td>d_1940</td>\n      <td>d_1941</td>\n    </tr>\n  </tbody>\n</table>\n<p>9 rows × 847 columns</p>\n</div>"
     },
     "metadata": {},
     "execution_count": 80
    }
   ],
   "source": [
    "\"\"\"\n",
    "※注意※\n",
    "\n",
    "ここで、使用メモリを減らすためにcalenderの範囲が減らされている。\n",
    "増やすと単純に精度向上が可能？\n",
    "-> もしフルに使うと、ローカルのメモリが死ぬ\n",
    "\n",
    "\"\"\"\n",
    "\n",
    "calendar['date'] = pd.to_datetime(calendar['date'])\n",
    "calendar = calendar[calendar['date']>= '2014-1-27']  #reduce memory\n",
    "calendar = calendar[calendar[\"date\"] <= \"2016-05-22\"] #eliminate evaluate date\n",
    "#使うデータを少なくします。\n",
    "calendar= transform(calendar)\n",
    "# Attempts to convert events into time series data.\n",
    "transfer_cal = pd.DataFrame(calendar[event_snap_columns + [\"date\", \"d\"]].values.T,\n",
    "                            index=event_snap_columns + [\"date\", \"d\"])\n",
    "transfer_cal"
   ]
  },
  {
   "cell_type": "code",
   "execution_count": 62,
   "metadata": {},
   "outputs": [],
   "source": [
    "price_fea = calendar[['wm_yr_wk','date']].merge(sell_prices, on = ['wm_yr_wk'], how = 'left')\n",
    "#販売価格に対して、calendarを結合した。\n",
    "price_fea['id'] = price_fea['item_id']+'_'+price_fea['store_id']+'_validation'\n",
    "df = price_fea.pivot('id','date','sell_price')\n",
    "#各商品を一行にして、商品の値段の移り変わりを表した。"
   ]
  },
  {
   "cell_type": "code",
   "execution_count": 63,
   "metadata": {},
   "outputs": [
    {
     "output_type": "execute_result",
     "data": {
      "text/plain": "                               2014-01-27  2014-01-28  2014-01-29  2014-01-30  \\\nid                                                                              \nHOBBIES_1_001_CA_1_validation        8.26        8.26        8.26        8.26   \nHOBBIES_1_002_CA_1_validation        3.97        3.97        3.97        3.97   \nHOBBIES_1_003_CA_1_validation         NaN         NaN         NaN         NaN   \nHOBBIES_1_004_CA_1_validation        4.64        4.64        4.64        4.64   \nHOBBIES_1_005_CA_1_validation        3.08        3.08        3.08        3.08   \n\n                               2014-01-31  2014-02-01  2014-02-02  2014-02-03  \\\nid                                                                              \nHOBBIES_1_001_CA_1_validation        8.26        8.26        8.26        8.26   \nHOBBIES_1_002_CA_1_validation        3.97        3.97        3.97        3.97   \nHOBBIES_1_003_CA_1_validation         NaN        2.97        2.97        2.97   \nHOBBIES_1_004_CA_1_validation        4.64        4.64        4.64        4.64   \nHOBBIES_1_005_CA_1_validation        3.08        3.08        3.08        3.08   \n\n                               2014-02-04  2014-02-05  ...  2016-05-13  \\\nid                                                     ...               \nHOBBIES_1_001_CA_1_validation        8.26        8.26  ...        8.38   \nHOBBIES_1_002_CA_1_validation        3.97        3.97  ...        3.97   \nHOBBIES_1_003_CA_1_validation        2.97        2.97  ...        2.97   \nHOBBIES_1_004_CA_1_validation        4.64        4.64  ...        4.64   \nHOBBIES_1_005_CA_1_validation        3.08        3.08  ...        2.88   \n\n                               2016-05-14  2016-05-15  2016-05-16  2016-05-17  \\\nid                                                                              \nHOBBIES_1_001_CA_1_validation        8.38        8.38        8.38        8.38   \nHOBBIES_1_002_CA_1_validation        3.97        3.97        3.97        3.97   \nHOBBIES_1_003_CA_1_validation        2.97        2.97        2.97        2.97   \nHOBBIES_1_004_CA_1_validation        4.64        4.64        4.64        4.64   \nHOBBIES_1_005_CA_1_validation        2.88        2.88        2.88        2.88   \n\n                               2016-05-18  2016-05-19  2016-05-20  2016-05-21  \\\nid                                                                              \nHOBBIES_1_001_CA_1_validation        8.38        8.38        8.38        8.38   \nHOBBIES_1_002_CA_1_validation        3.97        3.97        3.97        3.97   \nHOBBIES_1_003_CA_1_validation        2.97        2.97        2.97        2.97   \nHOBBIES_1_004_CA_1_validation        4.64        4.64        4.64        4.64   \nHOBBIES_1_005_CA_1_validation        2.88        2.88        2.88        2.88   \n\n                               2016-05-22  \nid                                         \nHOBBIES_1_001_CA_1_validation        8.38  \nHOBBIES_1_002_CA_1_validation        3.97  \nHOBBIES_1_003_CA_1_validation        2.97  \nHOBBIES_1_004_CA_1_validation        4.64  \nHOBBIES_1_005_CA_1_validation        2.88  \n\n[5 rows x 847 columns]",
      "text/html": "<div>\n<style scoped>\n    .dataframe tbody tr th:only-of-type {\n        vertical-align: middle;\n    }\n\n    .dataframe tbody tr th {\n        vertical-align: top;\n    }\n\n    .dataframe thead th {\n        text-align: right;\n    }\n</style>\n<table border=\"1\" class=\"dataframe\">\n  <thead>\n    <tr style=\"text-align: right;\">\n      <th></th>\n      <th>2014-01-27</th>\n      <th>2014-01-28</th>\n      <th>2014-01-29</th>\n      <th>2014-01-30</th>\n      <th>2014-01-31</th>\n      <th>2014-02-01</th>\n      <th>2014-02-02</th>\n      <th>2014-02-03</th>\n      <th>2014-02-04</th>\n      <th>2014-02-05</th>\n      <th>...</th>\n      <th>2016-05-13</th>\n      <th>2016-05-14</th>\n      <th>2016-05-15</th>\n      <th>2016-05-16</th>\n      <th>2016-05-17</th>\n      <th>2016-05-18</th>\n      <th>2016-05-19</th>\n      <th>2016-05-20</th>\n      <th>2016-05-21</th>\n      <th>2016-05-22</th>\n    </tr>\n    <tr>\n      <th>id</th>\n      <th></th>\n      <th></th>\n      <th></th>\n      <th></th>\n      <th></th>\n      <th></th>\n      <th></th>\n      <th></th>\n      <th></th>\n      <th></th>\n      <th></th>\n      <th></th>\n      <th></th>\n      <th></th>\n      <th></th>\n      <th></th>\n      <th></th>\n      <th></th>\n      <th></th>\n      <th></th>\n      <th></th>\n    </tr>\n  </thead>\n  <tbody>\n    <tr>\n      <th>HOBBIES_1_001_CA_1_validation</th>\n      <td>8.26</td>\n      <td>8.26</td>\n      <td>8.26</td>\n      <td>8.26</td>\n      <td>8.26</td>\n      <td>8.26</td>\n      <td>8.26</td>\n      <td>8.26</td>\n      <td>8.26</td>\n      <td>8.26</td>\n      <td>...</td>\n      <td>8.38</td>\n      <td>8.38</td>\n      <td>8.38</td>\n      <td>8.38</td>\n      <td>8.38</td>\n      <td>8.38</td>\n      <td>8.38</td>\n      <td>8.38</td>\n      <td>8.38</td>\n      <td>8.38</td>\n    </tr>\n    <tr>\n      <th>HOBBIES_1_002_CA_1_validation</th>\n      <td>3.97</td>\n      <td>3.97</td>\n      <td>3.97</td>\n      <td>3.97</td>\n      <td>3.97</td>\n      <td>3.97</td>\n      <td>3.97</td>\n      <td>3.97</td>\n      <td>3.97</td>\n      <td>3.97</td>\n      <td>...</td>\n      <td>3.97</td>\n      <td>3.97</td>\n      <td>3.97</td>\n      <td>3.97</td>\n      <td>3.97</td>\n      <td>3.97</td>\n      <td>3.97</td>\n      <td>3.97</td>\n      <td>3.97</td>\n      <td>3.97</td>\n    </tr>\n    <tr>\n      <th>HOBBIES_1_003_CA_1_validation</th>\n      <td>NaN</td>\n      <td>NaN</td>\n      <td>NaN</td>\n      <td>NaN</td>\n      <td>NaN</td>\n      <td>2.97</td>\n      <td>2.97</td>\n      <td>2.97</td>\n      <td>2.97</td>\n      <td>2.97</td>\n      <td>...</td>\n      <td>2.97</td>\n      <td>2.97</td>\n      <td>2.97</td>\n      <td>2.97</td>\n      <td>2.97</td>\n      <td>2.97</td>\n      <td>2.97</td>\n      <td>2.97</td>\n      <td>2.97</td>\n      <td>2.97</td>\n    </tr>\n    <tr>\n      <th>HOBBIES_1_004_CA_1_validation</th>\n      <td>4.64</td>\n      <td>4.64</td>\n      <td>4.64</td>\n      <td>4.64</td>\n      <td>4.64</td>\n      <td>4.64</td>\n      <td>4.64</td>\n      <td>4.64</td>\n      <td>4.64</td>\n      <td>4.64</td>\n      <td>...</td>\n      <td>4.64</td>\n      <td>4.64</td>\n      <td>4.64</td>\n      <td>4.64</td>\n      <td>4.64</td>\n      <td>4.64</td>\n      <td>4.64</td>\n      <td>4.64</td>\n      <td>4.64</td>\n      <td>4.64</td>\n    </tr>\n    <tr>\n      <th>HOBBIES_1_005_CA_1_validation</th>\n      <td>3.08</td>\n      <td>3.08</td>\n      <td>3.08</td>\n      <td>3.08</td>\n      <td>3.08</td>\n      <td>3.08</td>\n      <td>3.08</td>\n      <td>3.08</td>\n      <td>3.08</td>\n      <td>3.08</td>\n      <td>...</td>\n      <td>2.88</td>\n      <td>2.88</td>\n      <td>2.88</td>\n      <td>2.88</td>\n      <td>2.88</td>\n      <td>2.88</td>\n      <td>2.88</td>\n      <td>2.88</td>\n      <td>2.88</td>\n      <td>2.88</td>\n    </tr>\n  </tbody>\n</table>\n<p>5 rows × 847 columns</p>\n</div>"
     },
     "metadata": {},
     "execution_count": 63
    }
   ],
   "source": [
    "price_df = train_sales.merge(df, on=['id'], how= 'left').iloc[:,-len(df.columns):]\n",
    "price_df.index = train_sales.id\n",
    "price_df.head()\n",
    "#train salesに値段の移り変わりをのデータをjoinした。"
   ]
  },
  {
   "cell_type": "code",
   "execution_count": 64,
   "metadata": {},
   "outputs": [
    {
     "output_type": "stream",
     "name": "stdout",
     "text": "Mem. usage decreased to 49.49 Mb (74.9% reduction)\n"
    }
   ],
   "source": [
    "price_df = reduce_mem_usage(price_df)"
   ]
  },
  {
   "cell_type": "code",
   "execution_count": 65,
   "metadata": {},
   "outputs": [
    {
     "output_type": "stream",
     "name": "stdout",
     "text": "Mem. usage decreased to 49.49 Mb (74.9% reduction)\n"
    }
   ],
   "source": [
    "df = reduce_mem_usage(df)"
   ]
  },
  {
   "cell_type": "code",
   "execution_count": 34,
   "metadata": {},
   "outputs": [],
   "source": [
    "def min_max(df):\n",
    "    return (df-df.mean())/df.std()  #scale"
   ]
  },
  {
   "cell_type": "code",
   "execution_count": 35,
   "metadata": {},
   "outputs": [],
   "source": [
    "def Normalize(list):\n",
    "    list = np.array(list)\n",
    "    #配列の状態から行列に変換\n",
    "    low, high = np.percentile(list, [0, 100])#todo ここの細かい動きが追えていない\n",
    "    delta = high - low\n",
    "    if delta != 0:\n",
    "        for i in range(0, len(list)):\n",
    "            list[i] = (list[i]-low)/delta\n",
    "    return  list,low,high\n",
    "#[0 1]に変換\n",
    "\n",
    "def FNoramlize(list,low,high):\n",
    "    delta = high - low\n",
    "    if delta != 0:\n",
    "        for i in range(0, len(list)):\n",
    "            list[i] = list[i]*delta + low\n",
    "    return list\n",
    "#normalizeされた値を元に戻す\n",
    "\n",
    "def Normalize2(list,low,high):\n",
    "    list = np.array(list)\n",
    "    delta = high - low\n",
    "    if delta != 0:\n",
    "        for i in range(0, len(list)):\n",
    "            list[i] = (list[i]-low)/delta\n",
    "    return  list"
   ]
  },
  {
   "cell_type": "markdown",
   "metadata": {},
   "source": [
    "以下訓練データ生成"
   ]
  },
  {
   "cell_type": "code",
   "execution_count": 59,
   "metadata": {},
   "outputs": [
    {
     "output_type": "execute_result",
     "data": {
      "text/plain": "           date  wm_yr_wk weekday  wday  month  year       d  event_name_1  \\\n1940 2016-05-22     11617  Sunday     2      5  2016  d_1941            30   \n\n      event_type_1  event_name_2  event_type_2  snap_CA  snap_TX  snap_WI  \n1940             4             2             2        0        0        0  ",
      "text/html": "<div>\n<style scoped>\n    .dataframe tbody tr th:only-of-type {\n        vertical-align: middle;\n    }\n\n    .dataframe tbody tr th {\n        vertical-align: top;\n    }\n\n    .dataframe thead th {\n        text-align: right;\n    }\n</style>\n<table border=\"1\" class=\"dataframe\">\n  <thead>\n    <tr style=\"text-align: right;\">\n      <th></th>\n      <th>date</th>\n      <th>wm_yr_wk</th>\n      <th>weekday</th>\n      <th>wday</th>\n      <th>month</th>\n      <th>year</th>\n      <th>d</th>\n      <th>event_name_1</th>\n      <th>event_type_1</th>\n      <th>event_name_2</th>\n      <th>event_type_2</th>\n      <th>snap_CA</th>\n      <th>snap_TX</th>\n      <th>snap_WI</th>\n    </tr>\n  </thead>\n  <tbody>\n    <tr>\n      <th>1940</th>\n      <td>2016-05-22</td>\n      <td>11617</td>\n      <td>Sunday</td>\n      <td>2</td>\n      <td>5</td>\n      <td>2016</td>\n      <td>d_1941</td>\n      <td>30</td>\n      <td>4</td>\n      <td>2</td>\n      <td>2</td>\n      <td>0</td>\n      <td>0</td>\n      <td>0</td>\n    </tr>\n  </tbody>\n</table>\n</div>"
     },
     "metadata": {},
     "execution_count": 59
    }
   ],
   "source": [
    "calendar.loc[calendar[\"d\"] == \"d_1941\"]"
   ]
  },
  {
   "cell_type": "code",
   "execution_count": 39,
   "metadata": {},
   "outputs": [
    {
     "output_type": "execute_result",
     "data": {
      "text/plain": "2014-01-27    4167\n2014-01-28    4167\n2014-01-29    4167\n2014-01-30    4167\n2014-01-31    4167\n              ... \n2016-06-15       0\n2016-06-16       0\n2016-06-17       0\n2016-06-18       0\n2016-06-19       0\nLength: 875, dtype: int64"
     },
     "metadata": {},
     "execution_count": 39
    }
   ],
   "source": [
    "#price_df.isnull().sum()"
   ]
  },
  {
   "cell_type": "code",
   "execution_count": 40,
   "metadata": {},
   "outputs": [
    {
     "output_type": "execute_result",
     "data": {
      "text/plain": "                               2014-01-27  2014-01-28  2014-01-29  2014-01-30  \\\nid                                                                              \nHOBBIES_1_001_CA_1_validation    8.257812    8.257812    8.257812    8.257812   \nHOBBIES_1_002_CA_1_validation    3.970703    3.970703    3.970703    3.970703   \nHOBBIES_1_003_CA_1_validation    0.000000    0.000000    0.000000    0.000000   \nHOBBIES_1_004_CA_1_validation    4.640625    4.640625    4.640625    4.640625   \nHOBBIES_1_005_CA_1_validation    3.080078    3.080078    3.080078    3.080078   \n...                                   ...         ...         ...         ...   \nFOODS_3_823_WI_3_validation      2.500000    2.500000    2.500000    2.500000   \nFOODS_3_824_WI_3_validation      2.679688    2.679688    2.679688    2.679688   \nFOODS_3_825_WI_3_validation      3.980469    3.980469    3.980469    3.980469   \nFOODS_3_826_WI_3_validation      1.280273    1.280273    1.280273    1.280273   \nFOODS_3_827_WI_3_validation      0.000000    0.000000    0.000000    0.000000   \n\n                               2014-01-31  2014-02-01  2014-02-02  2014-02-03  \\\nid                                                                              \nHOBBIES_1_001_CA_1_validation    8.257812    8.257812    8.257812    8.257812   \nHOBBIES_1_002_CA_1_validation    3.970703    3.970703    3.970703    3.970703   \nHOBBIES_1_003_CA_1_validation    0.000000    2.970703    2.970703    2.970703   \nHOBBIES_1_004_CA_1_validation    4.640625    4.640625    4.640625    4.640625   \nHOBBIES_1_005_CA_1_validation    3.080078    3.080078    3.080078    3.080078   \n...                                   ...         ...         ...         ...   \nFOODS_3_823_WI_3_validation      2.500000    2.880859    2.880859    2.880859   \nFOODS_3_824_WI_3_validation      2.679688    2.679688    2.679688    2.679688   \nFOODS_3_825_WI_3_validation      3.980469    3.980469    3.980469    3.980469   \nFOODS_3_826_WI_3_validation      1.280273    1.280273    1.280273    1.280273   \nFOODS_3_827_WI_3_validation      0.000000    0.000000    0.000000    0.000000   \n\n                               2014-02-04  2014-02-05  ...  2016-06-10  \\\nid                                                     ...               \nHOBBIES_1_001_CA_1_validation    8.257812    8.257812  ...    8.382812   \nHOBBIES_1_002_CA_1_validation    3.970703    3.970703  ...    3.970703   \nHOBBIES_1_003_CA_1_validation    2.970703    2.970703  ...    2.970703   \nHOBBIES_1_004_CA_1_validation    4.640625    4.640625  ...    4.640625   \nHOBBIES_1_005_CA_1_validation    3.080078    3.080078  ...    2.880859   \n...                                   ...         ...  ...         ...   \nFOODS_3_823_WI_3_validation      2.880859    2.880859  ...    2.980469   \nFOODS_3_824_WI_3_validation      2.679688    2.679688  ...    2.480469   \nFOODS_3_825_WI_3_validation      3.980469    3.980469  ...    3.980469   \nFOODS_3_826_WI_3_validation      1.280273    1.280273  ...    1.280273   \nFOODS_3_827_WI_3_validation      0.000000    0.000000  ...    1.000000   \n\n                               2016-06-11  2016-06-12  2016-06-13  2016-06-14  \\\nid                                                                              \nHOBBIES_1_001_CA_1_validation    8.382812    8.382812    8.382812    8.382812   \nHOBBIES_1_002_CA_1_validation    3.970703    3.970703    3.970703    3.970703   \nHOBBIES_1_003_CA_1_validation    2.970703    2.970703    2.970703    2.970703   \nHOBBIES_1_004_CA_1_validation    4.640625    4.640625    4.640625    4.640625   \nHOBBIES_1_005_CA_1_validation    2.880859    2.880859    2.880859    2.880859   \n...                                   ...         ...         ...         ...   \nFOODS_3_823_WI_3_validation      2.980469    2.980469    2.980469    2.980469   \nFOODS_3_824_WI_3_validation      2.480469    2.480469    2.480469    2.480469   \nFOODS_3_825_WI_3_validation      3.980469    3.980469    3.980469    3.980469   \nFOODS_3_826_WI_3_validation      1.280273    1.280273    1.280273    1.280273   \nFOODS_3_827_WI_3_validation      1.000000    1.000000    1.000000    1.000000   \n\n                               2016-06-15  2016-06-16  2016-06-17  2016-06-18  \\\nid                                                                              \nHOBBIES_1_001_CA_1_validation    8.382812    8.382812    8.382812    8.382812   \nHOBBIES_1_002_CA_1_validation    3.970703    3.970703    3.970703    3.970703   \nHOBBIES_1_003_CA_1_validation    2.970703    2.970703    2.970703    2.970703   \nHOBBIES_1_004_CA_1_validation    4.640625    4.640625    4.640625    4.640625   \nHOBBIES_1_005_CA_1_validation    2.880859    2.880859    2.880859    2.880859   \n...                                   ...         ...         ...         ...   \nFOODS_3_823_WI_3_validation      2.980469    2.980469    2.980469    2.980469   \nFOODS_3_824_WI_3_validation      2.480469    2.480469    2.480469    2.480469   \nFOODS_3_825_WI_3_validation      3.980469    3.980469    3.980469    3.980469   \nFOODS_3_826_WI_3_validation      1.280273    1.280273    1.280273    1.280273   \nFOODS_3_827_WI_3_validation      1.000000    1.000000    1.000000    1.000000   \n\n                               2016-06-19  \nid                                         \nHOBBIES_1_001_CA_1_validation    8.382812  \nHOBBIES_1_002_CA_1_validation    3.970703  \nHOBBIES_1_003_CA_1_validation    2.970703  \nHOBBIES_1_004_CA_1_validation    4.640625  \nHOBBIES_1_005_CA_1_validation    2.880859  \n...                                   ...  \nFOODS_3_823_WI_3_validation      2.980469  \nFOODS_3_824_WI_3_validation      2.480469  \nFOODS_3_825_WI_3_validation      3.980469  \nFOODS_3_826_WI_3_validation      1.280273  \nFOODS_3_827_WI_3_validation      1.000000  \n\n[30490 rows x 875 columns]",
      "text/html": "<div>\n<style scoped>\n    .dataframe tbody tr th:only-of-type {\n        vertical-align: middle;\n    }\n\n    .dataframe tbody tr th {\n        vertical-align: top;\n    }\n\n    .dataframe thead th {\n        text-align: right;\n    }\n</style>\n<table border=\"1\" class=\"dataframe\">\n  <thead>\n    <tr style=\"text-align: right;\">\n      <th></th>\n      <th>2014-01-27</th>\n      <th>2014-01-28</th>\n      <th>2014-01-29</th>\n      <th>2014-01-30</th>\n      <th>2014-01-31</th>\n      <th>2014-02-01</th>\n      <th>2014-02-02</th>\n      <th>2014-02-03</th>\n      <th>2014-02-04</th>\n      <th>2014-02-05</th>\n      <th>...</th>\n      <th>2016-06-10</th>\n      <th>2016-06-11</th>\n      <th>2016-06-12</th>\n      <th>2016-06-13</th>\n      <th>2016-06-14</th>\n      <th>2016-06-15</th>\n      <th>2016-06-16</th>\n      <th>2016-06-17</th>\n      <th>2016-06-18</th>\n      <th>2016-06-19</th>\n    </tr>\n    <tr>\n      <th>id</th>\n      <th></th>\n      <th></th>\n      <th></th>\n      <th></th>\n      <th></th>\n      <th></th>\n      <th></th>\n      <th></th>\n      <th></th>\n      <th></th>\n      <th></th>\n      <th></th>\n      <th></th>\n      <th></th>\n      <th></th>\n      <th></th>\n      <th></th>\n      <th></th>\n      <th></th>\n      <th></th>\n      <th></th>\n    </tr>\n  </thead>\n  <tbody>\n    <tr>\n      <th>HOBBIES_1_001_CA_1_validation</th>\n      <td>8.257812</td>\n      <td>8.257812</td>\n      <td>8.257812</td>\n      <td>8.257812</td>\n      <td>8.257812</td>\n      <td>8.257812</td>\n      <td>8.257812</td>\n      <td>8.257812</td>\n      <td>8.257812</td>\n      <td>8.257812</td>\n      <td>...</td>\n      <td>8.382812</td>\n      <td>8.382812</td>\n      <td>8.382812</td>\n      <td>8.382812</td>\n      <td>8.382812</td>\n      <td>8.382812</td>\n      <td>8.382812</td>\n      <td>8.382812</td>\n      <td>8.382812</td>\n      <td>8.382812</td>\n    </tr>\n    <tr>\n      <th>HOBBIES_1_002_CA_1_validation</th>\n      <td>3.970703</td>\n      <td>3.970703</td>\n      <td>3.970703</td>\n      <td>3.970703</td>\n      <td>3.970703</td>\n      <td>3.970703</td>\n      <td>3.970703</td>\n      <td>3.970703</td>\n      <td>3.970703</td>\n      <td>3.970703</td>\n      <td>...</td>\n      <td>3.970703</td>\n      <td>3.970703</td>\n      <td>3.970703</td>\n      <td>3.970703</td>\n      <td>3.970703</td>\n      <td>3.970703</td>\n      <td>3.970703</td>\n      <td>3.970703</td>\n      <td>3.970703</td>\n      <td>3.970703</td>\n    </tr>\n    <tr>\n      <th>HOBBIES_1_003_CA_1_validation</th>\n      <td>0.000000</td>\n      <td>0.000000</td>\n      <td>0.000000</td>\n      <td>0.000000</td>\n      <td>0.000000</td>\n      <td>2.970703</td>\n      <td>2.970703</td>\n      <td>2.970703</td>\n      <td>2.970703</td>\n      <td>2.970703</td>\n      <td>...</td>\n      <td>2.970703</td>\n      <td>2.970703</td>\n      <td>2.970703</td>\n      <td>2.970703</td>\n      <td>2.970703</td>\n      <td>2.970703</td>\n      <td>2.970703</td>\n      <td>2.970703</td>\n      <td>2.970703</td>\n      <td>2.970703</td>\n    </tr>\n    <tr>\n      <th>HOBBIES_1_004_CA_1_validation</th>\n      <td>4.640625</td>\n      <td>4.640625</td>\n      <td>4.640625</td>\n      <td>4.640625</td>\n      <td>4.640625</td>\n      <td>4.640625</td>\n      <td>4.640625</td>\n      <td>4.640625</td>\n      <td>4.640625</td>\n      <td>4.640625</td>\n      <td>...</td>\n      <td>4.640625</td>\n      <td>4.640625</td>\n      <td>4.640625</td>\n      <td>4.640625</td>\n      <td>4.640625</td>\n      <td>4.640625</td>\n      <td>4.640625</td>\n      <td>4.640625</td>\n      <td>4.640625</td>\n      <td>4.640625</td>\n    </tr>\n    <tr>\n      <th>HOBBIES_1_005_CA_1_validation</th>\n      <td>3.080078</td>\n      <td>3.080078</td>\n      <td>3.080078</td>\n      <td>3.080078</td>\n      <td>3.080078</td>\n      <td>3.080078</td>\n      <td>3.080078</td>\n      <td>3.080078</td>\n      <td>3.080078</td>\n      <td>3.080078</td>\n      <td>...</td>\n      <td>2.880859</td>\n      <td>2.880859</td>\n      <td>2.880859</td>\n      <td>2.880859</td>\n      <td>2.880859</td>\n      <td>2.880859</td>\n      <td>2.880859</td>\n      <td>2.880859</td>\n      <td>2.880859</td>\n      <td>2.880859</td>\n    </tr>\n    <tr>\n      <th>...</th>\n      <td>...</td>\n      <td>...</td>\n      <td>...</td>\n      <td>...</td>\n      <td>...</td>\n      <td>...</td>\n      <td>...</td>\n      <td>...</td>\n      <td>...</td>\n      <td>...</td>\n      <td>...</td>\n      <td>...</td>\n      <td>...</td>\n      <td>...</td>\n      <td>...</td>\n      <td>...</td>\n      <td>...</td>\n      <td>...</td>\n      <td>...</td>\n      <td>...</td>\n      <td>...</td>\n    </tr>\n    <tr>\n      <th>FOODS_3_823_WI_3_validation</th>\n      <td>2.500000</td>\n      <td>2.500000</td>\n      <td>2.500000</td>\n      <td>2.500000</td>\n      <td>2.500000</td>\n      <td>2.880859</td>\n      <td>2.880859</td>\n      <td>2.880859</td>\n      <td>2.880859</td>\n      <td>2.880859</td>\n      <td>...</td>\n      <td>2.980469</td>\n      <td>2.980469</td>\n      <td>2.980469</td>\n      <td>2.980469</td>\n      <td>2.980469</td>\n      <td>2.980469</td>\n      <td>2.980469</td>\n      <td>2.980469</td>\n      <td>2.980469</td>\n      <td>2.980469</td>\n    </tr>\n    <tr>\n      <th>FOODS_3_824_WI_3_validation</th>\n      <td>2.679688</td>\n      <td>2.679688</td>\n      <td>2.679688</td>\n      <td>2.679688</td>\n      <td>2.679688</td>\n      <td>2.679688</td>\n      <td>2.679688</td>\n      <td>2.679688</td>\n      <td>2.679688</td>\n      <td>2.679688</td>\n      <td>...</td>\n      <td>2.480469</td>\n      <td>2.480469</td>\n      <td>2.480469</td>\n      <td>2.480469</td>\n      <td>2.480469</td>\n      <td>2.480469</td>\n      <td>2.480469</td>\n      <td>2.480469</td>\n      <td>2.480469</td>\n      <td>2.480469</td>\n    </tr>\n    <tr>\n      <th>FOODS_3_825_WI_3_validation</th>\n      <td>3.980469</td>\n      <td>3.980469</td>\n      <td>3.980469</td>\n      <td>3.980469</td>\n      <td>3.980469</td>\n      <td>3.980469</td>\n      <td>3.980469</td>\n      <td>3.980469</td>\n      <td>3.980469</td>\n      <td>3.980469</td>\n      <td>...</td>\n      <td>3.980469</td>\n      <td>3.980469</td>\n      <td>3.980469</td>\n      <td>3.980469</td>\n      <td>3.980469</td>\n      <td>3.980469</td>\n      <td>3.980469</td>\n      <td>3.980469</td>\n      <td>3.980469</td>\n      <td>3.980469</td>\n    </tr>\n    <tr>\n      <th>FOODS_3_826_WI_3_validation</th>\n      <td>1.280273</td>\n      <td>1.280273</td>\n      <td>1.280273</td>\n      <td>1.280273</td>\n      <td>1.280273</td>\n      <td>1.280273</td>\n      <td>1.280273</td>\n      <td>1.280273</td>\n      <td>1.280273</td>\n      <td>1.280273</td>\n      <td>...</td>\n      <td>1.280273</td>\n      <td>1.280273</td>\n      <td>1.280273</td>\n      <td>1.280273</td>\n      <td>1.280273</td>\n      <td>1.280273</td>\n      <td>1.280273</td>\n      <td>1.280273</td>\n      <td>1.280273</td>\n      <td>1.280273</td>\n    </tr>\n    <tr>\n      <th>FOODS_3_827_WI_3_validation</th>\n      <td>0.000000</td>\n      <td>0.000000</td>\n      <td>0.000000</td>\n      <td>0.000000</td>\n      <td>0.000000</td>\n      <td>0.000000</td>\n      <td>0.000000</td>\n      <td>0.000000</td>\n      <td>0.000000</td>\n      <td>0.000000</td>\n      <td>...</td>\n      <td>1.000000</td>\n      <td>1.000000</td>\n      <td>1.000000</td>\n      <td>1.000000</td>\n      <td>1.000000</td>\n      <td>1.000000</td>\n      <td>1.000000</td>\n      <td>1.000000</td>\n      <td>1.000000</td>\n      <td>1.000000</td>\n    </tr>\n  </tbody>\n</table>\n<p>30490 rows × 875 columns</p>\n</div>"
     },
     "metadata": {},
     "execution_count": 40
    }
   ],
   "source": [
    "#price_df.fillna(0)"
   ]
  },
  {
   "cell_type": "code",
   "execution_count": 41,
   "metadata": {},
   "outputs": [
    {
     "output_type": "execute_result",
     "data": {
      "text/plain": "                              id        item_id    dept_id   cat_id store_id  \\\n0  HOBBIES_1_001_CA_1_validation  HOBBIES_1_001  HOBBIES_1  HOBBIES     CA_1   \n1  HOBBIES_1_002_CA_1_validation  HOBBIES_1_002  HOBBIES_1  HOBBIES     CA_1   \n2  HOBBIES_1_003_CA_1_validation  HOBBIES_1_003  HOBBIES_1  HOBBIES     CA_1   \n3  HOBBIES_1_004_CA_1_validation  HOBBIES_1_004  HOBBIES_1  HOBBIES     CA_1   \n4  HOBBIES_1_005_CA_1_validation  HOBBIES_1_005  HOBBIES_1  HOBBIES     CA_1   \n\n  state_id  d_1  d_2  d_3  d_4  ...  d_1904  d_1905  d_1906  d_1907  d_1908  \\\n0       CA    0    0    0    0  ...       1       3       0       1       1   \n1       CA    0    0    0    0  ...       0       0       0       0       0   \n2       CA    0    0    0    0  ...       2       1       2       1       1   \n3       CA    0    0    0    0  ...       1       0       5       4       1   \n4       CA    0    0    0    0  ...       2       1       1       0       1   \n\n   d_1909  d_1910  d_1911  d_1912  d_1913  \n0       1       3       0       1       1  \n1       1       0       0       0       0  \n2       1       0       1       1       1  \n3       0       1       3       7       2  \n4       1       2       2       2       4  \n\n[5 rows x 1919 columns]",
      "text/html": "<div>\n<style scoped>\n    .dataframe tbody tr th:only-of-type {\n        vertical-align: middle;\n    }\n\n    .dataframe tbody tr th {\n        vertical-align: top;\n    }\n\n    .dataframe thead th {\n        text-align: right;\n    }\n</style>\n<table border=\"1\" class=\"dataframe\">\n  <thead>\n    <tr style=\"text-align: right;\">\n      <th></th>\n      <th>id</th>\n      <th>item_id</th>\n      <th>dept_id</th>\n      <th>cat_id</th>\n      <th>store_id</th>\n      <th>state_id</th>\n      <th>d_1</th>\n      <th>d_2</th>\n      <th>d_3</th>\n      <th>d_4</th>\n      <th>...</th>\n      <th>d_1904</th>\n      <th>d_1905</th>\n      <th>d_1906</th>\n      <th>d_1907</th>\n      <th>d_1908</th>\n      <th>d_1909</th>\n      <th>d_1910</th>\n      <th>d_1911</th>\n      <th>d_1912</th>\n      <th>d_1913</th>\n    </tr>\n  </thead>\n  <tbody>\n    <tr>\n      <th>0</th>\n      <td>HOBBIES_1_001_CA_1_validation</td>\n      <td>HOBBIES_1_001</td>\n      <td>HOBBIES_1</td>\n      <td>HOBBIES</td>\n      <td>CA_1</td>\n      <td>CA</td>\n      <td>0</td>\n      <td>0</td>\n      <td>0</td>\n      <td>0</td>\n      <td>...</td>\n      <td>1</td>\n      <td>3</td>\n      <td>0</td>\n      <td>1</td>\n      <td>1</td>\n      <td>1</td>\n      <td>3</td>\n      <td>0</td>\n      <td>1</td>\n      <td>1</td>\n    </tr>\n    <tr>\n      <th>1</th>\n      <td>HOBBIES_1_002_CA_1_validation</td>\n      <td>HOBBIES_1_002</td>\n      <td>HOBBIES_1</td>\n      <td>HOBBIES</td>\n      <td>CA_1</td>\n      <td>CA</td>\n      <td>0</td>\n      <td>0</td>\n      <td>0</td>\n      <td>0</td>\n      <td>...</td>\n      <td>0</td>\n      <td>0</td>\n      <td>0</td>\n      <td>0</td>\n      <td>0</td>\n      <td>1</td>\n      <td>0</td>\n      <td>0</td>\n      <td>0</td>\n      <td>0</td>\n    </tr>\n    <tr>\n      <th>2</th>\n      <td>HOBBIES_1_003_CA_1_validation</td>\n      <td>HOBBIES_1_003</td>\n      <td>HOBBIES_1</td>\n      <td>HOBBIES</td>\n      <td>CA_1</td>\n      <td>CA</td>\n      <td>0</td>\n      <td>0</td>\n      <td>0</td>\n      <td>0</td>\n      <td>...</td>\n      <td>2</td>\n      <td>1</td>\n      <td>2</td>\n      <td>1</td>\n      <td>1</td>\n      <td>1</td>\n      <td>0</td>\n      <td>1</td>\n      <td>1</td>\n      <td>1</td>\n    </tr>\n    <tr>\n      <th>3</th>\n      <td>HOBBIES_1_004_CA_1_validation</td>\n      <td>HOBBIES_1_004</td>\n      <td>HOBBIES_1</td>\n      <td>HOBBIES</td>\n      <td>CA_1</td>\n      <td>CA</td>\n      <td>0</td>\n      <td>0</td>\n      <td>0</td>\n      <td>0</td>\n      <td>...</td>\n      <td>1</td>\n      <td>0</td>\n      <td>5</td>\n      <td>4</td>\n      <td>1</td>\n      <td>0</td>\n      <td>1</td>\n      <td>3</td>\n      <td>7</td>\n      <td>2</td>\n    </tr>\n    <tr>\n      <th>4</th>\n      <td>HOBBIES_1_005_CA_1_validation</td>\n      <td>HOBBIES_1_005</td>\n      <td>HOBBIES_1</td>\n      <td>HOBBIES</td>\n      <td>CA_1</td>\n      <td>CA</td>\n      <td>0</td>\n      <td>0</td>\n      <td>0</td>\n      <td>0</td>\n      <td>...</td>\n      <td>2</td>\n      <td>1</td>\n      <td>1</td>\n      <td>0</td>\n      <td>1</td>\n      <td>1</td>\n      <td>2</td>\n      <td>2</td>\n      <td>2</td>\n      <td>4</td>\n    </tr>\n  </tbody>\n</table>\n<p>5 rows × 1919 columns</p>\n</div>"
     },
     "metadata": {},
     "execution_count": 41
    }
   ],
   "source": [
    "stv.head()"
   ]
  },
  {
   "cell_type": "code",
   "execution_count": 67,
   "metadata": {},
   "outputs": [],
   "source": [
    "# ste における、追加データ(d_1920~d_1941 は、評価用に残しておく(validation set. K-Foldするならまとめてもいいかも。))\n",
    "train_sales = stv\n",
    "train_sales[\"d\"] = pd.Series(np.arange(1, 1920))"
   ]
  },
  {
   "cell_type": "code",
   "execution_count": 54,
   "metadata": {},
   "outputs": [
    {
     "output_type": "execute_result",
     "data": {
      "text/plain": "0    1.0\n1    2.0\n2    3.0\n3    4.0\n4    5.0\nName: d, dtype: float64"
     },
     "metadata": {},
     "execution_count": 54
    }
   ],
   "source": [
    "train_sales[\"d\"].head()"
   ]
  },
  {
   "cell_type": "code",
   "execution_count": 68,
   "metadata": {},
   "outputs": [],
   "source": [
    "train_sales = stv.set_index(\"id\", drop=True).drop(columns=[\"item_id\", \"dept_id\", \"cat_id\", \"store_id\", \"state_id\"]).transpose()"
   ]
  },
  {
   "cell_type": "code",
   "execution_count": 71,
   "metadata": {},
   "outputs": [],
   "source": [
    "train_sales = train_sales.reset_index(drop=True)"
   ]
  },
  {
   "cell_type": "code",
   "execution_count": 76,
   "metadata": {},
   "outputs": [],
   "source": [
    "train_sales = train_sales.drop(columns=[\"index\"])"
   ]
  },
  {
   "cell_type": "code",
   "execution_count": 78,
   "metadata": {},
   "outputs": [
    {
     "output_type": "execute_result",
     "data": {
      "text/plain": "(1914, 30490)"
     },
     "metadata": {},
     "execution_count": 78
    }
   ],
   "source": [
    "train_sales.shape"
   ]
  },
  {
   "cell_type": "code",
   "execution_count": 88,
   "metadata": {},
   "outputs": [],
   "source": [
    "train_calendar = transfer_cal.transpose().drop(columns=[\"date\", \"d\"])"
   ]
  },
  {
   "cell_type": "code",
   "execution_count": 89,
   "metadata": {},
   "outputs": [
    {
     "output_type": "execute_result",
     "data": {
      "text/plain": "    event_name_1 event_type_1 event_name_2 event_type_2 snap_CA snap_TX  \\\n0             30            4            2            2       0       0   \n1             30            4            2            2       0       0   \n2             30            4            2            2       0       0   \n3             30            4            2            2       0       0   \n4             30            4            2            2       0       0   \n..           ...          ...          ...          ...     ...     ...   \n842           30            4            2            2       0       0   \n843           30            4            2            2       0       0   \n844           30            4            2            2       0       0   \n845           30            4            2            2       0       0   \n846           30            4            2            2       0       0   \n\n    snap_WI  \n0         0  \n1         0  \n2         0  \n3         0  \n4         0  \n..      ...  \n842       0  \n843       0  \n844       0  \n845       0  \n846       0  \n\n[847 rows x 7 columns]",
      "text/html": "<div>\n<style scoped>\n    .dataframe tbody tr th:only-of-type {\n        vertical-align: middle;\n    }\n\n    .dataframe tbody tr th {\n        vertical-align: top;\n    }\n\n    .dataframe thead th {\n        text-align: right;\n    }\n</style>\n<table border=\"1\" class=\"dataframe\">\n  <thead>\n    <tr style=\"text-align: right;\">\n      <th></th>\n      <th>event_name_1</th>\n      <th>event_type_1</th>\n      <th>event_name_2</th>\n      <th>event_type_2</th>\n      <th>snap_CA</th>\n      <th>snap_TX</th>\n      <th>snap_WI</th>\n    </tr>\n  </thead>\n  <tbody>\n    <tr>\n      <th>0</th>\n      <td>30</td>\n      <td>4</td>\n      <td>2</td>\n      <td>2</td>\n      <td>0</td>\n      <td>0</td>\n      <td>0</td>\n    </tr>\n    <tr>\n      <th>1</th>\n      <td>30</td>\n      <td>4</td>\n      <td>2</td>\n      <td>2</td>\n      <td>0</td>\n      <td>0</td>\n      <td>0</td>\n    </tr>\n    <tr>\n      <th>2</th>\n      <td>30</td>\n      <td>4</td>\n      <td>2</td>\n      <td>2</td>\n      <td>0</td>\n      <td>0</td>\n      <td>0</td>\n    </tr>\n    <tr>\n      <th>3</th>\n      <td>30</td>\n      <td>4</td>\n      <td>2</td>\n      <td>2</td>\n      <td>0</td>\n      <td>0</td>\n      <td>0</td>\n    </tr>\n    <tr>\n      <th>4</th>\n      <td>30</td>\n      <td>4</td>\n      <td>2</td>\n      <td>2</td>\n      <td>0</td>\n      <td>0</td>\n      <td>0</td>\n    </tr>\n    <tr>\n      <th>...</th>\n      <td>...</td>\n      <td>...</td>\n      <td>...</td>\n      <td>...</td>\n      <td>...</td>\n      <td>...</td>\n      <td>...</td>\n    </tr>\n    <tr>\n      <th>842</th>\n      <td>30</td>\n      <td>4</td>\n      <td>2</td>\n      <td>2</td>\n      <td>0</td>\n      <td>0</td>\n      <td>0</td>\n    </tr>\n    <tr>\n      <th>843</th>\n      <td>30</td>\n      <td>4</td>\n      <td>2</td>\n      <td>2</td>\n      <td>0</td>\n      <td>0</td>\n      <td>0</td>\n    </tr>\n    <tr>\n      <th>844</th>\n      <td>30</td>\n      <td>4</td>\n      <td>2</td>\n      <td>2</td>\n      <td>0</td>\n      <td>0</td>\n      <td>0</td>\n    </tr>\n    <tr>\n      <th>845</th>\n      <td>30</td>\n      <td>4</td>\n      <td>2</td>\n      <td>2</td>\n      <td>0</td>\n      <td>0</td>\n      <td>0</td>\n    </tr>\n    <tr>\n      <th>846</th>\n      <td>30</td>\n      <td>4</td>\n      <td>2</td>\n      <td>2</td>\n      <td>0</td>\n      <td>0</td>\n      <td>0</td>\n    </tr>\n  </tbody>\n</table>\n<p>847 rows × 7 columns</p>\n</div>"
     },
     "metadata": {},
     "execution_count": 89
    }
   ],
   "source": [
    "train_calendar"
   ]
  },
  {
   "cell_type": "code",
   "execution_count": 91,
   "metadata": {},
   "outputs": [],
   "source": [
    "train_sales_modified = train_sales[-847:].reset_index(drop=True)"
   ]
  },
  {
   "cell_type": "code",
   "execution_count": 56,
   "metadata": {},
   "outputs": [
    {
     "output_type": "execute_result",
     "data": {
      "text/plain": "                                  id        item_id    dept_id   cat_id  \\\n0      HOBBIES_1_001_CA_1_evaluation  HOBBIES_1_001  HOBBIES_1  HOBBIES   \n1      HOBBIES_1_002_CA_1_evaluation  HOBBIES_1_002  HOBBIES_1  HOBBIES   \n2      HOBBIES_1_003_CA_1_evaluation  HOBBIES_1_003  HOBBIES_1  HOBBIES   \n3      HOBBIES_1_004_CA_1_evaluation  HOBBIES_1_004  HOBBIES_1  HOBBIES   \n4      HOBBIES_1_005_CA_1_evaluation  HOBBIES_1_005  HOBBIES_1  HOBBIES   \n...                              ...            ...        ...      ...   \n30485    FOODS_3_823_WI_3_evaluation    FOODS_3_823    FOODS_3    FOODS   \n30486    FOODS_3_824_WI_3_evaluation    FOODS_3_824    FOODS_3    FOODS   \n30487    FOODS_3_825_WI_3_evaluation    FOODS_3_825    FOODS_3    FOODS   \n30488    FOODS_3_826_WI_3_evaluation    FOODS_3_826    FOODS_3    FOODS   \n30489    FOODS_3_827_WI_3_evaluation    FOODS_3_827    FOODS_3    FOODS   \n\n      store_id state_id  d_1  d_2  d_3  d_4  ...  d_1932  d_1933  d_1934  \\\n0         CA_1       CA    0    0    0    0  ...       2       4       0   \n1         CA_1       CA    0    0    0    0  ...       0       1       2   \n2         CA_1       CA    0    0    0    0  ...       1       0       2   \n3         CA_1       CA    0    0    0    0  ...       1       1       0   \n4         CA_1       CA    0    0    0    0  ...       0       0       0   \n...        ...      ...  ...  ...  ...  ...  ...     ...     ...     ...   \n30485     WI_3       WI    0    0    2    2  ...       1       0       3   \n30486     WI_3       WI    0    0    0    0  ...       0       0       0   \n30487     WI_3       WI    0    6    0    2  ...       0       0       1   \n30488     WI_3       WI    0    0    0    0  ...       1       1       1   \n30489     WI_3       WI    0    0    0    0  ...       1       2       0   \n\n       d_1935  d_1936  d_1937  d_1938  d_1939  d_1940  d_1941  \n0           0       0       0       3       3       0       1  \n1           1       1       0       0       0       0       0  \n2           0       0       0       2       3       0       1  \n3           4       0       1       3       0       2       6  \n4           2       1       0       0       2       1       0  \n...       ...     ...     ...     ...     ...     ...     ...  \n30485       0       1       1       0       0       1       1  \n30486       0       0       0       1       0       1       0  \n30487       2       0       1       0       1       0       2  \n30488       4       6       0       1       1       1       0  \n30489       5       4       0       2       2       5       1  \n\n[30490 rows x 1947 columns]",
      "text/html": "<div>\n<style scoped>\n    .dataframe tbody tr th:only-of-type {\n        vertical-align: middle;\n    }\n\n    .dataframe tbody tr th {\n        vertical-align: top;\n    }\n\n    .dataframe thead th {\n        text-align: right;\n    }\n</style>\n<table border=\"1\" class=\"dataframe\">\n  <thead>\n    <tr style=\"text-align: right;\">\n      <th></th>\n      <th>id</th>\n      <th>item_id</th>\n      <th>dept_id</th>\n      <th>cat_id</th>\n      <th>store_id</th>\n      <th>state_id</th>\n      <th>d_1</th>\n      <th>d_2</th>\n      <th>d_3</th>\n      <th>d_4</th>\n      <th>...</th>\n      <th>d_1932</th>\n      <th>d_1933</th>\n      <th>d_1934</th>\n      <th>d_1935</th>\n      <th>d_1936</th>\n      <th>d_1937</th>\n      <th>d_1938</th>\n      <th>d_1939</th>\n      <th>d_1940</th>\n      <th>d_1941</th>\n    </tr>\n  </thead>\n  <tbody>\n    <tr>\n      <th>0</th>\n      <td>HOBBIES_1_001_CA_1_evaluation</td>\n      <td>HOBBIES_1_001</td>\n      <td>HOBBIES_1</td>\n      <td>HOBBIES</td>\n      <td>CA_1</td>\n      <td>CA</td>\n      <td>0</td>\n      <td>0</td>\n      <td>0</td>\n      <td>0</td>\n      <td>...</td>\n      <td>2</td>\n      <td>4</td>\n      <td>0</td>\n      <td>0</td>\n      <td>0</td>\n      <td>0</td>\n      <td>3</td>\n      <td>3</td>\n      <td>0</td>\n      <td>1</td>\n    </tr>\n    <tr>\n      <th>1</th>\n      <td>HOBBIES_1_002_CA_1_evaluation</td>\n      <td>HOBBIES_1_002</td>\n      <td>HOBBIES_1</td>\n      <td>HOBBIES</td>\n      <td>CA_1</td>\n      <td>CA</td>\n      <td>0</td>\n      <td>0</td>\n      <td>0</td>\n      <td>0</td>\n      <td>...</td>\n      <td>0</td>\n      <td>1</td>\n      <td>2</td>\n      <td>1</td>\n      <td>1</td>\n      <td>0</td>\n      <td>0</td>\n      <td>0</td>\n      <td>0</td>\n      <td>0</td>\n    </tr>\n    <tr>\n      <th>2</th>\n      <td>HOBBIES_1_003_CA_1_evaluation</td>\n      <td>HOBBIES_1_003</td>\n      <td>HOBBIES_1</td>\n      <td>HOBBIES</td>\n      <td>CA_1</td>\n      <td>CA</td>\n      <td>0</td>\n      <td>0</td>\n      <td>0</td>\n      <td>0</td>\n      <td>...</td>\n      <td>1</td>\n      <td>0</td>\n      <td>2</td>\n      <td>0</td>\n      <td>0</td>\n      <td>0</td>\n      <td>2</td>\n      <td>3</td>\n      <td>0</td>\n      <td>1</td>\n    </tr>\n    <tr>\n      <th>3</th>\n      <td>HOBBIES_1_004_CA_1_evaluation</td>\n      <td>HOBBIES_1_004</td>\n      <td>HOBBIES_1</td>\n      <td>HOBBIES</td>\n      <td>CA_1</td>\n      <td>CA</td>\n      <td>0</td>\n      <td>0</td>\n      <td>0</td>\n      <td>0</td>\n      <td>...</td>\n      <td>1</td>\n      <td>1</td>\n      <td>0</td>\n      <td>4</td>\n      <td>0</td>\n      <td>1</td>\n      <td>3</td>\n      <td>0</td>\n      <td>2</td>\n      <td>6</td>\n    </tr>\n    <tr>\n      <th>4</th>\n      <td>HOBBIES_1_005_CA_1_evaluation</td>\n      <td>HOBBIES_1_005</td>\n      <td>HOBBIES_1</td>\n      <td>HOBBIES</td>\n      <td>CA_1</td>\n      <td>CA</td>\n      <td>0</td>\n      <td>0</td>\n      <td>0</td>\n      <td>0</td>\n      <td>...</td>\n      <td>0</td>\n      <td>0</td>\n      <td>0</td>\n      <td>2</td>\n      <td>1</td>\n      <td>0</td>\n      <td>0</td>\n      <td>2</td>\n      <td>1</td>\n      <td>0</td>\n    </tr>\n    <tr>\n      <th>...</th>\n      <td>...</td>\n      <td>...</td>\n      <td>...</td>\n      <td>...</td>\n      <td>...</td>\n      <td>...</td>\n      <td>...</td>\n      <td>...</td>\n      <td>...</td>\n      <td>...</td>\n      <td>...</td>\n      <td>...</td>\n      <td>...</td>\n      <td>...</td>\n      <td>...</td>\n      <td>...</td>\n      <td>...</td>\n      <td>...</td>\n      <td>...</td>\n      <td>...</td>\n      <td>...</td>\n    </tr>\n    <tr>\n      <th>30485</th>\n      <td>FOODS_3_823_WI_3_evaluation</td>\n      <td>FOODS_3_823</td>\n      <td>FOODS_3</td>\n      <td>FOODS</td>\n      <td>WI_3</td>\n      <td>WI</td>\n      <td>0</td>\n      <td>0</td>\n      <td>2</td>\n      <td>2</td>\n      <td>...</td>\n      <td>1</td>\n      <td>0</td>\n      <td>3</td>\n      <td>0</td>\n      <td>1</td>\n      <td>1</td>\n      <td>0</td>\n      <td>0</td>\n      <td>1</td>\n      <td>1</td>\n    </tr>\n    <tr>\n      <th>30486</th>\n      <td>FOODS_3_824_WI_3_evaluation</td>\n      <td>FOODS_3_824</td>\n      <td>FOODS_3</td>\n      <td>FOODS</td>\n      <td>WI_3</td>\n      <td>WI</td>\n      <td>0</td>\n      <td>0</td>\n      <td>0</td>\n      <td>0</td>\n      <td>...</td>\n      <td>0</td>\n      <td>0</td>\n      <td>0</td>\n      <td>0</td>\n      <td>0</td>\n      <td>0</td>\n      <td>1</td>\n      <td>0</td>\n      <td>1</td>\n      <td>0</td>\n    </tr>\n    <tr>\n      <th>30487</th>\n      <td>FOODS_3_825_WI_3_evaluation</td>\n      <td>FOODS_3_825</td>\n      <td>FOODS_3</td>\n      <td>FOODS</td>\n      <td>WI_3</td>\n      <td>WI</td>\n      <td>0</td>\n      <td>6</td>\n      <td>0</td>\n      <td>2</td>\n      <td>...</td>\n      <td>0</td>\n      <td>0</td>\n      <td>1</td>\n      <td>2</td>\n      <td>0</td>\n      <td>1</td>\n      <td>0</td>\n      <td>1</td>\n      <td>0</td>\n      <td>2</td>\n    </tr>\n    <tr>\n      <th>30488</th>\n      <td>FOODS_3_826_WI_3_evaluation</td>\n      <td>FOODS_3_826</td>\n      <td>FOODS_3</td>\n      <td>FOODS</td>\n      <td>WI_3</td>\n      <td>WI</td>\n      <td>0</td>\n      <td>0</td>\n      <td>0</td>\n      <td>0</td>\n      <td>...</td>\n      <td>1</td>\n      <td>1</td>\n      <td>1</td>\n      <td>4</td>\n      <td>6</td>\n      <td>0</td>\n      <td>1</td>\n      <td>1</td>\n      <td>1</td>\n      <td>0</td>\n    </tr>\n    <tr>\n      <th>30489</th>\n      <td>FOODS_3_827_WI_3_evaluation</td>\n      <td>FOODS_3_827</td>\n      <td>FOODS_3</td>\n      <td>FOODS</td>\n      <td>WI_3</td>\n      <td>WI</td>\n      <td>0</td>\n      <td>0</td>\n      <td>0</td>\n      <td>0</td>\n      <td>...</td>\n      <td>1</td>\n      <td>2</td>\n      <td>0</td>\n      <td>5</td>\n      <td>4</td>\n      <td>0</td>\n      <td>2</td>\n      <td>2</td>\n      <td>5</td>\n      <td>1</td>\n    </tr>\n  </tbody>\n</table>\n<p>30490 rows × 1947 columns</p>\n</div>"
     },
     "metadata": {},
     "execution_count": 56
    }
   ],
   "source": [
    "ste"
   ]
  },
  {
   "cell_type": "code",
   "execution_count": 121,
   "metadata": {},
   "outputs": [],
   "source": [
    "def train_data_generator(feature, cal):\n",
    "    \"\"\"\n",
    "    6/7 未完成\n",
    "    for文の中にもう一つfor文を作成し、\n",
    "    所望の長さ(シーケンス)のデータをジェネレートするようにしたい\n",
    "    \n",
    "    -> 別のセルで、keras用のgeneratorクラスを作成することにした。\n",
    "    これ自体は、トレーニングデータ作成に使えるので残す。\n",
    "\n",
    "    feature: データ点列 × データ数のデータフレーム\n",
    "    cal: カレンダーのデータフレーム\n",
    "\n",
    "    引数は特徴量を追加した段階で足すかもしれない。\n",
    "\n",
    "    \"\"\"\n",
    "\n",
    "    length = feature.shape[1]\n",
    "    columns = feature.columns\n",
    "    for i in range(0, length):\n",
    "        feature_df =  pd.concat([cal.reset_index(drop=True), feature[columns[i]]], axis=1)\n",
    "        yield feature_df"
   ]
  },
  {
   "cell_type": "code",
   "execution_count": 122,
   "metadata": {},
   "outputs": [],
   "source": [
    "# Train sales modified に price のデータが付加されていない。\n",
    "tdg = train_data_generator(train_sales_modified, train_calendar)"
   ]
  },
  {
   "cell_type": "code",
   "execution_count": 123,
   "metadata": {},
   "outputs": [],
   "source": [
    "OUTPUT_PATH = \".\\\\datas\\\\training_datas\\\\\"\n",
    "for i, df in enumerate(tdg):\n",
    "    df.to_csv(OUTPUT_PATH + \"train_data\" + str(i) + \".csv\", index=False)"
   ]
  },
  {
   "cell_type": "markdown",
   "metadata": {},
   "source": [
    "ここまででデータ作成しているので、以下ジェネレータでファイルを読み込むところからスタート可<br />\n",
    "※ price のデータを結合し忘れた。やり直し。"
   ]
  },
  {
   "cell_type": "code",
   "execution_count": 124,
   "metadata": {},
   "outputs": [],
   "source": [
    "NUM_ITEMS = 30490\n",
    "OUTPUT_PATH = \".\\\\datas\\\\training_datas\\\\\"\n",
    "\n",
    "def train_data_from_csv_generator(num=NUM_ITEMS):\n",
    "    for i in range(NUM_ITEMS):\n",
    "        df = pd.read_csv(OUTPUT_PATH + \"train_data\" + str(i) +\".csv\")\n",
    "        yield df\n",
    "\n"
   ]
  },
  {
   "cell_type": "code",
   "execution_count": 125,
   "metadata": {},
   "outputs": [],
   "source": [
    "train_generator = train_data_from_csv_generator(num=10) "
   ]
  },
  {
   "cell_type": "code",
   "execution_count": 126,
   "metadata": {},
   "outputs": [
    {
     "output_type": "execute_result",
     "data": {
      "text/plain": "     event_name_1  event_type_1  event_name_2  event_type_2  snap_CA  snap_TX  \\\n0              30             4             2             2        0        0   \n1              30             4             2             2        0        0   \n2              30             4             2             2        0        0   \n3              30             4             2             2        0        0   \n4              30             4             2             2        0        0   \n..            ...           ...           ...           ...      ...      ...   \n842            30             4             2             2        0        0   \n843            30             4             2             2        0        0   \n844            30             4             2             2        0        0   \n845            30             4             2             2        0        0   \n846            30             4             2             2        0        0   \n\n     snap_WI  HOBBIES_1_001_CA_1_validation  \n0          0                            0.0  \n1          0                            1.0  \n2          0                            1.0  \n3          0                            0.0  \n4          0                            0.0  \n..       ...                            ...  \n842        0                            3.0  \n843        0                            0.0  \n844        0                            1.0  \n845        0                            1.0  \n846        0                            1.0  \n\n[847 rows x 8 columns]",
      "text/html": "<div>\n<style scoped>\n    .dataframe tbody tr th:only-of-type {\n        vertical-align: middle;\n    }\n\n    .dataframe tbody tr th {\n        vertical-align: top;\n    }\n\n    .dataframe thead th {\n        text-align: right;\n    }\n</style>\n<table border=\"1\" class=\"dataframe\">\n  <thead>\n    <tr style=\"text-align: right;\">\n      <th></th>\n      <th>event_name_1</th>\n      <th>event_type_1</th>\n      <th>event_name_2</th>\n      <th>event_type_2</th>\n      <th>snap_CA</th>\n      <th>snap_TX</th>\n      <th>snap_WI</th>\n      <th>HOBBIES_1_001_CA_1_validation</th>\n    </tr>\n  </thead>\n  <tbody>\n    <tr>\n      <th>0</th>\n      <td>30</td>\n      <td>4</td>\n      <td>2</td>\n      <td>2</td>\n      <td>0</td>\n      <td>0</td>\n      <td>0</td>\n      <td>0.0</td>\n    </tr>\n    <tr>\n      <th>1</th>\n      <td>30</td>\n      <td>4</td>\n      <td>2</td>\n      <td>2</td>\n      <td>0</td>\n      <td>0</td>\n      <td>0</td>\n      <td>1.0</td>\n    </tr>\n    <tr>\n      <th>2</th>\n      <td>30</td>\n      <td>4</td>\n      <td>2</td>\n      <td>2</td>\n      <td>0</td>\n      <td>0</td>\n      <td>0</td>\n      <td>1.0</td>\n    </tr>\n    <tr>\n      <th>3</th>\n      <td>30</td>\n      <td>4</td>\n      <td>2</td>\n      <td>2</td>\n      <td>0</td>\n      <td>0</td>\n      <td>0</td>\n      <td>0.0</td>\n    </tr>\n    <tr>\n      <th>4</th>\n      <td>30</td>\n      <td>4</td>\n      <td>2</td>\n      <td>2</td>\n      <td>0</td>\n      <td>0</td>\n      <td>0</td>\n      <td>0.0</td>\n    </tr>\n    <tr>\n      <th>...</th>\n      <td>...</td>\n      <td>...</td>\n      <td>...</td>\n      <td>...</td>\n      <td>...</td>\n      <td>...</td>\n      <td>...</td>\n      <td>...</td>\n    </tr>\n    <tr>\n      <th>842</th>\n      <td>30</td>\n      <td>4</td>\n      <td>2</td>\n      <td>2</td>\n      <td>0</td>\n      <td>0</td>\n      <td>0</td>\n      <td>3.0</td>\n    </tr>\n    <tr>\n      <th>843</th>\n      <td>30</td>\n      <td>4</td>\n      <td>2</td>\n      <td>2</td>\n      <td>0</td>\n      <td>0</td>\n      <td>0</td>\n      <td>0.0</td>\n    </tr>\n    <tr>\n      <th>844</th>\n      <td>30</td>\n      <td>4</td>\n      <td>2</td>\n      <td>2</td>\n      <td>0</td>\n      <td>0</td>\n      <td>0</td>\n      <td>1.0</td>\n    </tr>\n    <tr>\n      <th>845</th>\n      <td>30</td>\n      <td>4</td>\n      <td>2</td>\n      <td>2</td>\n      <td>0</td>\n      <td>0</td>\n      <td>0</td>\n      <td>1.0</td>\n    </tr>\n    <tr>\n      <th>846</th>\n      <td>30</td>\n      <td>4</td>\n      <td>2</td>\n      <td>2</td>\n      <td>0</td>\n      <td>0</td>\n      <td>0</td>\n      <td>1.0</td>\n    </tr>\n  </tbody>\n</table>\n<p>847 rows × 8 columns</p>\n</div>"
     },
     "metadata": {},
     "execution_count": 126
    }
   ],
   "source": [
    "next(train_generator)"
   ]
  },
  {
   "cell_type": "code",
   "execution_count": null,
   "metadata": {},
   "outputs": [],
   "source": []
  }
 ],
 "metadata": {
  "language_info": {
   "codemirror_mode": {
    "name": "ipython",
    "version": 3
   },
   "file_extension": ".py",
   "mimetype": "text/x-python",
   "name": "python",
   "nbconvert_exporter": "python",
   "pygments_lexer": "ipython3",
   "version": "3.7.5-final"
  },
  "orig_nbformat": 2,
  "kernelspec": {
   "name": "envforml",
   "display_name": "EnvForML"
  }
 },
 "nbformat": 4,
 "nbformat_minor": 2
}