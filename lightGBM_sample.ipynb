{
  "nbformat": 4,
  "nbformat_minor": 0,
  "metadata": {
    "colab": {
      "name": "LSTM_flow.ipynb",
      "provenance": [],
      "collapsed_sections": [],
      "toc_visible": true,
      "include_colab_link": true
    },
    "kernelspec": {
      "name": "python3",
      "display_name": "Python 3"
    },
    "accelerator": "TPU"
  },
  "cells": [
    {
      "cell_type": "markdown",
      "metadata": {
        "id": "view-in-github",
        "colab_type": "text"
      },
      "source": [
        "<a href=\"https://colab.research.google.com/github/kaggler-KyotoUni/kaggle-m5forecasting/blob/chopprin_branch/lightGBM_sample.ipynb\" target=\"_parent\"><img src=\"https://colab.research.google.com/assets/colab-badge.svg\" alt=\"Open In Colab\"/></a>"
      ]
    },
    {
      "cell_type": "code",
      "metadata": {
        "id": "hlY0Lhaz8XQW",
        "colab_type": "code",
        "colab": {
          "base_uri": "https://localhost:8080/",
          "height": 109
        },
        "outputId": "d37df7db-1803-4136-d944-df633badc5b5"
      },
      "source": [
        "%load_ext autoreload\n",
        "import pandas as pd \n",
        "pd.set_option('display.max_columns', 500)\n",
        "pd.set_option('display.max_rows', 500)\n",
        "import numpy as np \n",
        "\n",
        "import matplotlib.pyplot as plt \n",
        "plt.rc('figure',figsize=[10.0, 3.0])\n",
        "\n",
        "import seaborn as sns; sns.set()\n",
        "import os\n",
        "import glob\n",
        "from tqdm import tqdm\n",
        "import warnings\n",
        "warnings.filterwarnings('ignore')\n",
        "\n",
        "from itertools import cycle\n",
        "pd.set_option('max_columns', 50)\n",
        "plt.style.use('bmh')\n",
        "color_cycle = cycle(plt.rcParams['axes.prop_cycle'].by_key()['color'])\n",
        "\n",
        "# メモリ解放の為\n",
        "import gc\n",
        "\n",
        "from google.colab import drive\n",
        "drive.mount('/content/drive')\n",
        "\n",
        "import tensorflow as tf \n",
        "tf.__version__\n",
        "\n",
        "# データは1回しか読み込みしなくてもgoogle colab上に移したほうが速いとの事\n",
        "!mkdir \"/content/data/\"\n",
        "!cp -r \"/content/drive/My Drive/kaggle/data/m5-forecasting\" \"/content/data/\" \n",
        "# moduleはgoogle driveにおいとく\n",
        "# !mkdir \"/content/module/\"\n",
        "# !cp -r \"/content/drive/My Drive/kaggle/module\" \"/content/module/\""
      ],
      "execution_count": 2,
      "outputs": [
        {
          "output_type": "stream",
          "text": [
            "/usr/local/lib/python3.6/dist-packages/statsmodels/tools/_testing.py:19: FutureWarning: pandas.util.testing is deprecated. Use the functions in the public API at pandas.testing instead.\n",
            "  import pandas.util.testing as tm\n"
          ],
          "name": "stderr"
        },
        {
          "output_type": "stream",
          "text": [
            "Drive already mounted at /content/drive; to attempt to forcibly remount, call drive.mount(\"/content/drive\", force_remount=True).\n",
            "mkdir: cannot create directory ‘/content/data/’: File exists\n"
          ],
          "name": "stdout"
        }
      ]
    },
    {
      "cell_type": "code",
      "metadata": {
        "id": "0U8q0q_5Wq22",
        "colab_type": "code",
        "colab": {
          "base_uri": "https://localhost:8080/",
          "height": 35
        },
        "outputId": "12989336-d1bc-45a9-9325-d051ab9fd678"
      },
      "source": [
        "!ls"
      ],
      "execution_count": 3,
      "outputs": [
        {
          "output_type": "stream",
          "text": [
            "data  drive  sample_data\n"
          ],
          "name": "stdout"
        }
      ]
    },
    {
      "cell_type": "code",
      "metadata": {
        "id": "KxUFjobHltme",
        "colab_type": "code",
        "colab": {
          "base_uri": "https://localhost:8080/",
          "height": 35
        },
        "outputId": "38909cfc-b2f2-43c1-f4d5-50f59cdf9b8b"
      },
      "source": [
        "%autoreload\n",
        "%cd \"/content/drive/My Drive/kaggle/module/\"\n",
        "import load_data as ld\n",
        "import eda_data as ed"
      ],
      "execution_count": 4,
      "outputs": [
        {
          "output_type": "stream",
          "text": [
            "/content/drive/My Drive/kaggle/module\n"
          ],
          "name": "stdout"
        }
      ]
    },
    {
      "cell_type": "code",
      "metadata": {
        "id": "Socfd1QaMjz7",
        "colab_type": "code",
        "colab": {
          "base_uri": "https://localhost:8080/",
          "height": 161
        },
        "outputId": "e4cbc8db-e7c1-4d87-9e6e-18efe4c1c5e0"
      },
      "source": [
        "cal, stv, ste, ss, sellp = ld.read_data(\"/content/data/m5-forecasting/\")\n",
        "print(\"Read finished\")\n",
        "print(\"@@@@@@@@@@@@@@@@@@\")\n",
        "\n",
        "csv_list = [cal, stv, ss]\n",
        "#csv_list = [cal, stv, ste, ss, sellp]\n",
        "\n",
        "for i, csv in enumerate(tqdm(csv_list)):\n",
        "    csv_list[i] = ld.reduce_mem_usage(csv)\n",
        "print(\"Memory usage reduced\")\n",
        "print(\"@@@@@@@@@@@@@@@@@@\")"
      ],
      "execution_count": 25,
      "outputs": [
        {
          "output_type": "stream",
          "text": [
            "\r  0%|          | 0/3 [00:00<?, ?it/s]"
          ],
          "name": "stderr"
        },
        {
          "output_type": "stream",
          "text": [
            "Read finished\n",
            "@@@@@@@@@@@@@@@@@@\n",
            "Mem. usage decreased to  0.12 Mb (41.9% reduction)\n"
          ],
          "name": "stdout"
        },
        {
          "output_type": "stream",
          "text": [
            "100%|██████████| 3/3 [02:02<00:00, 40.92s/it]"
          ],
          "name": "stderr"
        },
        {
          "output_type": "stream",
          "text": [
            "Mem. usage decreased to 95.00 Mb (78.7% reduction)\n",
            "Mem. usage decreased to  2.09 Mb (84.5% reduction)\n",
            "Memory usage reduced\n",
            "@@@@@@@@@@@@@@@@@@\n"
          ],
          "name": "stdout"
        },
        {
          "output_type": "stream",
          "text": [
            "\n"
          ],
          "name": "stderr"
        }
      ]
    },
    {
      "cell_type": "code",
      "metadata": {
        "id": "jTJAzFi9WHIm",
        "colab_type": "code",
        "colab": {
          "base_uri": "https://localhost:8080/",
          "height": 35
        },
        "outputId": "2f34b9d1-0919-4886-fc98-0f011bffd09d"
      },
      "source": [
        "for i, csv in enumerate(tqdm(csv_list)):\n",
        "    csv_list[i] = csv.fillna(0)"
      ],
      "execution_count": 26,
      "outputs": [
        {
          "output_type": "stream",
          "text": [
            "100%|██████████| 3/3 [00:00<00:00, 17.25it/s]\n"
          ],
          "name": "stderr"
        }
      ]
    },
    {
      "cell_type": "code",
      "metadata": {
        "id": "eFfyxWkOMjd3",
        "colab_type": "code",
        "colab": {
          "base_uri": "https://localhost:8080/",
          "height": 89
        },
        "outputId": "cc4d6c94-8dcf-4a4e-ed47-8ba7d83b526b"
      },
      "source": [
        "# 1969日分 × イベントの情報14feature\n",
        "print(\"calender shape : {}\".format(cal.shape))\n",
        "\n",
        "# wm_yr_wk違いで6841121個のデータ × sell_priceの情報4feature\n",
        "print(\"sell_prices shape : {}\".format(sellp.shape))\n",
        "\n",
        "# 30490種類の商品　× 1919日のデータ \n",
        "print(\"sales_train_val shape : {}\".format(stv.shape))\n",
        "\n",
        "# 60980種類の商品 × 29日分のデータ\n",
        "print(\"submission shape : {}\".format(ss.shape))"
      ],
      "execution_count": 7,
      "outputs": [
        {
          "output_type": "stream",
          "text": [
            "calender shape : (1969, 14)\n",
            "sell_prices shape : (6841121, 4)\n",
            "sales_train_val shape : (30490, 1919)\n",
            "submission shape : (60980, 29)\n"
          ],
          "name": "stdout"
        }
      ]
    },
    {
      "cell_type": "code",
      "metadata": {
        "id": "4NOtKdhWR65C",
        "colab_type": "code",
        "colab": {}
      },
      "source": [
        "# 予測期間とitem数の定義 / number of items, and number of prediction period\n",
        "NUM_ITEMS = stv.shape[0]  # 30490\n",
        "DAYS_PRED = ss.shape[1] - 1  # 28"
      ],
      "execution_count": 8,
      "outputs": []
    },
    {
      "cell_type": "code",
      "metadata": {
        "id": "mll995fJSNJo",
        "colab_type": "code",
        "colab": {}
      },
      "source": [
        ""
      ],
      "execution_count": 9,
      "outputs": []
    },
    {
      "cell_type": "markdown",
      "metadata": {
        "id": "fNVA5va2Omss",
        "colab_type": "text"
      },
      "source": [
        "EDA\n",
        "- ある日（x）まで売上が0の時がある\n",
        "- x日以降も売れない日は存在する"
      ]
    },
    {
      "cell_type": "code",
      "metadata": {
        "id": "SoQ4Ou4Mo370",
        "colab_type": "code",
        "colab": {}
      },
      "source": [
        "nrows = 365 * 2 * NUM_ITEMS\n",
        "nrows = 100"
      ],
      "execution_count": 9,
      "outputs": []
    },
    {
      "cell_type": "code",
      "metadata": {
        "id": "xsq0sb6epTyV",
        "colab_type": "code",
        "colab": {}
      },
      "source": [
        "# tidy（整然）なテーブルにする\n",
        "c = pd.melt(stv[0:nrows], id_vars = [\"id\", \"item_id\", \"dept_id\", \"cat_id\", \"store_id\", \"state_id\"], var_name = \"day\", value_name = \"demand\")"
      ],
      "execution_count": 10,
      "outputs": []
    },
    {
      "cell_type": "code",
      "metadata": {
        "id": "lC5yArymvsa4",
        "colab_type": "code",
        "colab": {
          "base_uri": "https://localhost:8080/",
          "height": 35
        },
        "outputId": "2f75065f-2ca2-477b-d3c6-072bedbb72a3"
      },
      "source": [
        "# demandに欠損値はあるか\n",
        "c[\"demand\"].isnull().sum()"
      ],
      "execution_count": 11,
      "outputs": [
        {
          "output_type": "execute_result",
          "data": {
            "text/plain": [
              "0"
            ]
          },
          "metadata": {
            "tags": []
          },
          "execution_count": 11
        }
      ]
    },
    {
      "cell_type": "code",
      "metadata": {
        "id": "GUKo1B5iqBkr",
        "colab_type": "code",
        "colab": {
          "base_uri": "https://localhost:8080/",
          "height": 225
        },
        "outputId": "9cd4fb95-1520-4bac-ea1c-d65ef59e28a4"
      },
      "source": [
        "c[c[\"id\"] == c[\"id\"].unique()[0]][\"demand\"].plot()"
      ],
      "execution_count": 12,
      "outputs": [
        {
          "output_type": "execute_result",
          "data": {
            "text/plain": [
              "<matplotlib.axes._subplots.AxesSubplot at 0x7f7ffedcbe10>"
            ]
          },
          "metadata": {
            "tags": []
          },
          "execution_count": 12
        },
        {
          "output_type": "display_data",
          "data": {
            "image/png": "[encoded data removed]",
            "text/plain": [
              "<Figure size 720x216 with 1 Axes>"
            ]
          },
          "metadata": {
            "tags": []
          }
        }
      ]
    },
    {
      "cell_type": "code",
      "metadata": {
        "id": "8DzpJ4eiw5yW",
        "colab_type": "code",
        "colab": {}
      },
      "source": [
        ""
      ],
      "execution_count": null,
      "outputs": []
    },
    {
      "cell_type": "code",
      "metadata": {
        "id": "awdJZjV8w6bg",
        "colab_type": "code",
        "colab": {}
      },
      "source": [
        ""
      ],
      "execution_count": null,
      "outputs": []
    },
    {
      "cell_type": "markdown",
      "metadata": {
        "id": "JaxSyGIXw6-q",
        "colab_type": "text"
      },
      "source": [
        "validationとevaluationに分けて処理する\n",
        "今回はvalidationはstvにくっつけて，evaluationの所は_validationという名前をつけて予測"
      ]
    },
    {
      "cell_type": "code",
      "metadata": {
        "id": "fPhNmA6p0IrR",
        "colab_type": "code",
        "colab": {}
      },
      "source": [
        "product = stv[[\"id\", \"item_id\", \"dept_id\", \"cat_id\", \"store_id\", \"state_id\"]].drop_duplicates()"
      ],
      "execution_count": 13,
      "outputs": []
    },
    {
      "cell_type": "code",
      "metadata": {
        "id": "o4Vj0zC5xHJg",
        "colab_type": "code",
        "colab": {}
      },
      "source": [
        "validation = [row for row in ss[\"id\"] if \"validation\" in row]\n",
        "test1_rows = ss[\"id\"].isin(validation)\n",
        "\n",
        "evaluation = [row for row in ss[\"id\"] if \"validation\" in row]\n",
        "test2_rows = ss[\"id\"].isin(evaluation)\n",
        "\n",
        "test1 = ss[test1_rows]\n",
        "test2 = ss[test2_rows]\n",
        "\n",
        "# 左結合は元データのtest側を重視\n",
        "test1 = test1.merge(product, how = \"left\", on = \"id\")\n",
        "test2 = test2.merge(product, how = \"left\", on = \"id\")\n",
        "\n",
        "test2[\"id\"] = test2[\"id\"].str.replace(\"_evaluation\", \"_validation\")\n",
        "\n",
        "# 評価用のデータに対して商品の情報を与えてあげる\n",
        "test1 = pd.melt(test1, id_vars = \"id\", var_name = \"day\", value_name = \"demand\")\n",
        "test2 = pd.melt(test1, id_vars = \"id\", var_name = \"day\", value_name = \"demand\")\n",
        "\n",
        "# [\"part\"]という変数を作る\n",
        "stv['part'] = 'train'\n",
        "test1[\"part\"] = \"test1\"\n",
        "test2[\"part\"] = \"test2\"\n",
        "\n",
        "d = pd.concat([c, test1, test2], axis = 0)"
      ],
      "execution_count": 14,
      "outputs": []
    },
    {
      "cell_type": "code",
      "metadata": {
        "id": "mG-MyN-FycXK",
        "colab_type": "code",
        "colab": {
          "base_uri": "https://localhost:8080/",
          "height": 35
        },
        "outputId": "39d89015-2228-4b59-ae03-0589220fb9f7"
      },
      "source": [
        "# ゴミメモリ回収\n",
        "gc.collect()"
      ],
      "execution_count": 15,
      "outputs": [
        {
          "output_type": "execute_result",
          "data": {
            "text/plain": [
              "0"
            ]
          },
          "metadata": {
            "tags": []
          },
          "execution_count": 15
        }
      ]
    },
    {
      "cell_type": "code",
      "metadata": {
        "id": "AVD4CTEjwAMd",
        "colab_type": "code",
        "colab": {}
      },
      "source": [
        ""
      ],
      "execution_count": null,
      "outputs": []
    },
    {
      "cell_type": "markdown",
      "metadata": {
        "id": "lYiuj3rw35pA",
        "colab_type": "text"
      },
      "source": [
        "dataにcalenderとsell_priceを結合"
      ]
    },
    {
      "cell_type": "code",
      "metadata": {
        "id": "85TrBHGC5pca",
        "colab_type": "code",
        "colab": {
          "base_uri": "https://localhost:8080/",
          "height": 53
        },
        "outputId": "e8f6bbcc-ff04-4385-ef98-d21d29ce3421"
      },
      "source": [
        "# \"date\"のdatetime型から復元出来るデータは落としておく\n",
        "\n",
        "#calendarの結合\n",
        "# drop some calendar features(不要な変数の削除:weekdayやwdayなどはdatetime変数から後ほど作成できる。)\n",
        "cal.drop(['weekday', 'wday', 'month', 'year'], \n",
        "              inplace = True, axis = 1)\n",
        "\n",
        "# notebook crash with the entire dataset (maybee use tensorflow, dask, pyspark xD)(dayとdをキーにdataに結合)\n",
        "data = pd.merge(d, cal, how = 'left', left_on = ['day'], right_on = ['d'])\n",
        "data.drop(['d', 'day'], inplace = True, axis = 1)\n",
        "\n",
        "# memoryの開放\n",
        "del  cal\n",
        "gc.collect()\n",
        "\n",
        "#sell priceの結合\n",
        "# get the sell price data (this feature should be very important)\n",
        "data = data.merge(sellp, on = ['store_id', 'item_id', 'wm_yr_wk'], how = 'left')\n",
        "print('Our final dataset to train has {} rows and {} columns'.format(data.shape[0], data.shape[1]))\n",
        "\n",
        "# memoryの開放\n",
        "del  sellp\n",
        "gc.collect()"
      ],
      "execution_count": 28,
      "outputs": [
        {
          "output_type": "stream",
          "text": [
            "Our final dataset to train has 3209810 rows and 18 columns\n"
          ],
          "name": "stdout"
        },
        {
          "output_type": "execute_result",
          "data": {
            "text/plain": [
              "0"
            ]
          },
          "metadata": {
            "tags": []
          },
          "execution_count": 28
        }
      ]
    },
    {
      "cell_type": "code",
      "metadata": {
        "id": "8BzdAvj--k0C",
        "colab_type": "code",
        "colab": {
          "base_uri": "https://localhost:8080/",
          "height": 238
        },
        "outputId": "dd1f0ed0-a848-4203-92d1-540dc2cea855"
      },
      "source": [
        "sellp[sellp[\"item_id\"] == \"HOBBIES_1_001\"][\"sell_price\"].plot()"
      ],
      "execution_count": 21,
      "outputs": [
        {
          "output_type": "execute_result",
          "data": {
            "text/plain": [
              "<matplotlib.axes._subplots.AxesSubplot at 0x7f7ffed96898>"
            ]
          },
          "metadata": {
            "tags": []
          },
          "execution_count": 21
        },
        {
          "output_type": "display_data",
          "data": {
            "image/png": "[encoded data removed]",
            "text/plain": [
              "<Figure size 720x216 with 1 Axes>"
            ]
          },
          "metadata": {
            "tags": []
          }
        }
      ]
    },
    {
      "cell_type": "code",
      "metadata": {
        "id": "7jqagrc7-kcO",
        "colab_type": "code",
        "colab": {}
      },
      "source": [
        ""
      ],
      "execution_count": null,
      "outputs": []
    },
    {
      "cell_type": "markdown",
      "metadata": {
        "id": "iBPChU_hAXrM",
        "colab_type": "text"
      },
      "source": [
        "特徴量の生成\n",
        "（移動平均をここに入れる）"
      ]
    },
    {
      "cell_type": "code",
      "metadata": {
        "id": "PcqsfF2B-j7v",
        "colab_type": "code",
        "colab": {}
      },
      "source": [
        ""
      ],
      "execution_count": null,
      "outputs": []
    },
    {
      "cell_type": "code",
      "metadata": {
        "id": "hitdkC-y8ihb",
        "colab_type": "code",
        "colab": {}
      },
      "source": [
        ""
      ],
      "execution_count": null,
      "outputs": []
    },
    {
      "cell_type": "code",
      "metadata": {
        "id": "VmVNqLHJ5bPL",
        "colab_type": "code",
        "colab": {}
      },
      "source": [
        ""
      ],
      "execution_count": null,
      "outputs": []
    },
    {
      "cell_type": "markdown",
      "metadata": {
        "id": "NuJ5sxIZA9gB",
        "colab_type": "text"
      },
      "source": [
        "LightGBMをここで回す"
      ]
    },
    {
      "cell_type": "code",
      "metadata": {
        "id": "MZz-cNh1v_gt",
        "colab_type": "code",
        "colab": {}
      },
      "source": [
        "# going to evaluate with the last 28 days\n",
        "x_train = data[data['date'] <= '2016-03-27']\n",
        "y_train = x_train['demand']\n",
        "x_val = data[(data['date'] > '2016-03-27') & (data['date'] <= '2016-04-24')]\n",
        "y_val = x_val['demand']\n",
        "test = data[(data['date'] > '2016-04-24')]"
      ],
      "execution_count": 99,
      "outputs": []
    },
    {
      "cell_type": "code",
      "metadata": {
        "id": "U_pUc7nyBBDb",
        "colab_type": "code",
        "colab": {}
      },
      "source": [
        "# もうちょっとスマートに書けるはず\n",
        "categorical_features = [\n",
        "    \"item_id\", \n",
        "    \"dept_id\", \n",
        "    \"cat_id\",\n",
        "    \"store_id\",\n",
        "    \"state_id\",\n",
        "    \"event_name_1\",\n",
        "    \"event_type_1\",\n",
        "    \"event_name_2\",\n",
        "    \"event_type_2\"]\n",
        "\n",
        "x_train[categorical_features] = x_train[categorical_features].fillna(\"0\")\n",
        "\n",
        "other_features = [\"demand\", \"snap_CA\", \"snap_TX\", \"snap_WI\", \"sell_price\"]\n",
        "\n",
        "x_train[other_features] = x_train[other_features].fillna(0)"
      ],
      "execution_count": 100,
      "outputs": []
    },
    {
      "cell_type": "code",
      "metadata": {
        "id": "xsp8ulAfDQh4",
        "colab_type": "code",
        "colab": {}
      },
      "source": [
        "x_train = ed.encode_categorical(x_train, categorical_features)"
      ],
      "execution_count": 101,
      "outputs": []
    },
    {
      "cell_type": "code",
      "metadata": {
        "id": "_GVEerCxEmms",
        "colab_type": "code",
        "colab": {}
      },
      "source": [
        ""
      ],
      "execution_count": 101,
      "outputs": []
    },
    {
      "cell_type": "code",
      "metadata": {
        "id": "xxKiOfsmFSH2",
        "colab_type": "code",
        "colab": {
          "base_uri": "https://localhost:8080/",
          "height": 609
        },
        "outputId": "5035ce11-ff05-4cd0-9c9f-20a16ebf948e"
      },
      "source": [
        "x_train"
      ],
      "execution_count": 102,
      "outputs": [
        {
          "output_type": "execute_result",
          "data": {
            "text/html": [
              "<div>\n",
              "<style scoped>\n",
              "    .dataframe tbody tr th:only-of-type {\n",
              "        vertical-align: middle;\n",
              "    }\n",
              "\n",
              "    .dataframe tbody tr th {\n",
              "        vertical-align: top;\n",
              "    }\n",
              "\n",
              "    .dataframe thead th {\n",
              "        text-align: right;\n",
              "    }\n",
              "</style>\n",
              "<table border=\"1\" class=\"dataframe\">\n",
              "  <thead>\n",
              "    <tr style=\"text-align: right;\">\n",
              "      <th></th>\n",
              "      <th>id</th>\n",
              "      <th>item_id</th>\n",
              "      <th>dept_id</th>\n",
              "      <th>cat_id</th>\n",
              "      <th>store_id</th>\n",
              "      <th>state_id</th>\n",
              "      <th>demand</th>\n",
              "      <th>part</th>\n",
              "      <th>date</th>\n",
              "      <th>wm_yr_wk</th>\n",
              "      <th>event_name_1</th>\n",
              "      <th>event_type_1</th>\n",
              "      <th>event_name_2</th>\n",
              "      <th>event_type_2</th>\n",
              "      <th>snap_CA</th>\n",
              "      <th>snap_TX</th>\n",
              "      <th>snap_WI</th>\n",
              "      <th>sell_price</th>\n",
              "    </tr>\n",
              "  </thead>\n",
              "  <tbody>\n",
              "    <tr>\n",
              "      <th>0</th>\n",
              "      <td>HOBBIES_1_001_CA_1_validation</td>\n",
              "      <td>0</td>\n",
              "      <td>0</td>\n",
              "      <td>0</td>\n",
              "      <td>0</td>\n",
              "      <td>0</td>\n",
              "      <td>0</td>\n",
              "      <td>NaN</td>\n",
              "      <td>2011-01-29</td>\n",
              "      <td>11101.0</td>\n",
              "      <td>0</td>\n",
              "      <td>0</td>\n",
              "      <td>0</td>\n",
              "      <td>0</td>\n",
              "      <td>0.0</td>\n",
              "      <td>0.0</td>\n",
              "      <td>0.0</td>\n",
              "      <td>0.00</td>\n",
              "    </tr>\n",
              "    <tr>\n",
              "      <th>1</th>\n",
              "      <td>HOBBIES_1_002_CA_1_validation</td>\n",
              "      <td>1</td>\n",
              "      <td>0</td>\n",
              "      <td>0</td>\n",
              "      <td>0</td>\n",
              "      <td>0</td>\n",
              "      <td>0</td>\n",
              "      <td>NaN</td>\n",
              "      <td>2011-01-29</td>\n",
              "      <td>11101.0</td>\n",
              "      <td>0</td>\n",
              "      <td>0</td>\n",
              "      <td>0</td>\n",
              "      <td>0</td>\n",
              "      <td>0.0</td>\n",
              "      <td>0.0</td>\n",
              "      <td>0.0</td>\n",
              "      <td>0.00</td>\n",
              "    </tr>\n",
              "    <tr>\n",
              "      <th>2</th>\n",
              "      <td>HOBBIES_1_003_CA_1_validation</td>\n",
              "      <td>2</td>\n",
              "      <td>0</td>\n",
              "      <td>0</td>\n",
              "      <td>0</td>\n",
              "      <td>0</td>\n",
              "      <td>0</td>\n",
              "      <td>NaN</td>\n",
              "      <td>2011-01-29</td>\n",
              "      <td>11101.0</td>\n",
              "      <td>0</td>\n",
              "      <td>0</td>\n",
              "      <td>0</td>\n",
              "      <td>0</td>\n",
              "      <td>0.0</td>\n",
              "      <td>0.0</td>\n",
              "      <td>0.0</td>\n",
              "      <td>0.00</td>\n",
              "    </tr>\n",
              "    <tr>\n",
              "      <th>3</th>\n",
              "      <td>HOBBIES_1_004_CA_1_validation</td>\n",
              "      <td>3</td>\n",
              "      <td>0</td>\n",
              "      <td>0</td>\n",
              "      <td>0</td>\n",
              "      <td>0</td>\n",
              "      <td>0</td>\n",
              "      <td>NaN</td>\n",
              "      <td>2011-01-29</td>\n",
              "      <td>11101.0</td>\n",
              "      <td>0</td>\n",
              "      <td>0</td>\n",
              "      <td>0</td>\n",
              "      <td>0</td>\n",
              "      <td>0.0</td>\n",
              "      <td>0.0</td>\n",
              "      <td>0.0</td>\n",
              "      <td>0.00</td>\n",
              "    </tr>\n",
              "    <tr>\n",
              "      <th>4</th>\n",
              "      <td>HOBBIES_1_005_CA_1_validation</td>\n",
              "      <td>4</td>\n",
              "      <td>0</td>\n",
              "      <td>0</td>\n",
              "      <td>0</td>\n",
              "      <td>0</td>\n",
              "      <td>0</td>\n",
              "      <td>NaN</td>\n",
              "      <td>2011-01-29</td>\n",
              "      <td>11101.0</td>\n",
              "      <td>0</td>\n",
              "      <td>0</td>\n",
              "      <td>0</td>\n",
              "      <td>0</td>\n",
              "      <td>0.0</td>\n",
              "      <td>0.0</td>\n",
              "      <td>0.0</td>\n",
              "      <td>0.00</td>\n",
              "    </tr>\n",
              "    <tr>\n",
              "      <th>...</th>\n",
              "      <td>...</td>\n",
              "      <td>...</td>\n",
              "      <td>...</td>\n",
              "      <td>...</td>\n",
              "      <td>...</td>\n",
              "      <td>...</td>\n",
              "      <td>...</td>\n",
              "      <td>...</td>\n",
              "      <td>...</td>\n",
              "      <td>...</td>\n",
              "      <td>...</td>\n",
              "      <td>...</td>\n",
              "      <td>...</td>\n",
              "      <td>...</td>\n",
              "      <td>...</td>\n",
              "      <td>...</td>\n",
              "      <td>...</td>\n",
              "      <td>...</td>\n",
              "    </tr>\n",
              "    <tr>\n",
              "      <th>188495</th>\n",
              "      <td>HOBBIES_1_099_CA_1_validation</td>\n",
              "      <td>95</td>\n",
              "      <td>0</td>\n",
              "      <td>0</td>\n",
              "      <td>0</td>\n",
              "      <td>0</td>\n",
              "      <td>2</td>\n",
              "      <td>NaN</td>\n",
              "      <td>2016-03-27</td>\n",
              "      <td>11609.0</td>\n",
              "      <td>5</td>\n",
              "      <td>1</td>\n",
              "      <td>0</td>\n",
              "      <td>0</td>\n",
              "      <td>0.0</td>\n",
              "      <td>0.0</td>\n",
              "      <td>0.0</td>\n",
              "      <td>13.98</td>\n",
              "    </tr>\n",
              "    <tr>\n",
              "      <th>188496</th>\n",
              "      <td>HOBBIES_1_100_CA_1_validation</td>\n",
              "      <td>96</td>\n",
              "      <td>0</td>\n",
              "      <td>0</td>\n",
              "      <td>0</td>\n",
              "      <td>0</td>\n",
              "      <td>1</td>\n",
              "      <td>NaN</td>\n",
              "      <td>2016-03-27</td>\n",
              "      <td>11609.0</td>\n",
              "      <td>5</td>\n",
              "      <td>1</td>\n",
              "      <td>0</td>\n",
              "      <td>0</td>\n",
              "      <td>0.0</td>\n",
              "      <td>0.0</td>\n",
              "      <td>0.0</td>\n",
              "      <td>11.28</td>\n",
              "    </tr>\n",
              "    <tr>\n",
              "      <th>188497</th>\n",
              "      <td>HOBBIES_1_102_CA_1_validation</td>\n",
              "      <td>97</td>\n",
              "      <td>0</td>\n",
              "      <td>0</td>\n",
              "      <td>0</td>\n",
              "      <td>0</td>\n",
              "      <td>0</td>\n",
              "      <td>NaN</td>\n",
              "      <td>2016-03-27</td>\n",
              "      <td>11609.0</td>\n",
              "      <td>5</td>\n",
              "      <td>1</td>\n",
              "      <td>0</td>\n",
              "      <td>0</td>\n",
              "      <td>0.0</td>\n",
              "      <td>0.0</td>\n",
              "      <td>0.0</td>\n",
              "      <td>4.98</td>\n",
              "    </tr>\n",
              "    <tr>\n",
              "      <th>188498</th>\n",
              "      <td>HOBBIES_1_103_CA_1_validation</td>\n",
              "      <td>98</td>\n",
              "      <td>0</td>\n",
              "      <td>0</td>\n",
              "      <td>0</td>\n",
              "      <td>0</td>\n",
              "      <td>2</td>\n",
              "      <td>NaN</td>\n",
              "      <td>2016-03-27</td>\n",
              "      <td>11609.0</td>\n",
              "      <td>5</td>\n",
              "      <td>1</td>\n",
              "      <td>0</td>\n",
              "      <td>0</td>\n",
              "      <td>0.0</td>\n",
              "      <td>0.0</td>\n",
              "      <td>0.0</td>\n",
              "      <td>0.70</td>\n",
              "    </tr>\n",
              "    <tr>\n",
              "      <th>188499</th>\n",
              "      <td>HOBBIES_1_104_CA_1_validation</td>\n",
              "      <td>99</td>\n",
              "      <td>0</td>\n",
              "      <td>0</td>\n",
              "      <td>0</td>\n",
              "      <td>0</td>\n",
              "      <td>1</td>\n",
              "      <td>NaN</td>\n",
              "      <td>2016-03-27</td>\n",
              "      <td>11609.0</td>\n",
              "      <td>5</td>\n",
              "      <td>1</td>\n",
              "      <td>0</td>\n",
              "      <td>0</td>\n",
              "      <td>0.0</td>\n",
              "      <td>0.0</td>\n",
              "      <td>0.0</td>\n",
              "      <td>23.98</td>\n",
              "    </tr>\n",
              "  </tbody>\n",
              "</table>\n",
              "<p>188500 rows × 18 columns</p>\n",
              "</div>"
            ],
            "text/plain": [
              "                                   id  item_id  dept_id  cat_id  store_id  \\\n",
              "0       HOBBIES_1_001_CA_1_validation        0        0       0         0   \n",
              "1       HOBBIES_1_002_CA_1_validation        1        0       0         0   \n",
              "2       HOBBIES_1_003_CA_1_validation        2        0       0         0   \n",
              "3       HOBBIES_1_004_CA_1_validation        3        0       0         0   \n",
              "4       HOBBIES_1_005_CA_1_validation        4        0       0         0   \n",
              "...                               ...      ...      ...     ...       ...   \n",
              "188495  HOBBIES_1_099_CA_1_validation       95        0       0         0   \n",
              "188496  HOBBIES_1_100_CA_1_validation       96        0       0         0   \n",
              "188497  HOBBIES_1_102_CA_1_validation       97        0       0         0   \n",
              "188498  HOBBIES_1_103_CA_1_validation       98        0       0         0   \n",
              "188499  HOBBIES_1_104_CA_1_validation       99        0       0         0   \n",
              "\n",
              "        state_id  demand part        date  wm_yr_wk  event_name_1  \\\n",
              "0              0       0  NaN  2011-01-29   11101.0             0   \n",
              "1              0       0  NaN  2011-01-29   11101.0             0   \n",
              "2              0       0  NaN  2011-01-29   11101.0             0   \n",
              "3              0       0  NaN  2011-01-29   11101.0             0   \n",
              "4              0       0  NaN  2011-01-29   11101.0             0   \n",
              "...          ...     ...  ...         ...       ...           ...   \n",
              "188495         0       2  NaN  2016-03-27   11609.0             5   \n",
              "188496         0       1  NaN  2016-03-27   11609.0             5   \n",
              "188497         0       0  NaN  2016-03-27   11609.0             5   \n",
              "188498         0       2  NaN  2016-03-27   11609.0             5   \n",
              "188499         0       1  NaN  2016-03-27   11609.0             5   \n",
              "\n",
              "        event_type_1  event_name_2  event_type_2  snap_CA  snap_TX  snap_WI  \\\n",
              "0                  0             0             0      0.0      0.0      0.0   \n",
              "1                  0             0             0      0.0      0.0      0.0   \n",
              "2                  0             0             0      0.0      0.0      0.0   \n",
              "3                  0             0             0      0.0      0.0      0.0   \n",
              "4                  0             0             0      0.0      0.0      0.0   \n",
              "...              ...           ...           ...      ...      ...      ...   \n",
              "188495             1             0             0      0.0      0.0      0.0   \n",
              "188496             1             0             0      0.0      0.0      0.0   \n",
              "188497             1             0             0      0.0      0.0      0.0   \n",
              "188498             1             0             0      0.0      0.0      0.0   \n",
              "188499             1             0             0      0.0      0.0      0.0   \n",
              "\n",
              "        sell_price  \n",
              "0             0.00  \n",
              "1             0.00  \n",
              "2             0.00  \n",
              "3             0.00  \n",
              "4             0.00  \n",
              "...            ...  \n",
              "188495       13.98  \n",
              "188496       11.28  \n",
              "188497        4.98  \n",
              "188498        0.70  \n",
              "188499       23.98  \n",
              "\n",
              "[188500 rows x 18 columns]"
            ]
          },
          "metadata": {
            "tags": []
          },
          "execution_count": 102
        }
      ]
    },
    {
      "cell_type": "code",
      "metadata": {
        "id": "PV9n56ggB891",
        "colab_type": "code",
        "colab": {}
      },
      "source": [
        "x_train = x_train.drop([\"id\", \"part\", \"date\"], axis = 1).astype(\"float64\")"
      ],
      "execution_count": 103,
      "outputs": []
    },
    {
      "cell_type": "code",
      "metadata": {
        "id": "wFc-yvPxBrlH",
        "colab_type": "code",
        "colab": {}
      },
      "source": [
        "import lightgbm as lgb"
      ],
      "execution_count": 104,
      "outputs": []
    },
    {
      "cell_type": "code",
      "metadata": {
        "id": "5AP1ClsSBBKu",
        "colab_type": "code",
        "colab": {}
      },
      "source": [
        "# define random hyperparammeters for LGBM\n",
        "features = [\n",
        "    \"item_id\",\n",
        "    \"dept_id\",\n",
        "    \"cat_id\",\n",
        "    \"store_id\",\n",
        "    \"state_id\",\n",
        "    \"event_name_1\",\n",
        "    \"event_type_1\",\n",
        "    \"event_name_2\",\n",
        "    \"event_type_2\",\n",
        "    \"snap_CA\",\n",
        "    \"snap_TX\",\n",
        "    \"snap_WI\",\n",
        "    \"sell_price\",\n",
        "    # # demand features.\n",
        "    # \"shift_t28\",\n",
        "    # \"shift_t29\",\n",
        "    # \"shift_t30\",\n",
        "    # \"rolling_mean_t7\",\n",
        "    # \"rolling_mean_t30\",\n",
        "    # \"rolling_mean_t60\",\n",
        "    # \"rolling_mean_t90\",\n",
        "    # \"rolling_mean_t180\",\n",
        "    # # price features\n",
        "    # \"price_change_t1\",\n",
        "    # \"price_change_t365\",\n",
        "    # \"rolling_price_std_t7\",\n",
        "    # \"rolling_price_std_t30\",\n",
        "    # # time features.\n",
        "    # \"year\",\n",
        "    # \"month\",\n",
        "    # \"week\",\n",
        "    # \"day\",\n",
        "    # \"dayofweek\",\n",
        "    # \"is_year_end\",\n",
        "    # \"is_year_start\",\n",
        "    # \"is_quarter_end\",\n",
        "    # \"is_quarter_start\",\n",
        "    # \"is_month_end\",\n",
        "    # \"is_month_start\",\n",
        "    # \"is_weekend\",\n",
        "]\n",
        "\n",
        "params = {\n",
        "    'boosting_type': 'gbdt',\n",
        "    'metric': 'rmse',\n",
        "    'objective': 'regression',\n",
        "    'n_jobs': -1,\n",
        "    'seed': 236,\n",
        "    'learning_rate': 0.1,\n",
        "    'bagging_fraction': 0.75,\n",
        "    'bagging_freq': 10, \n",
        "    'colsample_bytree': 0.75}\n",
        "\n",
        "train_set = lgb.Dataset(x_train[features], y_train)\n",
        "val_set = lgb.Dataset(x_val[features], y_val)\n",
        "\n",
        "#del x_train, y_train"
      ],
      "execution_count": 105,
      "outputs": []
    },
    {
      "cell_type": "code",
      "metadata": {
        "id": "N4XuGO7nBBUS",
        "colab_type": "code",
        "colab": {
          "base_uri": "https://localhost:8080/",
          "height": 357
        },
        "outputId": "f9aa0625-d4be-436b-8f2a-74c9bde1fe0a"
      },
      "source": [
        "# model estimation\n",
        "model = lgb.train(params, train_set, num_boost_round = 2500, early_stopping_rounds = 50, valid_sets = [train_set, val_set], verbose_eval = 100)"
      ],
      "execution_count": 106,
      "outputs": [
        {
          "output_type": "error",
          "ename": "ValueError",
          "evalue": "ignored",
          "traceback": [
            "\u001b[0;31m---------------------------------------------------------------------------\u001b[0m",
            "\u001b[0;31mValueError\u001b[0m                                Traceback (most recent call last)",
            "\u001b[0;32m<ipython-input-106-016558dfc573>\u001b[0m in \u001b[0;36m<module>\u001b[0;34m()\u001b[0m\n\u001b[1;32m      1\u001b[0m \u001b[0;31m# model estimation\u001b[0m\u001b[0;34m\u001b[0m\u001b[0;34m\u001b[0m\u001b[0;34m\u001b[0m\u001b[0m\n\u001b[0;32m----> 2\u001b[0;31m \u001b[0mmodel\u001b[0m \u001b[0;34m=\u001b[0m \u001b[0mlgb\u001b[0m\u001b[0;34m.\u001b[0m\u001b[0mtrain\u001b[0m\u001b[0;34m(\u001b[0m\u001b[0mparams\u001b[0m\u001b[0;34m,\u001b[0m \u001b[0mtrain_set\u001b[0m\u001b[0;34m,\u001b[0m \u001b[0mnum_boost_round\u001b[0m \u001b[0;34m=\u001b[0m \u001b[0;36m2500\u001b[0m\u001b[0;34m,\u001b[0m \u001b[0mearly_stopping_rounds\u001b[0m \u001b[0;34m=\u001b[0m \u001b[0;36m50\u001b[0m\u001b[0;34m,\u001b[0m \u001b[0mvalid_sets\u001b[0m \u001b[0;34m=\u001b[0m \u001b[0;34m[\u001b[0m\u001b[0mtrain_set\u001b[0m\u001b[0;34m,\u001b[0m \u001b[0mval_set\u001b[0m\u001b[0;34m]\u001b[0m\u001b[0;34m,\u001b[0m \u001b[0mverbose_eval\u001b[0m \u001b[0;34m=\u001b[0m \u001b[0;36m100\u001b[0m\u001b[0;34m)\u001b[0m\u001b[0;34m\u001b[0m\u001b[0;34m\u001b[0m\u001b[0m\n\u001b[0m",
            "\u001b[0;32m/usr/local/lib/python3.6/dist-packages/lightgbm/engine.py\u001b[0m in \u001b[0;36mtrain\u001b[0;34m(params, train_set, num_boost_round, valid_sets, valid_names, fobj, feval, init_model, feature_name, categorical_feature, early_stopping_rounds, evals_result, verbose_eval, learning_rates, keep_training_booster, callbacks)\u001b[0m\n\u001b[1;32m    199\u001b[0m             \u001b[0mbooster\u001b[0m\u001b[0;34m.\u001b[0m\u001b[0mset_train_data_name\u001b[0m\u001b[0;34m(\u001b[0m\u001b[0mtrain_data_name\u001b[0m\u001b[0;34m)\u001b[0m\u001b[0;34m\u001b[0m\u001b[0;34m\u001b[0m\u001b[0m\n\u001b[1;32m    200\u001b[0m         \u001b[0;32mfor\u001b[0m \u001b[0mvalid_set\u001b[0m\u001b[0;34m,\u001b[0m \u001b[0mname_valid_set\u001b[0m \u001b[0;32min\u001b[0m \u001b[0mzip_\u001b[0m\u001b[0;34m(\u001b[0m\u001b[0mreduced_valid_sets\u001b[0m\u001b[0;34m,\u001b[0m \u001b[0mname_valid_sets\u001b[0m\u001b[0;34m)\u001b[0m\u001b[0;34m:\u001b[0m\u001b[0;34m\u001b[0m\u001b[0;34m\u001b[0m\u001b[0m\n\u001b[0;32m--> 201\u001b[0;31m             \u001b[0mbooster\u001b[0m\u001b[0;34m.\u001b[0m\u001b[0madd_valid\u001b[0m\u001b[0;34m(\u001b[0m\u001b[0mvalid_set\u001b[0m\u001b[0;34m,\u001b[0m \u001b[0mname_valid_set\u001b[0m\u001b[0;34m)\u001b[0m\u001b[0;34m\u001b[0m\u001b[0;34m\u001b[0m\u001b[0m\n\u001b[0m\u001b[1;32m    202\u001b[0m     \u001b[0;32mfinally\u001b[0m\u001b[0;34m:\u001b[0m\u001b[0;34m\u001b[0m\u001b[0;34m\u001b[0m\u001b[0m\n\u001b[1;32m    203\u001b[0m         \u001b[0mtrain_set\u001b[0m\u001b[0;34m.\u001b[0m\u001b[0m_reverse_update_params\u001b[0m\u001b[0;34m(\u001b[0m\u001b[0;34m)\u001b[0m\u001b[0;34m\u001b[0m\u001b[0;34m\u001b[0m\u001b[0m\n",
            "\u001b[0;32m/usr/local/lib/python3.6/dist-packages/lightgbm/basic.py\u001b[0m in \u001b[0;36madd_valid\u001b[0;34m(self, data, name)\u001b[0m\n\u001b[1;32m   1730\u001b[0m         _safe_call(_LIB.LGBM_BoosterAddValidData(\n\u001b[1;32m   1731\u001b[0m             \u001b[0mself\u001b[0m\u001b[0;34m.\u001b[0m\u001b[0mhandle\u001b[0m\u001b[0;34m,\u001b[0m\u001b[0;34m\u001b[0m\u001b[0;34m\u001b[0m\u001b[0m\n\u001b[0;32m-> 1732\u001b[0;31m             data.construct().handle))\n\u001b[0m\u001b[1;32m   1733\u001b[0m         \u001b[0mself\u001b[0m\u001b[0;34m.\u001b[0m\u001b[0mvalid_sets\u001b[0m\u001b[0;34m.\u001b[0m\u001b[0mappend\u001b[0m\u001b[0;34m(\u001b[0m\u001b[0mdata\u001b[0m\u001b[0;34m)\u001b[0m\u001b[0;34m\u001b[0m\u001b[0;34m\u001b[0m\u001b[0m\n\u001b[1;32m   1734\u001b[0m         \u001b[0mself\u001b[0m\u001b[0;34m.\u001b[0m\u001b[0mname_valid_sets\u001b[0m\u001b[0;34m.\u001b[0m\u001b[0mappend\u001b[0m\u001b[0;34m(\u001b[0m\u001b[0mname\u001b[0m\u001b[0;34m)\u001b[0m\u001b[0;34m\u001b[0m\u001b[0;34m\u001b[0m\u001b[0m\n",
            "\u001b[0;32m/usr/local/lib/python3.6/dist-packages/lightgbm/basic.py\u001b[0m in \u001b[0;36mconstruct\u001b[0;34m(self)\u001b[0m\n\u001b[1;32m    970\u001b[0m                                     \u001b[0mweight\u001b[0m\u001b[0;34m=\u001b[0m\u001b[0mself\u001b[0m\u001b[0;34m.\u001b[0m\u001b[0mweight\u001b[0m\u001b[0;34m,\u001b[0m \u001b[0mgroup\u001b[0m\u001b[0;34m=\u001b[0m\u001b[0mself\u001b[0m\u001b[0;34m.\u001b[0m\u001b[0mgroup\u001b[0m\u001b[0;34m,\u001b[0m\u001b[0;34m\u001b[0m\u001b[0;34m\u001b[0m\u001b[0m\n\u001b[1;32m    971\u001b[0m                                     \u001b[0minit_score\u001b[0m\u001b[0;34m=\u001b[0m\u001b[0mself\u001b[0m\u001b[0;34m.\u001b[0m\u001b[0minit_score\u001b[0m\u001b[0;34m,\u001b[0m \u001b[0mpredictor\u001b[0m\u001b[0;34m=\u001b[0m\u001b[0mself\u001b[0m\u001b[0;34m.\u001b[0m\u001b[0m_predictor\u001b[0m\u001b[0;34m,\u001b[0m\u001b[0;34m\u001b[0m\u001b[0;34m\u001b[0m\u001b[0m\n\u001b[0;32m--> 972\u001b[0;31m                                     silent=self.silent, feature_name=self.feature_name, params=self.params)\n\u001b[0m\u001b[1;32m    973\u001b[0m                 \u001b[0;32melse\u001b[0m\u001b[0;34m:\u001b[0m\u001b[0;34m\u001b[0m\u001b[0;34m\u001b[0m\u001b[0m\n\u001b[1;32m    974\u001b[0m                     \u001b[0;31m# construct subset\u001b[0m\u001b[0;34m\u001b[0m\u001b[0;34m\u001b[0m\u001b[0;34m\u001b[0m\u001b[0m\n",
            "\u001b[0;32m/usr/local/lib/python3.6/dist-packages/lightgbm/basic.py\u001b[0m in \u001b[0;36m_lazy_init\u001b[0;34m(self, data, label, reference, weight, group, init_score, predictor, silent, feature_name, categorical_feature, params)\u001b[0m\n\u001b[1;32m    727\u001b[0m                                                                                              \u001b[0mfeature_name\u001b[0m\u001b[0;34m,\u001b[0m\u001b[0;34m\u001b[0m\u001b[0;34m\u001b[0m\u001b[0m\n\u001b[1;32m    728\u001b[0m                                                                                              \u001b[0mcategorical_feature\u001b[0m\u001b[0;34m,\u001b[0m\u001b[0;34m\u001b[0m\u001b[0;34m\u001b[0m\u001b[0m\n\u001b[0;32m--> 729\u001b[0;31m                                                                                              self.pandas_categorical)\n\u001b[0m\u001b[1;32m    730\u001b[0m         \u001b[0mlabel\u001b[0m \u001b[0;34m=\u001b[0m \u001b[0m_label_from_pandas\u001b[0m\u001b[0;34m(\u001b[0m\u001b[0mlabel\u001b[0m\u001b[0;34m)\u001b[0m\u001b[0;34m\u001b[0m\u001b[0;34m\u001b[0m\u001b[0m\n\u001b[1;32m    731\u001b[0m         \u001b[0mself\u001b[0m\u001b[0;34m.\u001b[0m\u001b[0mdata_has_header\u001b[0m \u001b[0;34m=\u001b[0m \u001b[0;32mFalse\u001b[0m\u001b[0;34m\u001b[0m\u001b[0;34m\u001b[0m\u001b[0m\n",
            "\u001b[0;32m/usr/local/lib/python3.6/dist-packages/lightgbm/basic.py\u001b[0m in \u001b[0;36m_data_from_pandas\u001b[0;34m(data, feature_name, categorical_feature, pandas_categorical)\u001b[0m\n\u001b[1;32m    275\u001b[0m             msg = (\"DataFrame.dtypes for data must be int, float or bool.\\n\"\n\u001b[1;32m    276\u001b[0m                    \"Did not expect the data types in fields \")\n\u001b[0;32m--> 277\u001b[0;31m             \u001b[0;32mraise\u001b[0m \u001b[0mValueError\u001b[0m\u001b[0;34m(\u001b[0m\u001b[0mmsg\u001b[0m \u001b[0;34m+\u001b[0m \u001b[0;34m', '\u001b[0m\u001b[0;34m.\u001b[0m\u001b[0mjoin\u001b[0m\u001b[0;34m(\u001b[0m\u001b[0mbad_fields\u001b[0m\u001b[0;34m)\u001b[0m\u001b[0;34m)\u001b[0m\u001b[0;34m\u001b[0m\u001b[0;34m\u001b[0m\u001b[0m\n\u001b[0m\u001b[1;32m    278\u001b[0m         \u001b[0mdata\u001b[0m \u001b[0;34m=\u001b[0m \u001b[0mdata\u001b[0m\u001b[0;34m.\u001b[0m\u001b[0mvalues\u001b[0m\u001b[0;34m.\u001b[0m\u001b[0mastype\u001b[0m\u001b[0;34m(\u001b[0m\u001b[0;34m'float'\u001b[0m\u001b[0;34m)\u001b[0m\u001b[0;34m\u001b[0m\u001b[0;34m\u001b[0m\u001b[0m\n\u001b[1;32m    279\u001b[0m     \u001b[0;32melse\u001b[0m\u001b[0;34m:\u001b[0m\u001b[0;34m\u001b[0m\u001b[0;34m\u001b[0m\u001b[0m\n",
            "\u001b[0;31mValueError\u001b[0m: DataFrame.dtypes for data must be int, float or bool.\nDid not expect the data types in fields item_id, dept_id, cat_id, store_id, state_id, event_name_1, event_type_1, event_name_2, event_type_2"
          ]
        }
      ]
    },
    {
      "cell_type": "code",
      "metadata": {
        "id": "iyk6mQsaFo51",
        "colab_type": "code",
        "colab": {
          "base_uri": "https://localhost:8080/",
          "height": 35
        },
        "outputId": "d8dd9b9a-e52e-4d77-9251-833d93694693"
      },
      "source": [
        "x_train[\"dept_id\"].unique()"
      ],
      "execution_count": 109,
      "outputs": [
        {
          "output_type": "execute_result",
          "data": {
            "text/plain": [
              "array([0.])"
            ]
          },
          "metadata": {
            "tags": []
          },
          "execution_count": 109
        }
      ]
    },
    {
      "cell_type": "code",
      "metadata": {
        "id": "X0qVnYYEBBeX",
        "colab_type": "code",
        "colab": {}
      },
      "source": [
        "val_pred = model.predict(x_val[features])\n",
        "val_score = np.sqrt(metrics.mean_squared_error(val_pred, y_val))\n",
        "print(f'Our val rmse score is {val_score}')\n",
        "y_pred = model.predict(test[features])\n",
        "test['demand'] = y_pred"
      ],
      "execution_count": null,
      "outputs": []
    },
    {
      "cell_type": "code",
      "metadata": {
        "id": "TEOIwN1mRKaO",
        "colab_type": "code",
        "colab": {}
      },
      "source": [
        "%autoreload"
      ],
      "execution_count": 10,
      "outputs": []
    },
    {
      "cell_type": "code",
      "metadata": {
        "id": "NHY-j5WcWS_3",
        "colab_type": "code",
        "colab": {
          "base_uri": "https://localhost:8080/",
          "height": 35
        },
        "outputId": "d1d2c259-e967-4ecc-d431-1a6c69e19346"
      },
      "source": [
        "!pwd"
      ],
      "execution_count": 11,
      "outputs": [
        {
          "output_type": "stream",
          "text": [
            "/content/drive/My Drive/kaggle/module\n"
          ],
          "name": "stdout"
        }
      ]
    },
    {
      "cell_type": "code",
      "metadata": {
        "id": "2f60qgxzRRuB",
        "colab_type": "code",
        "colab": {}
      },
      "source": [
        "# Lstv = ed.encode_categorical(stv, cols = [\"dept_id\", \"cat_id\", \"store_id\", \"state_id\"])"
      ],
      "execution_count": 12,
      "outputs": []
    },
    {
      "cell_type": "code",
      "metadata": {
        "id": "lABxKjIHXF5-",
        "colab_type": "code",
        "colab": {
          "base_uri": "https://localhost:8080/",
          "height": 405
        },
        "outputId": "8a35f04d-8201-4adf-b79f-59729194c36e"
      },
      "source": [
        "stv.head(10)"
      ],
      "execution_count": 13,
      "outputs": [
        {
          "output_type": "execute_result",
          "data": {
            "text/html": [
              "<div>\n",
              "<style scoped>\n",
              "    .dataframe tbody tr th:only-of-type {\n",
              "        vertical-align: middle;\n",
              "    }\n",
              "\n",
              "    .dataframe tbody tr th {\n",
              "        vertical-align: top;\n",
              "    }\n",
              "\n",
              "    .dataframe thead th {\n",
              "        text-align: right;\n",
              "    }\n",
              "</style>\n",
              "<table border=\"1\" class=\"dataframe\">\n",
              "  <thead>\n",
              "    <tr style=\"text-align: right;\">\n",
              "      <th></th>\n",
              "      <th>id</th>\n",
              "      <th>item_id</th>\n",
              "      <th>dept_id</th>\n",
              "      <th>cat_id</th>\n",
              "      <th>store_id</th>\n",
              "      <th>state_id</th>\n",
              "      <th>d_1</th>\n",
              "      <th>d_2</th>\n",
              "      <th>d_3</th>\n",
              "      <th>d_4</th>\n",
              "      <th>d_5</th>\n",
              "      <th>d_6</th>\n",
              "      <th>d_7</th>\n",
              "      <th>d_8</th>\n",
              "      <th>d_9</th>\n",
              "      <th>d_10</th>\n",
              "      <th>d_11</th>\n",
              "      <th>d_12</th>\n",
              "      <th>d_13</th>\n",
              "      <th>d_14</th>\n",
              "      <th>d_15</th>\n",
              "      <th>d_16</th>\n",
              "      <th>d_17</th>\n",
              "      <th>d_18</th>\n",
              "      <th>d_19</th>\n",
              "      <th>...</th>\n",
              "      <th>d_1889</th>\n",
              "      <th>d_1890</th>\n",
              "      <th>d_1891</th>\n",
              "      <th>d_1892</th>\n",
              "      <th>d_1893</th>\n",
              "      <th>d_1894</th>\n",
              "      <th>d_1895</th>\n",
              "      <th>d_1896</th>\n",
              "      <th>d_1897</th>\n",
              "      <th>d_1898</th>\n",
              "      <th>d_1899</th>\n",
              "      <th>d_1900</th>\n",
              "      <th>d_1901</th>\n",
              "      <th>d_1902</th>\n",
              "      <th>d_1903</th>\n",
              "      <th>d_1904</th>\n",
              "      <th>d_1905</th>\n",
              "      <th>d_1906</th>\n",
              "      <th>d_1907</th>\n",
              "      <th>d_1908</th>\n",
              "      <th>d_1909</th>\n",
              "      <th>d_1910</th>\n",
              "      <th>d_1911</th>\n",
              "      <th>d_1912</th>\n",
              "      <th>d_1913</th>\n",
              "    </tr>\n",
              "  </thead>\n",
              "  <tbody>\n",
              "    <tr>\n",
              "      <th>0</th>\n",
              "      <td>HOBBIES_1_001_CA_1_validation</td>\n",
              "      <td>HOBBIES_1_001</td>\n",
              "      <td>HOBBIES_1</td>\n",
              "      <td>HOBBIES</td>\n",
              "      <td>CA_1</td>\n",
              "      <td>CA</td>\n",
              "      <td>0</td>\n",
              "      <td>0</td>\n",
              "      <td>0</td>\n",
              "      <td>0</td>\n",
              "      <td>0</td>\n",
              "      <td>0</td>\n",
              "      <td>0</td>\n",
              "      <td>0</td>\n",
              "      <td>0</td>\n",
              "      <td>0</td>\n",
              "      <td>0</td>\n",
              "      <td>0</td>\n",
              "      <td>0</td>\n",
              "      <td>0</td>\n",
              "      <td>0</td>\n",
              "      <td>0</td>\n",
              "      <td>0</td>\n",
              "      <td>0</td>\n",
              "      <td>0</td>\n",
              "      <td>...</td>\n",
              "      <td>0</td>\n",
              "      <td>0</td>\n",
              "      <td>0</td>\n",
              "      <td>1</td>\n",
              "      <td>0</td>\n",
              "      <td>4</td>\n",
              "      <td>2</td>\n",
              "      <td>3</td>\n",
              "      <td>0</td>\n",
              "      <td>1</td>\n",
              "      <td>2</td>\n",
              "      <td>0</td>\n",
              "      <td>0</td>\n",
              "      <td>0</td>\n",
              "      <td>1</td>\n",
              "      <td>1</td>\n",
              "      <td>3</td>\n",
              "      <td>0</td>\n",
              "      <td>1</td>\n",
              "      <td>1</td>\n",
              "      <td>1</td>\n",
              "      <td>3</td>\n",
              "      <td>0</td>\n",
              "      <td>1</td>\n",
              "      <td>1</td>\n",
              "    </tr>\n",
              "    <tr>\n",
              "      <th>1</th>\n",
              "      <td>HOBBIES_1_002_CA_1_validation</td>\n",
              "      <td>HOBBIES_1_002</td>\n",
              "      <td>HOBBIES_1</td>\n",
              "      <td>HOBBIES</td>\n",
              "      <td>CA_1</td>\n",
              "      <td>CA</td>\n",
              "      <td>0</td>\n",
              "      <td>0</td>\n",
              "      <td>0</td>\n",
              "      <td>0</td>\n",
              "      <td>0</td>\n",
              "      <td>0</td>\n",
              "      <td>0</td>\n",
              "      <td>0</td>\n",
              "      <td>0</td>\n",
              "      <td>0</td>\n",
              "      <td>0</td>\n",
              "      <td>0</td>\n",
              "      <td>0</td>\n",
              "      <td>0</td>\n",
              "      <td>0</td>\n",
              "      <td>0</td>\n",
              "      <td>0</td>\n",
              "      <td>0</td>\n",
              "      <td>0</td>\n",
              "      <td>...</td>\n",
              "      <td>0</td>\n",
              "      <td>0</td>\n",
              "      <td>0</td>\n",
              "      <td>0</td>\n",
              "      <td>0</td>\n",
              "      <td>0</td>\n",
              "      <td>0</td>\n",
              "      <td>0</td>\n",
              "      <td>0</td>\n",
              "      <td>0</td>\n",
              "      <td>0</td>\n",
              "      <td>0</td>\n",
              "      <td>0</td>\n",
              "      <td>0</td>\n",
              "      <td>0</td>\n",
              "      <td>0</td>\n",
              "      <td>0</td>\n",
              "      <td>0</td>\n",
              "      <td>0</td>\n",
              "      <td>0</td>\n",
              "      <td>1</td>\n",
              "      <td>0</td>\n",
              "      <td>0</td>\n",
              "      <td>0</td>\n",
              "      <td>0</td>\n",
              "    </tr>\n",
              "    <tr>\n",
              "      <th>2</th>\n",
              "      <td>HOBBIES_1_003_CA_1_validation</td>\n",
              "      <td>HOBBIES_1_003</td>\n",
              "      <td>HOBBIES_1</td>\n",
              "      <td>HOBBIES</td>\n",
              "      <td>CA_1</td>\n",
              "      <td>CA</td>\n",
              "      <td>0</td>\n",
              "      <td>0</td>\n",
              "      <td>0</td>\n",
              "      <td>0</td>\n",
              "      <td>0</td>\n",
              "      <td>0</td>\n",
              "      <td>0</td>\n",
              "      <td>0</td>\n",
              "      <td>0</td>\n",
              "      <td>0</td>\n",
              "      <td>0</td>\n",
              "      <td>0</td>\n",
              "      <td>0</td>\n",
              "      <td>0</td>\n",
              "      <td>0</td>\n",
              "      <td>0</td>\n",
              "      <td>0</td>\n",
              "      <td>0</td>\n",
              "      <td>0</td>\n",
              "      <td>...</td>\n",
              "      <td>0</td>\n",
              "      <td>0</td>\n",
              "      <td>0</td>\n",
              "      <td>1</td>\n",
              "      <td>0</td>\n",
              "      <td>0</td>\n",
              "      <td>0</td>\n",
              "      <td>1</td>\n",
              "      <td>0</td>\n",
              "      <td>0</td>\n",
              "      <td>0</td>\n",
              "      <td>0</td>\n",
              "      <td>0</td>\n",
              "      <td>1</td>\n",
              "      <td>2</td>\n",
              "      <td>2</td>\n",
              "      <td>1</td>\n",
              "      <td>2</td>\n",
              "      <td>1</td>\n",
              "      <td>1</td>\n",
              "      <td>1</td>\n",
              "      <td>0</td>\n",
              "      <td>1</td>\n",
              "      <td>1</td>\n",
              "      <td>1</td>\n",
              "    </tr>\n",
              "    <tr>\n",
              "      <th>3</th>\n",
              "      <td>HOBBIES_1_004_CA_1_validation</td>\n",
              "      <td>HOBBIES_1_004</td>\n",
              "      <td>HOBBIES_1</td>\n",
              "      <td>HOBBIES</td>\n",
              "      <td>CA_1</td>\n",
              "      <td>CA</td>\n",
              "      <td>0</td>\n",
              "      <td>0</td>\n",
              "      <td>0</td>\n",
              "      <td>0</td>\n",
              "      <td>0</td>\n",
              "      <td>0</td>\n",
              "      <td>0</td>\n",
              "      <td>0</td>\n",
              "      <td>0</td>\n",
              "      <td>0</td>\n",
              "      <td>0</td>\n",
              "      <td>0</td>\n",
              "      <td>0</td>\n",
              "      <td>0</td>\n",
              "      <td>0</td>\n",
              "      <td>0</td>\n",
              "      <td>0</td>\n",
              "      <td>0</td>\n",
              "      <td>0</td>\n",
              "      <td>...</td>\n",
              "      <td>0</td>\n",
              "      <td>3</td>\n",
              "      <td>1</td>\n",
              "      <td>2</td>\n",
              "      <td>1</td>\n",
              "      <td>3</td>\n",
              "      <td>1</td>\n",
              "      <td>0</td>\n",
              "      <td>2</td>\n",
              "      <td>5</td>\n",
              "      <td>4</td>\n",
              "      <td>2</td>\n",
              "      <td>0</td>\n",
              "      <td>3</td>\n",
              "      <td>0</td>\n",
              "      <td>1</td>\n",
              "      <td>0</td>\n",
              "      <td>5</td>\n",
              "      <td>4</td>\n",
              "      <td>1</td>\n",
              "      <td>0</td>\n",
              "      <td>1</td>\n",
              "      <td>3</td>\n",
              "      <td>7</td>\n",
              "      <td>2</td>\n",
              "    </tr>\n",
              "    <tr>\n",
              "      <th>4</th>\n",
              "      <td>HOBBIES_1_005_CA_1_validation</td>\n",
              "      <td>HOBBIES_1_005</td>\n",
              "      <td>HOBBIES_1</td>\n",
              "      <td>HOBBIES</td>\n",
              "      <td>CA_1</td>\n",
              "      <td>CA</td>\n",
              "      <td>0</td>\n",
              "      <td>0</td>\n",
              "      <td>0</td>\n",
              "      <td>0</td>\n",
              "      <td>0</td>\n",
              "      <td>0</td>\n",
              "      <td>0</td>\n",
              "      <td>0</td>\n",
              "      <td>0</td>\n",
              "      <td>0</td>\n",
              "      <td>0</td>\n",
              "      <td>0</td>\n",
              "      <td>0</td>\n",
              "      <td>0</td>\n",
              "      <td>0</td>\n",
              "      <td>0</td>\n",
              "      <td>0</td>\n",
              "      <td>0</td>\n",
              "      <td>0</td>\n",
              "      <td>...</td>\n",
              "      <td>4</td>\n",
              "      <td>0</td>\n",
              "      <td>1</td>\n",
              "      <td>4</td>\n",
              "      <td>0</td>\n",
              "      <td>1</td>\n",
              "      <td>0</td>\n",
              "      <td>1</td>\n",
              "      <td>0</td>\n",
              "      <td>1</td>\n",
              "      <td>1</td>\n",
              "      <td>2</td>\n",
              "      <td>0</td>\n",
              "      <td>1</td>\n",
              "      <td>1</td>\n",
              "      <td>2</td>\n",
              "      <td>1</td>\n",
              "      <td>1</td>\n",
              "      <td>0</td>\n",
              "      <td>1</td>\n",
              "      <td>1</td>\n",
              "      <td>2</td>\n",
              "      <td>2</td>\n",
              "      <td>2</td>\n",
              "      <td>4</td>\n",
              "    </tr>\n",
              "    <tr>\n",
              "      <th>5</th>\n",
              "      <td>HOBBIES_1_006_CA_1_validation</td>\n",
              "      <td>HOBBIES_1_006</td>\n",
              "      <td>HOBBIES_1</td>\n",
              "      <td>HOBBIES</td>\n",
              "      <td>CA_1</td>\n",
              "      <td>CA</td>\n",
              "      <td>0</td>\n",
              "      <td>0</td>\n",
              "      <td>0</td>\n",
              "      <td>0</td>\n",
              "      <td>0</td>\n",
              "      <td>0</td>\n",
              "      <td>0</td>\n",
              "      <td>0</td>\n",
              "      <td>0</td>\n",
              "      <td>0</td>\n",
              "      <td>0</td>\n",
              "      <td>0</td>\n",
              "      <td>0</td>\n",
              "      <td>0</td>\n",
              "      <td>0</td>\n",
              "      <td>0</td>\n",
              "      <td>0</td>\n",
              "      <td>0</td>\n",
              "      <td>0</td>\n",
              "      <td>...</td>\n",
              "      <td>0</td>\n",
              "      <td>0</td>\n",
              "      <td>0</td>\n",
              "      <td>0</td>\n",
              "      <td>0</td>\n",
              "      <td>0</td>\n",
              "      <td>3</td>\n",
              "      <td>0</td>\n",
              "      <td>1</td>\n",
              "      <td>0</td>\n",
              "      <td>0</td>\n",
              "      <td>1</td>\n",
              "      <td>4</td>\n",
              "      <td>0</td>\n",
              "      <td>0</td>\n",
              "      <td>0</td>\n",
              "      <td>1</td>\n",
              "      <td>0</td>\n",
              "      <td>1</td>\n",
              "      <td>0</td>\n",
              "      <td>0</td>\n",
              "      <td>0</td>\n",
              "      <td>2</td>\n",
              "      <td>0</td>\n",
              "      <td>0</td>\n",
              "    </tr>\n",
              "    <tr>\n",
              "      <th>6</th>\n",
              "      <td>HOBBIES_1_007_CA_1_validation</td>\n",
              "      <td>HOBBIES_1_007</td>\n",
              "      <td>HOBBIES_1</td>\n",
              "      <td>HOBBIES</td>\n",
              "      <td>CA_1</td>\n",
              "      <td>CA</td>\n",
              "      <td>0</td>\n",
              "      <td>0</td>\n",
              "      <td>0</td>\n",
              "      <td>0</td>\n",
              "      <td>0</td>\n",
              "      <td>0</td>\n",
              "      <td>0</td>\n",
              "      <td>0</td>\n",
              "      <td>0</td>\n",
              "      <td>0</td>\n",
              "      <td>0</td>\n",
              "      <td>0</td>\n",
              "      <td>0</td>\n",
              "      <td>0</td>\n",
              "      <td>0</td>\n",
              "      <td>0</td>\n",
              "      <td>0</td>\n",
              "      <td>0</td>\n",
              "      <td>0</td>\n",
              "      <td>...</td>\n",
              "      <td>0</td>\n",
              "      <td>1</td>\n",
              "      <td>0</td>\n",
              "      <td>0</td>\n",
              "      <td>0</td>\n",
              "      <td>0</td>\n",
              "      <td>0</td>\n",
              "      <td>0</td>\n",
              "      <td>0</td>\n",
              "      <td>1</td>\n",
              "      <td>1</td>\n",
              "      <td>0</td>\n",
              "      <td>1</td>\n",
              "      <td>0</td>\n",
              "      <td>0</td>\n",
              "      <td>0</td>\n",
              "      <td>0</td>\n",
              "      <td>0</td>\n",
              "      <td>1</td>\n",
              "      <td>0</td>\n",
              "      <td>1</td>\n",
              "      <td>0</td>\n",
              "      <td>0</td>\n",
              "      <td>1</td>\n",
              "      <td>1</td>\n",
              "    </tr>\n",
              "    <tr>\n",
              "      <th>7</th>\n",
              "      <td>HOBBIES_1_008_CA_1_validation</td>\n",
              "      <td>HOBBIES_1_008</td>\n",
              "      <td>HOBBIES_1</td>\n",
              "      <td>HOBBIES</td>\n",
              "      <td>CA_1</td>\n",
              "      <td>CA</td>\n",
              "      <td>12</td>\n",
              "      <td>15</td>\n",
              "      <td>0</td>\n",
              "      <td>0</td>\n",
              "      <td>0</td>\n",
              "      <td>4</td>\n",
              "      <td>6</td>\n",
              "      <td>5</td>\n",
              "      <td>7</td>\n",
              "      <td>0</td>\n",
              "      <td>13</td>\n",
              "      <td>2</td>\n",
              "      <td>2</td>\n",
              "      <td>20</td>\n",
              "      <td>9</td>\n",
              "      <td>3</td>\n",
              "      <td>0</td>\n",
              "      <td>1</td>\n",
              "      <td>0</td>\n",
              "      <td>...</td>\n",
              "      <td>2</td>\n",
              "      <td>12</td>\n",
              "      <td>38</td>\n",
              "      <td>22</td>\n",
              "      <td>2</td>\n",
              "      <td>0</td>\n",
              "      <td>10</td>\n",
              "      <td>26</td>\n",
              "      <td>8</td>\n",
              "      <td>12</td>\n",
              "      <td>4</td>\n",
              "      <td>5</td>\n",
              "      <td>2</td>\n",
              "      <td>8</td>\n",
              "      <td>4</td>\n",
              "      <td>0</td>\n",
              "      <td>0</td>\n",
              "      <td>1</td>\n",
              "      <td>37</td>\n",
              "      <td>3</td>\n",
              "      <td>4</td>\n",
              "      <td>6</td>\n",
              "      <td>3</td>\n",
              "      <td>2</td>\n",
              "      <td>1</td>\n",
              "    </tr>\n",
              "    <tr>\n",
              "      <th>8</th>\n",
              "      <td>HOBBIES_1_009_CA_1_validation</td>\n",
              "      <td>HOBBIES_1_009</td>\n",
              "      <td>HOBBIES_1</td>\n",
              "      <td>HOBBIES</td>\n",
              "      <td>CA_1</td>\n",
              "      <td>CA</td>\n",
              "      <td>2</td>\n",
              "      <td>0</td>\n",
              "      <td>7</td>\n",
              "      <td>3</td>\n",
              "      <td>0</td>\n",
              "      <td>2</td>\n",
              "      <td>3</td>\n",
              "      <td>9</td>\n",
              "      <td>0</td>\n",
              "      <td>0</td>\n",
              "      <td>4</td>\n",
              "      <td>3</td>\n",
              "      <td>1</td>\n",
              "      <td>0</td>\n",
              "      <td>4</td>\n",
              "      <td>4</td>\n",
              "      <td>1</td>\n",
              "      <td>2</td>\n",
              "      <td>0</td>\n",
              "      <td>...</td>\n",
              "      <td>1</td>\n",
              "      <td>2</td>\n",
              "      <td>0</td>\n",
              "      <td>3</td>\n",
              "      <td>0</td>\n",
              "      <td>0</td>\n",
              "      <td>0</td>\n",
              "      <td>0</td>\n",
              "      <td>0</td>\n",
              "      <td>1</td>\n",
              "      <td>1</td>\n",
              "      <td>0</td>\n",
              "      <td>7</td>\n",
              "      <td>0</td>\n",
              "      <td>0</td>\n",
              "      <td>0</td>\n",
              "      <td>0</td>\n",
              "      <td>1</td>\n",
              "      <td>1</td>\n",
              "      <td>6</td>\n",
              "      <td>0</td>\n",
              "      <td>0</td>\n",
              "      <td>0</td>\n",
              "      <td>0</td>\n",
              "      <td>0</td>\n",
              "    </tr>\n",
              "    <tr>\n",
              "      <th>9</th>\n",
              "      <td>HOBBIES_1_010_CA_1_validation</td>\n",
              "      <td>HOBBIES_1_010</td>\n",
              "      <td>HOBBIES_1</td>\n",
              "      <td>HOBBIES</td>\n",
              "      <td>CA_1</td>\n",
              "      <td>CA</td>\n",
              "      <td>0</td>\n",
              "      <td>0</td>\n",
              "      <td>1</td>\n",
              "      <td>0</td>\n",
              "      <td>0</td>\n",
              "      <td>0</td>\n",
              "      <td>0</td>\n",
              "      <td>0</td>\n",
              "      <td>0</td>\n",
              "      <td>0</td>\n",
              "      <td>0</td>\n",
              "      <td>0</td>\n",
              "      <td>0</td>\n",
              "      <td>2</td>\n",
              "      <td>0</td>\n",
              "      <td>0</td>\n",
              "      <td>0</td>\n",
              "      <td>0</td>\n",
              "      <td>2</td>\n",
              "      <td>...</td>\n",
              "      <td>1</td>\n",
              "      <td>1</td>\n",
              "      <td>0</td>\n",
              "      <td>3</td>\n",
              "      <td>2</td>\n",
              "      <td>2</td>\n",
              "      <td>1</td>\n",
              "      <td>0</td>\n",
              "      <td>1</td>\n",
              "      <td>0</td>\n",
              "      <td>0</td>\n",
              "      <td>1</td>\n",
              "      <td>0</td>\n",
              "      <td>0</td>\n",
              "      <td>0</td>\n",
              "      <td>1</td>\n",
              "      <td>0</td>\n",
              "      <td>0</td>\n",
              "      <td>0</td>\n",
              "      <td>0</td>\n",
              "      <td>0</td>\n",
              "      <td>0</td>\n",
              "      <td>2</td>\n",
              "      <td>0</td>\n",
              "      <td>2</td>\n",
              "    </tr>\n",
              "  </tbody>\n",
              "</table>\n",
              "<p>10 rows × 1919 columns</p>\n",
              "</div>"
            ],
            "text/plain": [
              "                              id        item_id    dept_id   cat_id store_id  \\\n",
              "0  HOBBIES_1_001_CA_1_validation  HOBBIES_1_001  HOBBIES_1  HOBBIES     CA_1   \n",
              "1  HOBBIES_1_002_CA_1_validation  HOBBIES_1_002  HOBBIES_1  HOBBIES     CA_1   \n",
              "2  HOBBIES_1_003_CA_1_validation  HOBBIES_1_003  HOBBIES_1  HOBBIES     CA_1   \n",
              "3  HOBBIES_1_004_CA_1_validation  HOBBIES_1_004  HOBBIES_1  HOBBIES     CA_1   \n",
              "4  HOBBIES_1_005_CA_1_validation  HOBBIES_1_005  HOBBIES_1  HOBBIES     CA_1   \n",
              "5  HOBBIES_1_006_CA_1_validation  HOBBIES_1_006  HOBBIES_1  HOBBIES     CA_1   \n",
              "6  HOBBIES_1_007_CA_1_validation  HOBBIES_1_007  HOBBIES_1  HOBBIES     CA_1   \n",
              "7  HOBBIES_1_008_CA_1_validation  HOBBIES_1_008  HOBBIES_1  HOBBIES     CA_1   \n",
              "8  HOBBIES_1_009_CA_1_validation  HOBBIES_1_009  HOBBIES_1  HOBBIES     CA_1   \n",
              "9  HOBBIES_1_010_CA_1_validation  HOBBIES_1_010  HOBBIES_1  HOBBIES     CA_1   \n",
              "\n",
              "  state_id  d_1  d_2  d_3  d_4  d_5  d_6  d_7  d_8  d_9  d_10  d_11  d_12  \\\n",
              "0       CA    0    0    0    0    0    0    0    0    0     0     0     0   \n",
              "1       CA    0    0    0    0    0    0    0    0    0     0     0     0   \n",
              "2       CA    0    0    0    0    0    0    0    0    0     0     0     0   \n",
              "3       CA    0    0    0    0    0    0    0    0    0     0     0     0   \n",
              "4       CA    0    0    0    0    0    0    0    0    0     0     0     0   \n",
              "5       CA    0    0    0    0    0    0    0    0    0     0     0     0   \n",
              "6       CA    0    0    0    0    0    0    0    0    0     0     0     0   \n",
              "7       CA   12   15    0    0    0    4    6    5    7     0    13     2   \n",
              "8       CA    2    0    7    3    0    2    3    9    0     0     4     3   \n",
              "9       CA    0    0    1    0    0    0    0    0    0     0     0     0   \n",
              "\n",
              "   d_13  d_14  d_15  d_16  d_17  d_18  d_19  ...  d_1889  d_1890  d_1891  \\\n",
              "0     0     0     0     0     0     0     0  ...       0       0       0   \n",
              "1     0     0     0     0     0     0     0  ...       0       0       0   \n",
              "2     0     0     0     0     0     0     0  ...       0       0       0   \n",
              "3     0     0     0     0     0     0     0  ...       0       3       1   \n",
              "4     0     0     0     0     0     0     0  ...       4       0       1   \n",
              "5     0     0     0     0     0     0     0  ...       0       0       0   \n",
              "6     0     0     0     0     0     0     0  ...       0       1       0   \n",
              "7     2    20     9     3     0     1     0  ...       2      12      38   \n",
              "8     1     0     4     4     1     2     0  ...       1       2       0   \n",
              "9     0     2     0     0     0     0     2  ...       1       1       0   \n",
              "\n",
              "   d_1892  d_1893  d_1894  d_1895  d_1896  d_1897  d_1898  d_1899  d_1900  \\\n",
              "0       1       0       4       2       3       0       1       2       0   \n",
              "1       0       0       0       0       0       0       0       0       0   \n",
              "2       1       0       0       0       1       0       0       0       0   \n",
              "3       2       1       3       1       0       2       5       4       2   \n",
              "4       4       0       1       0       1       0       1       1       2   \n",
              "5       0       0       0       3       0       1       0       0       1   \n",
              "6       0       0       0       0       0       0       1       1       0   \n",
              "7      22       2       0      10      26       8      12       4       5   \n",
              "8       3       0       0       0       0       0       1       1       0   \n",
              "9       3       2       2       1       0       1       0       0       1   \n",
              "\n",
              "   d_1901  d_1902  d_1903  d_1904  d_1905  d_1906  d_1907  d_1908  d_1909  \\\n",
              "0       0       0       1       1       3       0       1       1       1   \n",
              "1       0       0       0       0       0       0       0       0       1   \n",
              "2       0       1       2       2       1       2       1       1       1   \n",
              "3       0       3       0       1       0       5       4       1       0   \n",
              "4       0       1       1       2       1       1       0       1       1   \n",
              "5       4       0       0       0       1       0       1       0       0   \n",
              "6       1       0       0       0       0       0       1       0       1   \n",
              "7       2       8       4       0       0       1      37       3       4   \n",
              "8       7       0       0       0       0       1       1       6       0   \n",
              "9       0       0       0       1       0       0       0       0       0   \n",
              "\n",
              "   d_1910  d_1911  d_1912  d_1913  \n",
              "0       3       0       1       1  \n",
              "1       0       0       0       0  \n",
              "2       0       1       1       1  \n",
              "3       1       3       7       2  \n",
              "4       2       2       2       4  \n",
              "5       0       2       0       0  \n",
              "6       0       0       1       1  \n",
              "7       6       3       2       1  \n",
              "8       0       0       0       0  \n",
              "9       0       2       0       2  \n",
              "\n",
              "[10 rows x 1919 columns]"
            ]
          },
          "metadata": {
            "tags": []
          },
          "execution_count": 13
        }
      ]
    },
    {
      "cell_type": "code",
      "metadata": {
        "id": "CdRpitAioKrW",
        "colab_type": "code",
        "colab": {
          "base_uri": "https://localhost:8080/",
          "height": 35
        },
        "outputId": "b4bd6f78-e67a-4615-db12-c2c0a262034d"
      },
      "source": [
        "c = stv[\"id\"].value_counts()\n",
        "c[c != 1]"
      ],
      "execution_count": 23,
      "outputs": [
        {
          "output_type": "execute_result",
          "data": {
            "text/plain": [
              "Series([], Name: id, dtype: int64)"
            ]
          },
          "metadata": {
            "tags": []
          },
          "execution_count": 23
        }
      ]
    },
    {
      "cell_type": "code",
      "metadata": {
        "id": "3Pb7OCYooE_R",
        "colab_type": "code",
        "colab": {
          "base_uri": "https://localhost:8080/",
          "height": 35
        },
        "outputId": "0e3ed323-58cd-43ae-a555-57005b4e1630"
      },
      "source": [
        "stv.shape"
      ],
      "execution_count": 15,
      "outputs": [
        {
          "output_type": "execute_result",
          "data": {
            "text/plain": [
              "(30490, 1919)"
            ]
          },
          "metadata": {
            "tags": []
          },
          "execution_count": 15
        }
      ]
    },
    {
      "cell_type": "code",
      "metadata": {
        "id": "oTeAj3qXYgID",
        "colab_type": "code",
        "colab": {}
      },
      "source": [
        "nrows = 365 * 2 * NUM_ITEMS"
      ],
      "execution_count": null,
      "outputs": []
    },
    {
      "cell_type": "code",
      "metadata": {
        "id": "jRZLSkUlYf7o",
        "colab_type": "code",
        "colab": {}
      },
      "source": [
        ""
      ],
      "execution_count": null,
      "outputs": []
    },
    {
      "cell_type": "code",
      "metadata": {
        "id": "4oxtyLUwYft7",
        "colab_type": "code",
        "colab": {}
      },
      "source": [
        ""
      ],
      "execution_count": null,
      "outputs": []
    },
    {
      "cell_type": "code",
      "metadata": {
        "id": "rjdOrCMcPH_c",
        "colab_type": "code",
        "colab": {
          "base_uri": "https://localhost:8080/",
          "height": 251
        },
        "outputId": "0218190c-67b3-45e6-bcf6-50b0110e65ab"
      },
      "source": [
        "stv.head()"
      ],
      "execution_count": null,
      "outputs": [
        {
          "output_type": "execute_result",
          "data": {
            "text/html": [
              "<div>\n",
              "<style scoped>\n",
              "    .dataframe tbody tr th:only-of-type {\n",
              "        vertical-align: middle;\n",
              "    }\n",
              "\n",
              "    .dataframe tbody tr th {\n",
              "        vertical-align: top;\n",
              "    }\n",
              "\n",
              "    .dataframe thead th {\n",
              "        text-align: right;\n",
              "    }\n",
              "</style>\n",
              "<table border=\"1\" class=\"dataframe\">\n",
              "  <thead>\n",
              "    <tr style=\"text-align: right;\">\n",
              "      <th></th>\n",
              "      <th>id</th>\n",
              "      <th>item_id</th>\n",
              "      <th>dept_id</th>\n",
              "      <th>cat_id</th>\n",
              "      <th>store_id</th>\n",
              "      <th>state_id</th>\n",
              "      <th>d_1</th>\n",
              "      <th>d_2</th>\n",
              "      <th>d_3</th>\n",
              "      <th>d_4</th>\n",
              "      <th>d_5</th>\n",
              "      <th>d_6</th>\n",
              "      <th>d_7</th>\n",
              "      <th>d_8</th>\n",
              "      <th>d_9</th>\n",
              "      <th>d_10</th>\n",
              "      <th>d_11</th>\n",
              "      <th>d_12</th>\n",
              "      <th>d_13</th>\n",
              "      <th>d_14</th>\n",
              "      <th>d_15</th>\n",
              "      <th>d_16</th>\n",
              "      <th>d_17</th>\n",
              "      <th>d_18</th>\n",
              "      <th>d_19</th>\n",
              "      <th>...</th>\n",
              "      <th>d_1889</th>\n",
              "      <th>d_1890</th>\n",
              "      <th>d_1891</th>\n",
              "      <th>d_1892</th>\n",
              "      <th>d_1893</th>\n",
              "      <th>d_1894</th>\n",
              "      <th>d_1895</th>\n",
              "      <th>d_1896</th>\n",
              "      <th>d_1897</th>\n",
              "      <th>d_1898</th>\n",
              "      <th>d_1899</th>\n",
              "      <th>d_1900</th>\n",
              "      <th>d_1901</th>\n",
              "      <th>d_1902</th>\n",
              "      <th>d_1903</th>\n",
              "      <th>d_1904</th>\n",
              "      <th>d_1905</th>\n",
              "      <th>d_1906</th>\n",
              "      <th>d_1907</th>\n",
              "      <th>d_1908</th>\n",
              "      <th>d_1909</th>\n",
              "      <th>d_1910</th>\n",
              "      <th>d_1911</th>\n",
              "      <th>d_1912</th>\n",
              "      <th>d_1913</th>\n",
              "    </tr>\n",
              "  </thead>\n",
              "  <tbody>\n",
              "    <tr>\n",
              "      <th>0</th>\n",
              "      <td>HOBBIES_1_001_CA_1_validation</td>\n",
              "      <td>HOBBIES_1_001</td>\n",
              "      <td>HOBBIES_1</td>\n",
              "      <td>HOBBIES</td>\n",
              "      <td>CA_1</td>\n",
              "      <td>CA</td>\n",
              "      <td>0</td>\n",
              "      <td>0</td>\n",
              "      <td>0</td>\n",
              "      <td>0</td>\n",
              "      <td>0</td>\n",
              "      <td>0</td>\n",
              "      <td>0</td>\n",
              "      <td>0</td>\n",
              "      <td>0</td>\n",
              "      <td>0</td>\n",
              "      <td>0</td>\n",
              "      <td>0</td>\n",
              "      <td>0</td>\n",
              "      <td>0</td>\n",
              "      <td>0</td>\n",
              "      <td>0</td>\n",
              "      <td>0</td>\n",
              "      <td>0</td>\n",
              "      <td>0</td>\n",
              "      <td>...</td>\n",
              "      <td>0</td>\n",
              "      <td>0</td>\n",
              "      <td>0</td>\n",
              "      <td>1</td>\n",
              "      <td>0</td>\n",
              "      <td>4</td>\n",
              "      <td>2</td>\n",
              "      <td>3</td>\n",
              "      <td>0</td>\n",
              "      <td>1</td>\n",
              "      <td>2</td>\n",
              "      <td>0</td>\n",
              "      <td>0</td>\n",
              "      <td>0</td>\n",
              "      <td>1</td>\n",
              "      <td>1</td>\n",
              "      <td>3</td>\n",
              "      <td>0</td>\n",
              "      <td>1</td>\n",
              "      <td>1</td>\n",
              "      <td>1</td>\n",
              "      <td>3</td>\n",
              "      <td>0</td>\n",
              "      <td>1</td>\n",
              "      <td>1</td>\n",
              "    </tr>\n",
              "    <tr>\n",
              "      <th>1</th>\n",
              "      <td>HOBBIES_1_002_CA_1_validation</td>\n",
              "      <td>HOBBIES_1_002</td>\n",
              "      <td>HOBBIES_1</td>\n",
              "      <td>HOBBIES</td>\n",
              "      <td>CA_1</td>\n",
              "      <td>CA</td>\n",
              "      <td>0</td>\n",
              "      <td>0</td>\n",
              "      <td>0</td>\n",
              "      <td>0</td>\n",
              "      <td>0</td>\n",
              "      <td>0</td>\n",
              "      <td>0</td>\n",
              "      <td>0</td>\n",
              "      <td>0</td>\n",
              "      <td>0</td>\n",
              "      <td>0</td>\n",
              "      <td>0</td>\n",
              "      <td>0</td>\n",
              "      <td>0</td>\n",
              "      <td>0</td>\n",
              "      <td>0</td>\n",
              "      <td>0</td>\n",
              "      <td>0</td>\n",
              "      <td>0</td>\n",
              "      <td>...</td>\n",
              "      <td>0</td>\n",
              "      <td>0</td>\n",
              "      <td>0</td>\n",
              "      <td>0</td>\n",
              "      <td>0</td>\n",
              "      <td>0</td>\n",
              "      <td>0</td>\n",
              "      <td>0</td>\n",
              "      <td>0</td>\n",
              "      <td>0</td>\n",
              "      <td>0</td>\n",
              "      <td>0</td>\n",
              "      <td>0</td>\n",
              "      <td>0</td>\n",
              "      <td>0</td>\n",
              "      <td>0</td>\n",
              "      <td>0</td>\n",
              "      <td>0</td>\n",
              "      <td>0</td>\n",
              "      <td>0</td>\n",
              "      <td>1</td>\n",
              "      <td>0</td>\n",
              "      <td>0</td>\n",
              "      <td>0</td>\n",
              "      <td>0</td>\n",
              "    </tr>\n",
              "    <tr>\n",
              "      <th>2</th>\n",
              "      <td>HOBBIES_1_003_CA_1_validation</td>\n",
              "      <td>HOBBIES_1_003</td>\n",
              "      <td>HOBBIES_1</td>\n",
              "      <td>HOBBIES</td>\n",
              "      <td>CA_1</td>\n",
              "      <td>CA</td>\n",
              "      <td>0</td>\n",
              "      <td>0</td>\n",
              "      <td>0</td>\n",
              "      <td>0</td>\n",
              "      <td>0</td>\n",
              "      <td>0</td>\n",
              "      <td>0</td>\n",
              "      <td>0</td>\n",
              "      <td>0</td>\n",
              "      <td>0</td>\n",
              "      <td>0</td>\n",
              "      <td>0</td>\n",
              "      <td>0</td>\n",
              "      <td>0</td>\n",
              "      <td>0</td>\n",
              "      <td>0</td>\n",
              "      <td>0</td>\n",
              "      <td>0</td>\n",
              "      <td>0</td>\n",
              "      <td>...</td>\n",
              "      <td>0</td>\n",
              "      <td>0</td>\n",
              "      <td>0</td>\n",
              "      <td>1</td>\n",
              "      <td>0</td>\n",
              "      <td>0</td>\n",
              "      <td>0</td>\n",
              "      <td>1</td>\n",
              "      <td>0</td>\n",
              "      <td>0</td>\n",
              "      <td>0</td>\n",
              "      <td>0</td>\n",
              "      <td>0</td>\n",
              "      <td>1</td>\n",
              "      <td>2</td>\n",
              "      <td>2</td>\n",
              "      <td>1</td>\n",
              "      <td>2</td>\n",
              "      <td>1</td>\n",
              "      <td>1</td>\n",
              "      <td>1</td>\n",
              "      <td>0</td>\n",
              "      <td>1</td>\n",
              "      <td>1</td>\n",
              "      <td>1</td>\n",
              "    </tr>\n",
              "    <tr>\n",
              "      <th>3</th>\n",
              "      <td>HOBBIES_1_004_CA_1_validation</td>\n",
              "      <td>HOBBIES_1_004</td>\n",
              "      <td>HOBBIES_1</td>\n",
              "      <td>HOBBIES</td>\n",
              "      <td>CA_1</td>\n",
              "      <td>CA</td>\n",
              "      <td>0</td>\n",
              "      <td>0</td>\n",
              "      <td>0</td>\n",
              "      <td>0</td>\n",
              "      <td>0</td>\n",
              "      <td>0</td>\n",
              "      <td>0</td>\n",
              "      <td>0</td>\n",
              "      <td>0</td>\n",
              "      <td>0</td>\n",
              "      <td>0</td>\n",
              "      <td>0</td>\n",
              "      <td>0</td>\n",
              "      <td>0</td>\n",
              "      <td>0</td>\n",
              "      <td>0</td>\n",
              "      <td>0</td>\n",
              "      <td>0</td>\n",
              "      <td>0</td>\n",
              "      <td>...</td>\n",
              "      <td>0</td>\n",
              "      <td>3</td>\n",
              "      <td>1</td>\n",
              "      <td>2</td>\n",
              "      <td>1</td>\n",
              "      <td>3</td>\n",
              "      <td>1</td>\n",
              "      <td>0</td>\n",
              "      <td>2</td>\n",
              "      <td>5</td>\n",
              "      <td>4</td>\n",
              "      <td>2</td>\n",
              "      <td>0</td>\n",
              "      <td>3</td>\n",
              "      <td>0</td>\n",
              "      <td>1</td>\n",
              "      <td>0</td>\n",
              "      <td>5</td>\n",
              "      <td>4</td>\n",
              "      <td>1</td>\n",
              "      <td>0</td>\n",
              "      <td>1</td>\n",
              "      <td>3</td>\n",
              "      <td>7</td>\n",
              "      <td>2</td>\n",
              "    </tr>\n",
              "    <tr>\n",
              "      <th>4</th>\n",
              "      <td>HOBBIES_1_005_CA_1_validation</td>\n",
              "      <td>HOBBIES_1_005</td>\n",
              "      <td>HOBBIES_1</td>\n",
              "      <td>HOBBIES</td>\n",
              "      <td>CA_1</td>\n",
              "      <td>CA</td>\n",
              "      <td>0</td>\n",
              "      <td>0</td>\n",
              "      <td>0</td>\n",
              "      <td>0</td>\n",
              "      <td>0</td>\n",
              "      <td>0</td>\n",
              "      <td>0</td>\n",
              "      <td>0</td>\n",
              "      <td>0</td>\n",
              "      <td>0</td>\n",
              "      <td>0</td>\n",
              "      <td>0</td>\n",
              "      <td>0</td>\n",
              "      <td>0</td>\n",
              "      <td>0</td>\n",
              "      <td>0</td>\n",
              "      <td>0</td>\n",
              "      <td>0</td>\n",
              "      <td>0</td>\n",
              "      <td>...</td>\n",
              "      <td>4</td>\n",
              "      <td>0</td>\n",
              "      <td>1</td>\n",
              "      <td>4</td>\n",
              "      <td>0</td>\n",
              "      <td>1</td>\n",
              "      <td>0</td>\n",
              "      <td>1</td>\n",
              "      <td>0</td>\n",
              "      <td>1</td>\n",
              "      <td>1</td>\n",
              "      <td>2</td>\n",
              "      <td>0</td>\n",
              "      <td>1</td>\n",
              "      <td>1</td>\n",
              "      <td>2</td>\n",
              "      <td>1</td>\n",
              "      <td>1</td>\n",
              "      <td>0</td>\n",
              "      <td>1</td>\n",
              "      <td>1</td>\n",
              "      <td>2</td>\n",
              "      <td>2</td>\n",
              "      <td>2</td>\n",
              "      <td>4</td>\n",
              "    </tr>\n",
              "  </tbody>\n",
              "</table>\n",
              "<p>5 rows × 1919 columns</p>\n",
              "</div>"
            ],
            "text/plain": [
              "                              id        item_id    dept_id   cat_id store_id  \\\n",
              "0  HOBBIES_1_001_CA_1_validation  HOBBIES_1_001  HOBBIES_1  HOBBIES     CA_1   \n",
              "1  HOBBIES_1_002_CA_1_validation  HOBBIES_1_002  HOBBIES_1  HOBBIES     CA_1   \n",
              "2  HOBBIES_1_003_CA_1_validation  HOBBIES_1_003  HOBBIES_1  HOBBIES     CA_1   \n",
              "3  HOBBIES_1_004_CA_1_validation  HOBBIES_1_004  HOBBIES_1  HOBBIES     CA_1   \n",
              "4  HOBBIES_1_005_CA_1_validation  HOBBIES_1_005  HOBBIES_1  HOBBIES     CA_1   \n",
              "\n",
              "  state_id  d_1  d_2  d_3  d_4  d_5  d_6  d_7  d_8  d_9  d_10  d_11  d_12  \\\n",
              "0       CA    0    0    0    0    0    0    0    0    0     0     0     0   \n",
              "1       CA    0    0    0    0    0    0    0    0    0     0     0     0   \n",
              "2       CA    0    0    0    0    0    0    0    0    0     0     0     0   \n",
              "3       CA    0    0    0    0    0    0    0    0    0     0     0     0   \n",
              "4       CA    0    0    0    0    0    0    0    0    0     0     0     0   \n",
              "\n",
              "   d_13  d_14  d_15  d_16  d_17  d_18  d_19  ...  d_1889  d_1890  d_1891  \\\n",
              "0     0     0     0     0     0     0     0  ...       0       0       0   \n",
              "1     0     0     0     0     0     0     0  ...       0       0       0   \n",
              "2     0     0     0     0     0     0     0  ...       0       0       0   \n",
              "3     0     0     0     0     0     0     0  ...       0       3       1   \n",
              "4     0     0     0     0     0     0     0  ...       4       0       1   \n",
              "\n",
              "   d_1892  d_1893  d_1894  d_1895  d_1896  d_1897  d_1898  d_1899  d_1900  \\\n",
              "0       1       0       4       2       3       0       1       2       0   \n",
              "1       0       0       0       0       0       0       0       0       0   \n",
              "2       1       0       0       0       1       0       0       0       0   \n",
              "3       2       1       3       1       0       2       5       4       2   \n",
              "4       4       0       1       0       1       0       1       1       2   \n",
              "\n",
              "   d_1901  d_1902  d_1903  d_1904  d_1905  d_1906  d_1907  d_1908  d_1909  \\\n",
              "0       0       0       1       1       3       0       1       1       1   \n",
              "1       0       0       0       0       0       0       0       0       1   \n",
              "2       0       1       2       2       1       2       1       1       1   \n",
              "3       0       3       0       1       0       5       4       1       0   \n",
              "4       0       1       1       2       1       1       0       1       1   \n",
              "\n",
              "   d_1910  d_1911  d_1912  d_1913  \n",
              "0       3       0       1       1  \n",
              "1       0       0       0       0  \n",
              "2       0       1       1       1  \n",
              "3       1       3       7       2  \n",
              "4       2       2       2       4  \n",
              "\n",
              "[5 rows x 1919 columns]"
            ]
          },
          "metadata": {
            "tags": []
          },
          "execution_count": 20
        }
      ]
    },
    {
      "cell_type": "code",
      "metadata": {
        "id": "eMesFOYaPSrH",
        "colab_type": "code",
        "colab": {}
      },
      "source": [
        ""
      ],
      "execution_count": null,
      "outputs": []
    },
    {
      "cell_type": "code",
      "metadata": {
        "id": "AkhaL0J2PHoP",
        "colab_type": "code",
        "colab": {}
      },
      "source": [
        "stv.drop(\"\")"
      ],
      "execution_count": null,
      "outputs": []
    },
    {
      "cell_type": "code",
      "metadata": {
        "id": "jFyzIFetRHzI",
        "colab_type": "code",
        "colab": {}
      },
      "source": [
        ""
      ],
      "execution_count": null,
      "outputs": []
    },
    {
      "cell_type": "code",
      "metadata": {
        "id": "YgioQeJuRHtz",
        "colab_type": "code",
        "colab": {}
      },
      "source": [
        ""
      ],
      "execution_count": null,
      "outputs": []
    },
    {
      "cell_type": "code",
      "metadata": {
        "id": "zzLn41AtMjHQ",
        "colab_type": "code",
        "colab": {
          "base_uri": "https://localhost:8080/",
          "height": 334
        },
        "outputId": "ed9bf285-3062-469a-e188-f421b7dfb987"
      },
      "source": [
        "d_cols = [c for c in stv.columns if 'd_' in c]\n",
        "stv.loc[stv['id'] == 'FOODS_3_090_CA_3_validation'] \\\n",
        "    .set_index('id')[d_cols] \\\n",
        "    .T \\\n",
        "    .plot(figsize=(15, 5),\n",
        "          title='FOODS_3_090_CA_3 sales by \"d\" number',\n",
        "          color=next(color_cycle))\n",
        "plt.legend('')\n",
        "plt.show()"
      ],
      "execution_count": null,
      "outputs": [
        {
          "output_type": "display_data",
          "data": {
            "image/png": "[encoded data removed]",
            "text/plain": [
              "<Figure size 1080x360 with 1 Axes>"
            ]
          },
          "metadata": {
            "tags": [],
            "needs_background": "light"
          }
        }
      ]
    },
    {
      "cell_type": "code",
      "metadata": {
        "id": "D2_0YYGoMipW",
        "colab_type": "code",
        "colab": {}
      },
      "source": [
        ""
      ],
      "execution_count": null,
      "outputs": []
    },
    {
      "cell_type": "code",
      "metadata": {
        "id": "bQIG-HYLMiWa",
        "colab_type": "code",
        "colab": {}
      },
      "source": [
        ""
      ],
      "execution_count": null,
      "outputs": []
    },
    {
      "cell_type": "code",
      "metadata": {
        "id": "-nqRd0FAIgxL",
        "colab_type": "code",
        "colab": {}
      },
      "source": [
        "from sklearn.preprocessing import LabelEncoder\n",
        "\n",
        "def transform(data):\n",
        "    \n",
        "    nan_features = ['event_name_1', 'event_type_1', 'event_name_2', 'event_type_2']\n",
        "    for feature in nan_features:\n",
        "        data[feature].fillna('unknown', inplace = True)\n",
        "        \n",
        "    cat = ['event_name_1','event_type_1','event_name_2','event_type_2','snap_CA','snap_TX','snap_WI']\n",
        "    for feature in cat:\n",
        "        encoder = LabelEncoder()\n",
        "        data[feature] = encoder.fit_transform(data[feature])\n",
        "    \n",
        "    return data\n",
        "#calendarの何もない日をunknownで埋めて、label encoderによって処理しやすい形に変える\n",
        "# one-hot encodingのほうが良いのでは？"
      ],
      "execution_count": null,
      "outputs": []
    },
    {
      "cell_type": "code",
      "metadata": {
        "id": "WL4JKE3mMHZx",
        "colab_type": "code",
        "colab": {}
      },
      "source": [
        ""
      ],
      "execution_count": null,
      "outputs": []
    },
    {
      "cell_type": "code",
      "metadata": {
        "id": "2YOcLBd5MINY",
        "colab_type": "code",
        "colab": {}
      },
      "source": [
        ""
      ],
      "execution_count": null,
      "outputs": []
    },
    {
      "cell_type": "code",
      "metadata": {
        "id": "B9GoLWXiMICt",
        "colab_type": "code",
        "colab": {}
      },
      "source": [
        ""
      ],
      "execution_count": null,
      "outputs": []
    },
    {
      "cell_type": "code",
      "metadata": {
        "id": "ckAh_tuwMHF0",
        "colab_type": "code",
        "colab": {}
      },
      "source": [
        ""
      ],
      "execution_count": null,
      "outputs": []
    },
    {
      "cell_type": "code",
      "metadata": {
        "id": "OUGRBJqNMGvT",
        "colab_type": "code",
        "colab": {}
      },
      "source": [
        ""
      ],
      "execution_count": null,
      "outputs": []
    },
    {
      "cell_type": "code",
      "metadata": {
        "id": "bwqz0dVjMGYL",
        "colab_type": "code",
        "colab": {}
      },
      "source": [
        ""
      ],
      "execution_count": null,
      "outputs": []
    },
    {
      "cell_type": "code",
      "metadata": {
        "id": "UK3D5YS-IgcC",
        "colab_type": "code",
        "colab": {}
      },
      "source": [
        ""
      ],
      "execution_count": null,
      "outputs": []
    },
    {
      "cell_type": "code",
      "metadata": {
        "id": "6h4xfpLvShJo",
        "colab_type": "code",
        "colab": {
          "base_uri": "https://localhost:8080/",
          "height": 34
        },
        "outputId": "48367f4e-f250-4189-a4f0-ef4f5d3fe379"
      },
      "source": [
        "from sklearn import preprocessing, metrics\n",
        "from keras.models import Sequential\n",
        "from keras.layers import Dense\n",
        "from keras.layers import LSTM,Dropout\n",
        "from keras.layers import RepeatVector,TimeDistributed, BatchNormalization\n",
        "from numpy import array\n",
        "from keras.models import Sequential, load_model\n",
        "from keras.optimizers import Adam, RMSprop\n",
        "#import utils_paths\n",
        "import re\n",
        "from tqdm import tqdm\n",
        "import os\n",
        "\n",
        "\"\"\"\n",
        "仮のモデル\n",
        "ハイパーパラメータを引数にとれるよう改造すべき？\n",
        "※ チューニングができるように\n",
        "\"\"\"\n",
        "def build_model(lstm_unit = 128, timesteps = 28, delay = 1, n_out_seq_length = 28, num_y = 1, repeat_vector = 28):\n",
        "    train_generator = train_data_from_csv_generator(num=1) \n",
        "    x_shape = next(train_generator).shape\n",
        "    len_sequence, num_features = x_shape\n",
        "\n",
        "    model = Sequential()\n",
        "\n",
        "    model.add(LSTM(lstm_unit, activation='relu', batch_input_shape=(None, timesteps, num_features), return_sequences=False))\n",
        "    model.add(BatchNormalization())\n",
        "    model.add(RepeatVector(repeat_vector))\n",
        "    model.add(LSTM(32, activation='relu', return_sequences=True))\n",
        "    model.add(BatchNormalization())\n",
        "    model.add(Dropout(0.1))  \n",
        "    model.add(TimeDistributed(Dense(delay, activation=\"relu\")))   # num_y means the shape of y,in some problem(like translate), it can be many.\n",
        "                                                #In that case, you should set the  activation= 'softmax'\n",
        "    \n",
        "    #RMSpropOptimizer = RMSprop(lr=0.001, clipvalue=0.5)\n",
        "    #model.compile(optimizer=RMSpropOptimizer, loss='mean_squared_error', metrics=[\"accuracy\"])\n",
        "    model.compile(optimizer=\"adam\", loss='mean_squared_error', metrics=[\"accuracy\"])\n",
        "\n",
        "\n",
        "    return model"
      ],
      "execution_count": null,
      "outputs": [
        {
          "output_type": "stream",
          "text": [
            "Using TensorFlow backend.\n"
          ],
          "name": "stderr"
        }
      ]
    },
    {
      "cell_type": "code",
      "metadata": {
        "id": "_G0fcqThTEhP",
        "colab_type": "code",
        "colab": {
          "base_uri": "https://localhost:8080/",
          "height": 404
        },
        "outputId": "5b731973-e3cf-442c-b779-015bd20a8868"
      },
      "source": [
        "model = build_model()\n",
        "model.summary()"
      ],
      "execution_count": null,
      "outputs": [
        {
          "output_type": "stream",
          "text": [
            "Model: \"sequential_1\"\n",
            "_________________________________________________________________\n",
            "Layer (type)                 Output Shape              Param #   \n",
            "=================================================================\n",
            "lstm_1 (LSTM)                (None, 128)               73216     \n",
            "_________________________________________________________________\n",
            "batch_normalization_1 (Batch (None, 128)               512       \n",
            "_________________________________________________________________\n",
            "repeat_vector_1 (RepeatVecto (None, 28, 128)           0         \n",
            "_________________________________________________________________\n",
            "lstm_2 (LSTM)                (None, 28, 32)            20608     \n",
            "_________________________________________________________________\n",
            "batch_normalization_2 (Batch (None, 28, 32)            128       \n",
            "_________________________________________________________________\n",
            "dropout_1 (Dropout)          (None, 28, 32)            0         \n",
            "_________________________________________________________________\n",
            "time_distributed_1 (TimeDist (None, 28, 1)             33        \n",
            "=================================================================\n",
            "Total params: 94,497\n",
            "Trainable params: 94,177\n",
            "Non-trainable params: 320\n",
            "_________________________________________________________________\n"
          ],
          "name": "stdout"
        }
      ]
    },
    {
      "cell_type": "code",
      "metadata": {
        "id": "fw5dNX9qTHjA",
        "colab_type": "code",
        "colab": {}
      },
      "source": [
        "from keras.utils import Sequence\n",
        "from keras.models import Sequential\n",
        "\n",
        "\"\"\"\n",
        "model.fit_generatorを使うためのユーザ定義関数\n",
        "※ generator を使わないとメモリが死ぬ\n",
        "\"\"\"\n",
        "class ReccurentTrainGenerator(Sequence):\n",
        "    def _resetindices(self):\n",
        "        \"\"\"\n",
        "        バッチ生成用のインデックスをランダムに出力\n",
        "        \"\"\"\n",
        "        self.num_called = 0\n",
        "\n",
        "        all_idx = np.random.permutation(np.arange(self.num_batches))\n",
        "        remain_idx = np.random.choice(np.arange(self.num_batches),\n",
        "                                      size=(self.steps_per_epoch*self.batch_size-len(all_idx)),\n",
        "                                      replace=False)\n",
        "        \n",
        "        self.indices = np.hstack([all_idx, remain_idx]).reshape(self.steps_per_epoch, self.batch_size)\n",
        "\n",
        "    def __init__(self, InputTensor, batch_size, InputSteps=28, OutputSteps=28, delay=1, normalize_factor=None):\n",
        "        \"\"\"\n",
        "        【入力】\n",
        "        InputTensor: 入力データ(説明変数) データ数(\"HOBBIES_1_...\"などに対応) × データ点数(時系列方向のデータ数) × 特徴量数 のndarray\n",
        "                     ※ 正解ラベルも、この時系列データからとるのでこれだけ入力すればOK \n",
        "        batch_size: バッチサイズ(例えば、timestepが5として、時刻0~4までのデータ、1~5までのデータ、...、10~14までのデータ、\n",
        "                                をひとまとめにして1データとみなすとする。RNNの場合はこのサイズがバッチサイズに対応する。)\n",
        "        InputSteps: リカレント層に食わせるデータを、何ステップ前までのデータにするか\n",
        "        OutputSteps: リカレント層からの出力(予測ステップ数)の設定値\n",
        "        delay: 目的変数をどの程度遅らせるか？(予測ステップのスタート位置をどの程度後ろにずらすか)\n",
        "        normalize_factor: 正規化する際のスケーリングをどの程度にするか\n",
        "        \"\"\"\n",
        "        self.train_tensor = InputTensor \n",
        "\n",
        "        # 各種パラメータ\n",
        "        self.num_datas = InputTensor.shape[0]\n",
        "        self.len_sequence = InputTensor.shape[1]\n",
        "        self.num_features = InputTensor.shape[2]\n",
        "        self.batch_size = batch_size\n",
        "        self.input_steps = InputSteps\n",
        "        self.output_steps = OutputSteps\n",
        "        self.delay = delay\n",
        "\n",
        "        # 現在のエポックでバッチ生成の対象となっているデータ系列\n",
        "        self.now_data = InputTensor[0]\n",
        "\n",
        "        # 各データ系列に対し、バッチサイズいくつ作れるか計算するのに必要な値\n",
        "        self.len_requied_per_batch = InputSteps + (batch_size-1) + (delay-1) + OutputSteps # 訓練データと正解データを作るために必要なサイズ \n",
        "        self.num_batches = self.len_sequence - self.len_requied_per_batch + 1              # 作れるバッチの数\n",
        "\n",
        "        # 1エポック当たりのステップ数\n",
        "        self.steps_per_epoch = int(np.ceil(self.len_sequence / float(batch_size)))\n",
        "        \n",
        "        # バッチ生成用の乱数初期化\n",
        "        self._resetindices()\n",
        "\n",
        "        # データ取得用インデックス生成\n",
        "        self.data_idx = self._reset_dataset_indices(self.num_datas)\n",
        "        self.num_epoch = 0\n",
        "\n",
        "        self.normalize_factor = normalize_factor\n",
        "\n",
        "\n",
        "    def __len__(self):\n",
        "        \"\"\"\n",
        "        1エポックあたりのステップ数をリターン\n",
        "        \"\"\"\n",
        "        return self.steps_per_epoch\n",
        "\n",
        "    def __getitem__(self, idx):\n",
        "        \"\"\"\n",
        "        データをバッチにまとめて出力\n",
        "        \"\"\"\n",
        "        indices_temp = self.indices[idx] # indices は (steps_per_epoch, batchsize)の array\n",
        "\n",
        "        batch_x = np.array([self.now_data[i:i+self.input_steps] for i in indices_temp])\n",
        "        batch_y = np.array([self.now_data[i+self.input_steps+(self.delay-1):i+self.input_steps+(self.delay-1)+self.output_steps, -1] for i in indices_temp]).reshape(self.batch_size, self.output_steps, 1)\n",
        "\n",
        "        if self.num_called == (self.steps_per_epoch-1):\n",
        "            self._resetindices()\n",
        "        else:\n",
        "            self.num_called += 1\n",
        "\n",
        "        if self.normalize_factor:\n",
        "            batch_x = batch_x / self.normalize_factor\n",
        "            batch_y = batch_y / self.normalize_factor\n",
        "\n",
        "        return batch_x, batch_y\n",
        "\n",
        "    def on_epoch_end(self):\n",
        "        \"\"\"\n",
        "        Epoch 終了ごとにデータセットを入れ替える\n",
        "        (データセット：\"HOBBIES_1_...\"などに対応)\n",
        "        \"\"\"\n",
        "        if self.num_epoch == self.num_datas:\n",
        "            self.num_epoch = 0\n",
        "            self.data_idx = self._reset_dataset_indices(self.num_datas)\n",
        "        else:\n",
        "            self.num_epoch += 1\n",
        "        \n",
        "        next_data_idx = self.data_idx[self.num_epoch]\n",
        "        self.now_data = self.train_tensor[next_data_idx]\n",
        "\n",
        "\n",
        "    def _reset_dataset_indices(self, num_datas):\n",
        "        \"\"\"\n",
        "        Epoch毎に入れ替えるデータのインデックスをランダムにするためのメソッド\n",
        "        \"\"\"\n",
        "        return np.random.permutation(np.arange(num_datas))"
      ],
      "execution_count": null,
      "outputs": []
    },
    {
      "cell_type": "code",
      "metadata": {
        "id": "Rb8ik8H2USIc",
        "colab_type": "code",
        "colab": {}
      },
      "source": [
        "\"\"\"\n",
        "Generatorに食わせるためのトレーニングデータ(ndarray)作成関数\n",
        "一度作って np.saveで保存すれば使う必要なし(この関数の実行は時間かかる)\n",
        "\"\"\"\n",
        "def CreateTrainingTensor(num=30490):\n",
        "    tg = train_data_from_csv_generator(num=1)\n",
        "    shape = next(tg).shape\n",
        "    X_train = np.zeros((num, shape[0], shape[1]))\n",
        "\n",
        "    train_generator = train_data_from_csv_generator(num=num)\n",
        "\n",
        "    for i, array in enumerate(train_generator):\n",
        "        if i/1000 == i//1000:\n",
        "            print(i)\n",
        "\n",
        "        X_train[i] = array\n",
        "\n",
        "    return X_train"
      ],
      "execution_count": null,
      "outputs": []
    },
    {
      "cell_type": "code",
      "metadata": {
        "id": "quPs4QymUico",
        "colab_type": "code",
        "colab": {}
      },
      "source": [
        "# 作成と保存の例\n",
        "# X_train = CreateTrainingTensor()\n",
        "# X_train = CreateTrainingTensor()"
      ],
      "execution_count": null,
      "outputs": []
    },
    {
      "cell_type": "code",
      "metadata": {
        "id": "WK57IM-bUp6G",
        "colab_type": "code",
        "colab": {}
      },
      "source": [
        "# 読みだしは基本こっちで\n",
        "X_train = np.load(INPUT_DIR + \"/TrainingTensor.npy\")"
      ],
      "execution_count": null,
      "outputs": []
    },
    {
      "cell_type": "code",
      "metadata": {
        "id": "xvbeoqf6UrtN",
        "colab_type": "code",
        "colab": {}
      },
      "source": [
        "X_max = np.max(X_train)\n",
        "\n",
        "RTG = ReccurentTrainGenerator(InputTensor=X_train[:-100], batch_size=128, InputSteps=28, normalize_factor=X_max)\n",
        "Validation_RTG = ReccurentTrainGenerator(X_train[:-100], batch_size=128, InputSteps=28, normalize_factor=X_max)\n",
        "# トレーニングデータの一部をバリデーション用にする"
      ],
      "execution_count": null,
      "outputs": []
    },
    {
      "cell_type": "code",
      "metadata": {
        "id": "IZvJwlKvU0QY",
        "colab_type": "code",
        "colab": {
          "base_uri": "https://localhost:8080/",
          "height": 633
        },
        "outputId": "ed6a06b3-4c66-4a32-ab89-2f34b466ebfa"
      },
      "source": [
        "from keras.callbacks import EarlyStopping \n",
        " \n",
        "# Early-stopping: patienceはもう少し大きくとる？\n",
        "early_stopping = EarlyStopping(patience=5, verbose=1) \n",
        "\n",
        "history = model.fit_generator(RTG, epochs=500, verbose=1, validation_data=Validation_RTG, callbacks=[early_stopping])"
      ],
      "execution_count": null,
      "outputs": [
        {
          "output_type": "stream",
          "text": [
            "Epoch 1/500\n",
            "16/16 [==============================] - 4s 278ms/step - loss: 5.2515e-04 - accuracy: 0.6719 - val_loss: 3.5139e-08 - val_accuracy: 0.6721\n",
            "Epoch 2/500\n",
            "16/16 [==============================] - 3s 170ms/step - loss: 1.3748e-06 - accuracy: 0.6720 - val_loss: 3.5619e-08 - val_accuracy: 0.6717\n",
            "Epoch 3/500\n",
            "16/16 [==============================] - 3s 171ms/step - loss: 6.1179e-07 - accuracy: 0.6719 - val_loss: 3.5379e-08 - val_accuracy: 0.6718\n",
            "Epoch 4/500\n",
            "16/16 [==============================] - 3s 171ms/step - loss: 3.2946e-07 - accuracy: 0.6718 - val_loss: 3.5109e-08 - val_accuracy: 0.6719\n",
            "Epoch 5/500\n",
            "16/16 [==============================] - 3s 171ms/step - loss: 1.0600e-07 - accuracy: 0.6721 - val_loss: 3.5860e-08 - val_accuracy: 0.6719\n",
            "Epoch 6/500\n",
            "16/16 [==============================] - 3s 181ms/step - loss: 4.2529e-06 - accuracy: 0.6718 - val_loss: 3.5229e-08 - val_accuracy: 0.6719\n",
            "Epoch 7/500\n",
            "16/16 [==============================] - 3s 175ms/step - loss: 2.3316e-07 - accuracy: 0.6723 - val_loss: 3.5199e-08 - val_accuracy: 0.6719\n",
            "Epoch 8/500\n",
            "16/16 [==============================] - 3s 176ms/step - loss: 4.8319e-07 - accuracy: 0.6725 - val_loss: 3.5379e-08 - val_accuracy: 0.6716\n",
            "Epoch 9/500\n",
            "16/16 [==============================] - 3s 176ms/step - loss: 1.0930e-07 - accuracy: 0.6724 - val_loss: 3.5079e-08 - val_accuracy: 0.6722\n",
            "Epoch 10/500\n",
            "16/16 [==============================] - 3s 168ms/step - loss: 1.7133e-07 - accuracy: 0.6719 - val_loss: 3.4808e-08 - val_accuracy: 0.6722\n",
            "Epoch 11/500\n",
            "16/16 [==============================] - 3s 169ms/step - loss: 6.2450e-08 - accuracy: 0.6721 - val_loss: 3.5619e-08 - val_accuracy: 0.6721\n",
            "Epoch 12/500\n",
            "16/16 [==============================] - 3s 167ms/step - loss: 5.2905e-08 - accuracy: 0.6720 - val_loss: 3.4598e-08 - val_accuracy: 0.6726\n",
            "Epoch 13/500\n",
            "16/16 [==============================] - 3s 169ms/step - loss: 5.4576e-08 - accuracy: 0.6720 - val_loss: 3.5860e-08 - val_accuracy: 0.6719\n",
            "Epoch 14/500\n",
            "16/16 [==============================] - 3s 169ms/step - loss: 4.0691e-08 - accuracy: 0.6720 - val_loss: 3.5169e-08 - val_accuracy: 0.6719\n",
            "Epoch 15/500\n",
            "16/16 [==============================] - 3s 169ms/step - loss: 6.6957e-08 - accuracy: 0.6717 - val_loss: 3.5319e-08 - val_accuracy: 0.6719\n",
            "Epoch 16/500\n",
            "16/16 [==============================] - 3s 174ms/step - loss: 9.8043e-08 - accuracy: 0.6719 - val_loss: 3.5589e-08 - val_accuracy: 0.6720\n",
            "Epoch 17/500\n",
            "16/16 [==============================] - 3s 175ms/step - loss: 9.0630e-08 - accuracy: 0.6719 - val_loss: 3.5349e-08 - val_accuracy: 0.6722\n",
            "Epoch 00017: early stopping\n"
          ],
          "name": "stdout"
        }
      ]
    },
    {
      "cell_type": "code",
      "metadata": {
        "id": "65slhPeiU4VU",
        "colab_type": "code",
        "colab": {}
      },
      "source": [
        "# 学習結果の保存\n",
        "model_json_str = model.to_json()\n",
        "open('LSTM_test_model.json', 'w').write(model_json_str)\n",
        "model.save_weights('LSTM_test_weights.h5');"
      ],
      "execution_count": null,
      "outputs": []
    },
    {
      "cell_type": "code",
      "metadata": {
        "id": "AbE6cHwMVQwp",
        "colab_type": "code",
        "colab": {}
      },
      "source": [
        "\"\"\"\n",
        "提出用データの入力作成関数\n",
        "(これも結果をnp.saveで保存してしまえば使う必要なし)\n",
        "\"\"\"\n",
        "def GenerateInputForPrediction(num_samples=30490):\n",
        "    TIMESTEPS = 28\n",
        "\n",
        "    train_generator = train_data_from_csv_generator(num=1) \n",
        "    x_shape = next(train_generator).shape\n",
        "    num_features = x_shape[1]\n",
        "\n",
        "    #X_test = np.zeros((num_samples, TIMESTEPS, num_features))\n",
        "\n",
        "    train_generator = train_data_from_csv_generator(num=num_samples)\n",
        "\n",
        "    for i, array in enumerate(train_generator):\n",
        "        #X_test[i] = array[-TIMESTEPS:]\n",
        "        yield array[-TIMESTEPS:]"
      ],
      "execution_count": null,
      "outputs": []
    },
    {
      "cell_type": "code",
      "metadata": {
        "id": "AxRnBIxTVk0Z",
        "colab_type": "code",
        "colab": {}
      },
      "source": [
        "# テストデータ作成と保存\n",
        "\n",
        "# X_test_generator = GenerateInputForPrediction()\n",
        "# X_test = np.zeros((30490, 28, 14))\n",
        "# for i, array in enumerate(X_test_generator):\n",
        "#     if i / 1000 == i //1000:\n",
        "#         print(i)\n",
        "#     X_test[i] = array \n",
        "# np.save(INPUT_DIR + \"/test_data.npy\", X_test)"
      ],
      "execution_count": null,
      "outputs": []
    },
    {
      "cell_type": "code",
      "metadata": {
        "id": "gfYd3a5yVD71",
        "colab_type": "code",
        "colab": {}
      },
      "source": [
        "# テストデータの読み出し\n",
        "X_test = np.load(INPUT_DIR + \"/test_data.npy\")"
      ],
      "execution_count": null,
      "outputs": []
    },
    {
      "cell_type": "code",
      "metadata": {
        "id": "GOziodsIWG23",
        "colab_type": "code",
        "colab": {}
      },
      "source": [
        "prediction = model.predict(X_test)"
      ],
      "execution_count": null,
      "outputs": []
    },
    {
      "cell_type": "code",
      "metadata": {
        "id": "erRT0TiUWKL3",
        "colab_type": "code",
        "colab": {}
      },
      "source": [
        "\"\"\"\n",
        "予測結果のndarrayを提出形式のcsvに変換する関数\n",
        "\"\"\"\n",
        "\n",
        "INPUT_DIR = \"./drive/My Drive/kaggle/m5-forecasting/datas\"\n",
        "\n",
        "def CreateSubmissionCSV(prediction, save_path=INPUT_DIR):\n",
        "    # Create Prediction DataFrame\n",
        "    prediction = np.rint(prediction)\n",
        "    prediction = prediction.astype(\"int\")\n",
        "    pred_df = pd.DataFrame(prediction.reshape(30490, 28))\n",
        "\n",
        "    # Get \"id\" columns (id の情報だけまとめたファイルを作成した方が軽いはず -> 未実装)\n",
        "    stv = pd.read_csv(INPUT_DIR + \"/sales_train_validation.csv\")\n",
        "    ste = pd.read_csv(INPUT_DIR + \"/sales_train_evaluation.csv\")\n",
        "\n",
        "    # Rename Index & Columns\n",
        "    pred_df.index = list(ste[\"id\"])\n",
        "    pred_df.columns = [f'F{i}' for i in range(1, 28 + 1)]\n",
        "\n",
        "    # Set index label \"id\"\n",
        "    pred_df = pred_df.reset_index()\n",
        "    pred_df = pred_df.rename(columns={\"index\": \"id\"})\n",
        "    pred_df = pred_df.set_index(\"id\")\n",
        "\n",
        "    # Create \"Validation\" DataFrame\n",
        "    validation_df = ste[[\"id\"] +  [\"d_\" + str(i) for i in range(1914, 1942)]]\n",
        "\n",
        "    # Rename columns & set index \"id\"\n",
        "    validation_df = validation_df.set_index(\"id\")\n",
        "    validation_df = validation_df.rename(columns={\"d_\" + str(i + 1913): \"F\" + str(i) for i in range(1, 29)})\n",
        "    validation_df.index = stv[\"id\"]\n",
        "\n",
        "    # Create Submission DataFrame (shape = (60980, 28))\n",
        "    submission_df = pd.concat([validation_df, pred_df], axis=0)\n",
        "    submission_df.to_csv(save_path + \"/submission.csv\")\n",
        "\n",
        "    # For Debug\n",
        "\n",
        "    print(submission_df.shape)\n",
        "    return submission_df\n"
      ],
      "execution_count": null,
      "outputs": []
    },
    {
      "cell_type": "code",
      "metadata": {
        "id": "u8VFL3XAWMkr",
        "colab_type": "code",
        "colab": {
          "base_uri": "https://localhost:8080/",
          "height": 34
        },
        "outputId": "a383e9da-89fb-4889-99a3-4dcbe7b13968"
      },
      "source": [
        "X_test_max = np.max(X_test)\n",
        "sub_df = CreateSubmissionCSV(prediction / X_test_max)"
      ],
      "execution_count": null,
      "outputs": [
        {
          "output_type": "stream",
          "text": [
            "(60980, 28)\n"
          ],
          "name": "stdout"
        }
      ]
    },
    {
      "cell_type": "code",
      "metadata": {
        "id": "K_V9NWimWh1u",
        "colab_type": "code",
        "colab": {
          "base_uri": "https://localhost:8080/",
          "height": 451
        },
        "outputId": "570a8ea3-61ea-4d56-a947-4907eb4a957c"
      },
      "source": [
        "sub_df"
      ],
      "execution_count": null,
      "outputs": [
        {
          "output_type": "execute_result",
          "data": {
            "text/html": [
              "<div>\n",
              "<style scoped>\n",
              "    .dataframe tbody tr th:only-of-type {\n",
              "        vertical-align: middle;\n",
              "    }\n",
              "\n",
              "    .dataframe tbody tr th {\n",
              "        vertical-align: top;\n",
              "    }\n",
              "\n",
              "    .dataframe thead th {\n",
              "        text-align: right;\n",
              "    }\n",
              "</style>\n",
              "<table border=\"1\" class=\"dataframe\">\n",
              "  <thead>\n",
              "    <tr style=\"text-align: right;\">\n",
              "      <th></th>\n",
              "      <th>F1</th>\n",
              "      <th>F2</th>\n",
              "      <th>F3</th>\n",
              "      <th>F4</th>\n",
              "      <th>F5</th>\n",
              "      <th>F6</th>\n",
              "      <th>F7</th>\n",
              "      <th>F8</th>\n",
              "      <th>F9</th>\n",
              "      <th>F10</th>\n",
              "      <th>F11</th>\n",
              "      <th>F12</th>\n",
              "      <th>F13</th>\n",
              "      <th>F14</th>\n",
              "      <th>F15</th>\n",
              "      <th>F16</th>\n",
              "      <th>F17</th>\n",
              "      <th>F18</th>\n",
              "      <th>F19</th>\n",
              "      <th>F20</th>\n",
              "      <th>F21</th>\n",
              "      <th>F22</th>\n",
              "      <th>F23</th>\n",
              "      <th>F24</th>\n",
              "      <th>F25</th>\n",
              "      <th>F26</th>\n",
              "      <th>F27</th>\n",
              "      <th>F28</th>\n",
              "    </tr>\n",
              "    <tr>\n",
              "      <th>id</th>\n",
              "      <th></th>\n",
              "      <th></th>\n",
              "      <th></th>\n",
              "      <th></th>\n",
              "      <th></th>\n",
              "      <th></th>\n",
              "      <th></th>\n",
              "      <th></th>\n",
              "      <th></th>\n",
              "      <th></th>\n",
              "      <th></th>\n",
              "      <th></th>\n",
              "      <th></th>\n",
              "      <th></th>\n",
              "      <th></th>\n",
              "      <th></th>\n",
              "      <th></th>\n",
              "      <th></th>\n",
              "      <th></th>\n",
              "      <th></th>\n",
              "      <th></th>\n",
              "      <th></th>\n",
              "      <th></th>\n",
              "      <th></th>\n",
              "      <th></th>\n",
              "      <th></th>\n",
              "      <th></th>\n",
              "      <th></th>\n",
              "    </tr>\n",
              "  </thead>\n",
              "  <tbody>\n",
              "    <tr>\n",
              "      <th>HOBBIES_1_001_CA_1_validation</th>\n",
              "      <td>0</td>\n",
              "      <td>0</td>\n",
              "      <td>0</td>\n",
              "      <td>2</td>\n",
              "      <td>0</td>\n",
              "      <td>3</td>\n",
              "      <td>5</td>\n",
              "      <td>0</td>\n",
              "      <td>0</td>\n",
              "      <td>1</td>\n",
              "      <td>1</td>\n",
              "      <td>0</td>\n",
              "      <td>2</td>\n",
              "      <td>1</td>\n",
              "      <td>2</td>\n",
              "      <td>2</td>\n",
              "      <td>1</td>\n",
              "      <td>0</td>\n",
              "      <td>2</td>\n",
              "      <td>4</td>\n",
              "      <td>0</td>\n",
              "      <td>0</td>\n",
              "      <td>0</td>\n",
              "      <td>0</td>\n",
              "      <td>3</td>\n",
              "      <td>3</td>\n",
              "      <td>0</td>\n",
              "      <td>1</td>\n",
              "    </tr>\n",
              "    <tr>\n",
              "      <th>HOBBIES_1_002_CA_1_validation</th>\n",
              "      <td>0</td>\n",
              "      <td>1</td>\n",
              "      <td>0</td>\n",
              "      <td>0</td>\n",
              "      <td>0</td>\n",
              "      <td>0</td>\n",
              "      <td>0</td>\n",
              "      <td>0</td>\n",
              "      <td>0</td>\n",
              "      <td>1</td>\n",
              "      <td>0</td>\n",
              "      <td>0</td>\n",
              "      <td>0</td>\n",
              "      <td>0</td>\n",
              "      <td>0</td>\n",
              "      <td>0</td>\n",
              "      <td>0</td>\n",
              "      <td>0</td>\n",
              "      <td>0</td>\n",
              "      <td>1</td>\n",
              "      <td>2</td>\n",
              "      <td>1</td>\n",
              "      <td>1</td>\n",
              "      <td>0</td>\n",
              "      <td>0</td>\n",
              "      <td>0</td>\n",
              "      <td>0</td>\n",
              "      <td>0</td>\n",
              "    </tr>\n",
              "    <tr>\n",
              "      <th>HOBBIES_1_003_CA_1_validation</th>\n",
              "      <td>0</td>\n",
              "      <td>0</td>\n",
              "      <td>1</td>\n",
              "      <td>1</td>\n",
              "      <td>0</td>\n",
              "      <td>2</td>\n",
              "      <td>1</td>\n",
              "      <td>0</td>\n",
              "      <td>0</td>\n",
              "      <td>0</td>\n",
              "      <td>0</td>\n",
              "      <td>2</td>\n",
              "      <td>1</td>\n",
              "      <td>3</td>\n",
              "      <td>0</td>\n",
              "      <td>0</td>\n",
              "      <td>1</td>\n",
              "      <td>0</td>\n",
              "      <td>1</td>\n",
              "      <td>0</td>\n",
              "      <td>2</td>\n",
              "      <td>0</td>\n",
              "      <td>0</td>\n",
              "      <td>0</td>\n",
              "      <td>2</td>\n",
              "      <td>3</td>\n",
              "      <td>0</td>\n",
              "      <td>1</td>\n",
              "    </tr>\n",
              "    <tr>\n",
              "      <th>HOBBIES_1_004_CA_1_validation</th>\n",
              "      <td>0</td>\n",
              "      <td>0</td>\n",
              "      <td>1</td>\n",
              "      <td>2</td>\n",
              "      <td>4</td>\n",
              "      <td>1</td>\n",
              "      <td>6</td>\n",
              "      <td>4</td>\n",
              "      <td>0</td>\n",
              "      <td>0</td>\n",
              "      <td>0</td>\n",
              "      <td>2</td>\n",
              "      <td>2</td>\n",
              "      <td>4</td>\n",
              "      <td>2</td>\n",
              "      <td>1</td>\n",
              "      <td>1</td>\n",
              "      <td>1</td>\n",
              "      <td>1</td>\n",
              "      <td>1</td>\n",
              "      <td>0</td>\n",
              "      <td>4</td>\n",
              "      <td>0</td>\n",
              "      <td>1</td>\n",
              "      <td>3</td>\n",
              "      <td>0</td>\n",
              "      <td>2</td>\n",
              "      <td>6</td>\n",
              "    </tr>\n",
              "    <tr>\n",
              "      <th>HOBBIES_1_005_CA_1_validation</th>\n",
              "      <td>1</td>\n",
              "      <td>0</td>\n",
              "      <td>2</td>\n",
              "      <td>3</td>\n",
              "      <td>1</td>\n",
              "      <td>0</td>\n",
              "      <td>3</td>\n",
              "      <td>2</td>\n",
              "      <td>3</td>\n",
              "      <td>1</td>\n",
              "      <td>1</td>\n",
              "      <td>3</td>\n",
              "      <td>2</td>\n",
              "      <td>3</td>\n",
              "      <td>2</td>\n",
              "      <td>2</td>\n",
              "      <td>2</td>\n",
              "      <td>2</td>\n",
              "      <td>0</td>\n",
              "      <td>0</td>\n",
              "      <td>0</td>\n",
              "      <td>2</td>\n",
              "      <td>1</td>\n",
              "      <td>0</td>\n",
              "      <td>0</td>\n",
              "      <td>2</td>\n",
              "      <td>1</td>\n",
              "      <td>0</td>\n",
              "    </tr>\n",
              "    <tr>\n",
              "      <th>...</th>\n",
              "      <td>...</td>\n",
              "      <td>...</td>\n",
              "      <td>...</td>\n",
              "      <td>...</td>\n",
              "      <td>...</td>\n",
              "      <td>...</td>\n",
              "      <td>...</td>\n",
              "      <td>...</td>\n",
              "      <td>...</td>\n",
              "      <td>...</td>\n",
              "      <td>...</td>\n",
              "      <td>...</td>\n",
              "      <td>...</td>\n",
              "      <td>...</td>\n",
              "      <td>...</td>\n",
              "      <td>...</td>\n",
              "      <td>...</td>\n",
              "      <td>...</td>\n",
              "      <td>...</td>\n",
              "      <td>...</td>\n",
              "      <td>...</td>\n",
              "      <td>...</td>\n",
              "      <td>...</td>\n",
              "      <td>...</td>\n",
              "      <td>...</td>\n",
              "      <td>...</td>\n",
              "      <td>...</td>\n",
              "      <td>...</td>\n",
              "    </tr>\n",
              "    <tr>\n",
              "      <th>FOODS_3_823_WI_3_evaluation</th>\n",
              "      <td>0</td>\n",
              "      <td>0</td>\n",
              "      <td>0</td>\n",
              "      <td>0</td>\n",
              "      <td>0</td>\n",
              "      <td>0</td>\n",
              "      <td>0</td>\n",
              "      <td>0</td>\n",
              "      <td>0</td>\n",
              "      <td>0</td>\n",
              "      <td>0</td>\n",
              "      <td>0</td>\n",
              "      <td>0</td>\n",
              "      <td>0</td>\n",
              "      <td>0</td>\n",
              "      <td>0</td>\n",
              "      <td>0</td>\n",
              "      <td>0</td>\n",
              "      <td>0</td>\n",
              "      <td>0</td>\n",
              "      <td>0</td>\n",
              "      <td>0</td>\n",
              "      <td>0</td>\n",
              "      <td>0</td>\n",
              "      <td>0</td>\n",
              "      <td>2</td>\n",
              "      <td>4</td>\n",
              "      <td>0</td>\n",
              "    </tr>\n",
              "    <tr>\n",
              "      <th>FOODS_3_824_WI_3_evaluation</th>\n",
              "      <td>0</td>\n",
              "      <td>0</td>\n",
              "      <td>0</td>\n",
              "      <td>0</td>\n",
              "      <td>0</td>\n",
              "      <td>0</td>\n",
              "      <td>0</td>\n",
              "      <td>0</td>\n",
              "      <td>0</td>\n",
              "      <td>2</td>\n",
              "      <td>4</td>\n",
              "      <td>7</td>\n",
              "      <td>9</td>\n",
              "      <td>11</td>\n",
              "      <td>13</td>\n",
              "      <td>15</td>\n",
              "      <td>13</td>\n",
              "      <td>0</td>\n",
              "      <td>6</td>\n",
              "      <td>0</td>\n",
              "      <td>20</td>\n",
              "      <td>22</td>\n",
              "      <td>22</td>\n",
              "      <td>22</td>\n",
              "      <td>22</td>\n",
              "      <td>22</td>\n",
              "      <td>23</td>\n",
              "      <td>23</td>\n",
              "    </tr>\n",
              "    <tr>\n",
              "      <th>FOODS_3_825_WI_3_evaluation</th>\n",
              "      <td>0</td>\n",
              "      <td>1</td>\n",
              "      <td>1</td>\n",
              "      <td>0</td>\n",
              "      <td>0</td>\n",
              "      <td>0</td>\n",
              "      <td>0</td>\n",
              "      <td>0</td>\n",
              "      <td>0</td>\n",
              "      <td>0</td>\n",
              "      <td>0</td>\n",
              "      <td>0</td>\n",
              "      <td>0</td>\n",
              "      <td>1</td>\n",
              "      <td>2</td>\n",
              "      <td>4</td>\n",
              "      <td>4</td>\n",
              "      <td>4</td>\n",
              "      <td>4</td>\n",
              "      <td>4</td>\n",
              "      <td>4</td>\n",
              "      <td>4</td>\n",
              "      <td>4</td>\n",
              "      <td>4</td>\n",
              "      <td>4</td>\n",
              "      <td>4</td>\n",
              "      <td>4</td>\n",
              "      <td>4</td>\n",
              "    </tr>\n",
              "    <tr>\n",
              "      <th>FOODS_3_826_WI_3_evaluation</th>\n",
              "      <td>0</td>\n",
              "      <td>0</td>\n",
              "      <td>0</td>\n",
              "      <td>0</td>\n",
              "      <td>0</td>\n",
              "      <td>0</td>\n",
              "      <td>0</td>\n",
              "      <td>0</td>\n",
              "      <td>0</td>\n",
              "      <td>0</td>\n",
              "      <td>0</td>\n",
              "      <td>0</td>\n",
              "      <td>0</td>\n",
              "      <td>0</td>\n",
              "      <td>0</td>\n",
              "      <td>0</td>\n",
              "      <td>0</td>\n",
              "      <td>0</td>\n",
              "      <td>0</td>\n",
              "      <td>1</td>\n",
              "      <td>1</td>\n",
              "      <td>3</td>\n",
              "      <td>4</td>\n",
              "      <td>5</td>\n",
              "      <td>6</td>\n",
              "      <td>7</td>\n",
              "      <td>7</td>\n",
              "      <td>8</td>\n",
              "    </tr>\n",
              "    <tr>\n",
              "      <th>FOODS_3_827_WI_3_evaluation</th>\n",
              "      <td>0</td>\n",
              "      <td>0</td>\n",
              "      <td>0</td>\n",
              "      <td>0</td>\n",
              "      <td>0</td>\n",
              "      <td>0</td>\n",
              "      <td>0</td>\n",
              "      <td>0</td>\n",
              "      <td>0</td>\n",
              "      <td>0</td>\n",
              "      <td>0</td>\n",
              "      <td>1</td>\n",
              "      <td>0</td>\n",
              "      <td>0</td>\n",
              "      <td>0</td>\n",
              "      <td>0</td>\n",
              "      <td>2</td>\n",
              "      <td>0</td>\n",
              "      <td>1</td>\n",
              "      <td>1</td>\n",
              "      <td>0</td>\n",
              "      <td>1</td>\n",
              "      <td>2</td>\n",
              "      <td>1</td>\n",
              "      <td>0</td>\n",
              "      <td>1</td>\n",
              "      <td>2</td>\n",
              "      <td>0</td>\n",
              "    </tr>\n",
              "  </tbody>\n",
              "</table>\n",
              "<p>60980 rows × 28 columns</p>\n",
              "</div>"
            ],
            "text/plain": [
              "                               F1  F2  F3  F4  F5  ...  F24  F25  F26  F27  F28\n",
              "id                                                 ...                         \n",
              "HOBBIES_1_001_CA_1_validation   0   0   0   2   0  ...    0    3    3    0    1\n",
              "HOBBIES_1_002_CA_1_validation   0   1   0   0   0  ...    0    0    0    0    0\n",
              "HOBBIES_1_003_CA_1_validation   0   0   1   1   0  ...    0    2    3    0    1\n",
              "HOBBIES_1_004_CA_1_validation   0   0   1   2   4  ...    1    3    0    2    6\n",
              "HOBBIES_1_005_CA_1_validation   1   0   2   3   1  ...    0    0    2    1    0\n",
              "...                            ..  ..  ..  ..  ..  ...  ...  ...  ...  ...  ...\n",
              "FOODS_3_823_WI_3_evaluation     0   0   0   0   0  ...    0    0    2    4    0\n",
              "FOODS_3_824_WI_3_evaluation     0   0   0   0   0  ...   22   22   22   23   23\n",
              "FOODS_3_825_WI_3_evaluation     0   1   1   0   0  ...    4    4    4    4    4\n",
              "FOODS_3_826_WI_3_evaluation     0   0   0   0   0  ...    5    6    7    7    8\n",
              "FOODS_3_827_WI_3_evaluation     0   0   0   0   0  ...    1    0    1    2    0\n",
              "\n",
              "[60980 rows x 28 columns]"
            ]
          },
          "metadata": {
            "tags": []
          },
          "execution_count": 26
        }
      ]
    },
    {
      "cell_type": "markdown",
      "metadata": {
        "id": "XGDV9rruInNi",
        "colab_type": "text"
      },
      "source": [
        "# クロスバリデーションのためのテスト"
      ]
    },
    {
      "cell_type": "code",
      "metadata": {
        "id": "h4rRER08Irl7",
        "colab_type": "code",
        "colab": {}
      },
      "source": [
        "# データ読み出し\n",
        "X_train = np.load(INPUT_DIR + \"/TrainingTensor.npy\")"
      ],
      "execution_count": null,
      "outputs": []
    },
    {
      "cell_type": "code",
      "metadata": {
        "id": "VTFTDLF_IyLq",
        "colab_type": "code",
        "colab": {}
      },
      "source": [
        "from sklearn.model_selection import KFold\n",
        "\n",
        "kfold = KFold(n_splits=5)\n",
        "CV_gen = kfold.split(X_train[:1000])"
      ],
      "execution_count": null,
      "outputs": []
    },
    {
      "cell_type": "code",
      "metadata": {
        "id": "A9_sYZyGKLLd",
        "colab_type": "code",
        "colab": {
          "base_uri": "https://localhost:8080/",
          "height": 34
        },
        "outputId": "bf5b5917-706d-4557-8de8-96cc4369dd33"
      },
      "source": [
        "next(CV_gen)[0].shape"
      ],
      "execution_count": null,
      "outputs": [
        {
          "output_type": "execute_result",
          "data": {
            "text/plain": [
              "(800,)"
            ]
          },
          "metadata": {
            "tags": []
          },
          "execution_count": 14
        }
      ]
    },
    {
      "cell_type": "code",
      "metadata": {
        "id": "1-ykC58xKbeL",
        "colab_type": "code",
        "colab": {
          "base_uri": "https://localhost:8080/",
          "height": 1000
        },
        "outputId": "c24b5f4c-a92e-453f-b7d4-4ea8a52c94e7"
      },
      "source": [
        "from keras.callbacks import EarlyStopping \n",
        "\n",
        "History = []\n",
        "\n",
        "# 1000サンプルでクロスバリデーションテスト\n",
        "for train_cv_idx, valid_cv_idx in kfold.split(X_train[:1000]):\n",
        "    X_CV_train_gen = ReccurentTrainGenerator(X_train[train_cv_idx], batch_size=128)\n",
        "    X_CV_valid_gen = ReccurentTrainGenerator(X_train[valid_cv_idx], batch_size=128)\n",
        "\n",
        "    model = build_model() #カテゴリごとのモデルを作る時も、同様にfor文内で再度モデルをビルドすればよいかもしれない。\n",
        " \n",
        "    # Early-stopping: patienceはもう少し大きくとる？\n",
        "    early_stopping = EarlyStopping(patience=5, verbose=1) \n",
        "\n",
        "    history = model.fit_generator(X_CV_train_gen, epochs=500, verbose=1, validation_data=X_CV_valid_gen, callbacks=[early_stopping])\n",
        "    History.append(history)"
      ],
      "execution_count": null,
      "outputs": [
        {
          "output_type": "stream",
          "text": [
            "Epoch 1/500\n",
            "16/16 [==============================] - 4s 272ms/step - loss: 0.4942 - accuracy: 0.5703 - val_loss: 12.5325 - val_accuracy: 0.4849\n",
            "Epoch 2/500\n",
            "16/16 [==============================] - 3s 170ms/step - loss: 0.3649 - accuracy: 0.6107 - val_loss: 0.3896 - val_accuracy: 0.6683\n",
            "Epoch 3/500\n",
            "16/16 [==============================] - 3s 169ms/step - loss: 0.3396 - accuracy: 0.6123 - val_loss: 553.0335 - val_accuracy: 0.6341\n",
            "Epoch 4/500\n",
            "16/16 [==============================] - 3s 170ms/step - loss: 0.3302 - accuracy: 0.6275 - val_loss: 0.7468 - val_accuracy: 0.6242\n",
            "Epoch 5/500\n",
            "16/16 [==============================] - 3s 169ms/step - loss: 0.3171 - accuracy: 0.6379 - val_loss: 0.3511 - val_accuracy: 0.6716\n",
            "Epoch 6/500\n",
            "16/16 [==============================] - 3s 168ms/step - loss: 0.3155 - accuracy: 0.6313 - val_loss: 0.7788 - val_accuracy: 0.6646\n",
            "Epoch 7/500\n",
            "16/16 [==============================] - 3s 170ms/step - loss: 0.3047 - accuracy: 0.6464 - val_loss: 0.3733 - val_accuracy: 0.6095\n",
            "Epoch 8/500\n",
            "16/16 [==============================] - 3s 169ms/step - loss: 0.3033 - accuracy: 0.6456 - val_loss: 0.3270 - val_accuracy: 0.6722\n",
            "Epoch 9/500\n",
            "16/16 [==============================] - 3s 169ms/step - loss: 0.3162 - accuracy: 0.6120 - val_loss: 0.3306 - val_accuracy: 0.6717\n",
            "Epoch 10/500\n",
            "16/16 [==============================] - 3s 168ms/step - loss: 0.3191 - accuracy: 0.6228 - val_loss: 0.2937 - val_accuracy: 0.6722\n",
            "Epoch 11/500\n",
            "16/16 [==============================] - 3s 168ms/step - loss: 0.2881 - accuracy: 0.6493 - val_loss: 0.2907 - val_accuracy: 0.6718\n",
            "Epoch 12/500\n",
            "16/16 [==============================] - 3s 171ms/step - loss: 0.2861 - accuracy: 0.6417 - val_loss: 0.2906 - val_accuracy: 0.6717\n",
            "Epoch 13/500\n",
            "16/16 [==============================] - 3s 168ms/step - loss: 0.3039 - accuracy: 0.6266 - val_loss: 0.3165 - val_accuracy: 0.6723\n",
            "Epoch 14/500\n",
            "16/16 [==============================] - 3s 168ms/step - loss: 0.2767 - accuracy: 0.6461 - val_loss: 0.3175 - val_accuracy: 0.6721\n",
            "Epoch 15/500\n",
            "16/16 [==============================] - 3s 168ms/step - loss: 0.2878 - accuracy: 0.6462 - val_loss: 0.3239 - val_accuracy: 0.6724\n",
            "Epoch 16/500\n",
            "16/16 [==============================] - 3s 171ms/step - loss: 0.2746 - accuracy: 0.6397 - val_loss: 0.3256 - val_accuracy: 0.6724\n",
            "Epoch 17/500\n",
            "16/16 [==============================] - 3s 167ms/step - loss: 0.2698 - accuracy: 0.6144 - val_loss: 0.3297 - val_accuracy: 0.6717\n",
            "Epoch 00017: early stopping\n",
            "Epoch 1/500\n",
            "16/16 [==============================] - 4s 238ms/step - loss: 0.4938 - accuracy: 0.5815 - val_loss: 37.4200 - val_accuracy: 0.4073\n",
            "Epoch 2/500\n",
            "16/16 [==============================] - 3s 167ms/step - loss: 0.3447 - accuracy: 0.6248 - val_loss: 18.7204 - val_accuracy: 0.5436\n",
            "Epoch 3/500\n",
            "16/16 [==============================] - 3s 166ms/step - loss: 0.3426 - accuracy: 0.6344 - val_loss: 0.3257 - val_accuracy: 0.6665\n",
            "Epoch 4/500\n",
            "16/16 [==============================] - 3s 166ms/step - loss: 0.3200 - accuracy: 0.6344 - val_loss: 0.3257 - val_accuracy: 0.6719\n",
            "Epoch 5/500\n",
            "16/16 [==============================] - 3s 166ms/step - loss: 0.3052 - accuracy: 0.6261 - val_loss: 0.3037 - val_accuracy: 0.6656\n",
            "Epoch 6/500\n",
            "16/16 [==============================] - 3s 166ms/step - loss: 0.3158 - accuracy: 0.6252 - val_loss: 13.4833 - val_accuracy: 0.5428\n",
            "Epoch 7/500\n",
            "16/16 [==============================] - 3s 165ms/step - loss: 0.3020 - accuracy: 0.6509 - val_loss: 0.3210 - val_accuracy: 0.6553\n",
            "Epoch 8/500\n",
            "16/16 [==============================] - 3s 165ms/step - loss: 0.3027 - accuracy: 0.6310 - val_loss: 0.2378 - val_accuracy: 0.6716\n",
            "Epoch 9/500\n",
            "16/16 [==============================] - 3s 168ms/step - loss: 0.3181 - accuracy: 0.6162 - val_loss: 0.3275 - val_accuracy: 0.6721\n",
            "Epoch 10/500\n",
            "16/16 [==============================] - 3s 166ms/step - loss: 0.3078 - accuracy: 0.6342 - val_loss: 0.3306 - val_accuracy: 0.6718\n",
            "Epoch 11/500\n",
            "16/16 [==============================] - 3s 167ms/step - loss: 0.3129 - accuracy: 0.6274 - val_loss: 0.3295 - val_accuracy: 0.6718\n",
            "Epoch 12/500\n",
            "16/16 [==============================] - 3s 165ms/step - loss: 0.2957 - accuracy: 0.6276 - val_loss: 0.3270 - val_accuracy: 0.6722\n",
            "Epoch 13/500\n",
            "16/16 [==============================] - 3s 167ms/step - loss: 0.2992 - accuracy: 0.6470 - val_loss: 0.3253 - val_accuracy: 0.6723\n",
            "Epoch 00013: early stopping\n",
            "Epoch 1/500\n",
            "16/16 [==============================] - 4s 241ms/step - loss: 0.5968 - accuracy: 0.5722 - val_loss: 193.6136 - val_accuracy: 0.2846\n",
            "Epoch 2/500\n",
            "16/16 [==============================] - 3s 171ms/step - loss: 0.4377 - accuracy: 0.6135 - val_loss: 0.4397 - val_accuracy: 0.6633\n",
            "Epoch 3/500\n",
            "16/16 [==============================] - 3s 167ms/step - loss: 0.3635 - accuracy: 0.6271 - val_loss: 0.4301 - val_accuracy: 0.6425\n",
            "Epoch 4/500\n",
            "16/16 [==============================] - 3s 169ms/step - loss: 0.3446 - accuracy: 0.6289 - val_loss: 2.9882 - val_accuracy: 0.4172\n",
            "Epoch 5/500\n",
            "16/16 [==============================] - 3s 166ms/step - loss: 0.3531 - accuracy: 0.6282 - val_loss: 2.3598 - val_accuracy: 0.6220\n",
            "Epoch 6/500\n",
            "16/16 [==============================] - 3s 168ms/step - loss: 0.3485 - accuracy: 0.6341 - val_loss: 8.8077 - val_accuracy: 0.1938\n",
            "Epoch 7/500\n",
            "16/16 [==============================] - 3s 167ms/step - loss: 0.3381 - accuracy: 0.6336 - val_loss: 23.6127 - val_accuracy: 0.0369\n",
            "Epoch 8/500\n",
            "16/16 [==============================] - 3s 167ms/step - loss: 0.3262 - accuracy: 0.6463 - val_loss: 76.1985 - val_accuracy: 0.5404\n",
            "Epoch 00008: early stopping\n",
            "Epoch 1/500\n",
            "16/16 [==============================] - 4s 236ms/step - loss: 1.1783 - accuracy: 0.5755 - val_loss: 62.7545 - val_accuracy: 0.4098\n",
            "Epoch 2/500\n",
            "16/16 [==============================] - 3s 167ms/step - loss: 0.8475 - accuracy: 0.5982 - val_loss: 64.8589 - val_accuracy: 0.2253\n",
            "Epoch 3/500\n",
            "16/16 [==============================] - 3s 168ms/step - loss: 0.6777 - accuracy: 0.6190 - val_loss: 8.0432 - val_accuracy: 0.5300\n",
            "Epoch 4/500\n",
            "16/16 [==============================] - 3s 170ms/step - loss: 0.4745 - accuracy: 0.6285 - val_loss: 0.4657 - val_accuracy: 0.6605\n",
            "Epoch 5/500\n",
            "16/16 [==============================] - 3s 168ms/step - loss: 0.4835 - accuracy: 0.6298 - val_loss: 6.2059 - val_accuracy: 0.5301\n",
            "Epoch 6/500\n",
            "16/16 [==============================] - 3s 166ms/step - loss: 0.4552 - accuracy: 0.6354 - val_loss: 4.1453 - val_accuracy: 0.5451\n",
            "Epoch 7/500\n",
            "16/16 [==============================] - 3s 169ms/step - loss: 0.3899 - accuracy: 0.6399 - val_loss: 0.4650 - val_accuracy: 0.6122\n",
            "Epoch 8/500\n",
            "16/16 [==============================] - 3s 171ms/step - loss: 0.4420 - accuracy: 0.6426 - val_loss: 2.5235 - val_accuracy: 0.5957\n",
            "Epoch 9/500\n",
            "16/16 [==============================] - 3s 169ms/step - loss: 0.4065 - accuracy: 0.6393 - val_loss: 0.4000 - val_accuracy: 0.6065\n",
            "Epoch 10/500\n",
            "16/16 [==============================] - 3s 171ms/step - loss: 0.3729 - accuracy: 0.6548 - val_loss: 0.3327 - val_accuracy: 0.6693\n",
            "Epoch 11/500\n",
            "16/16 [==============================] - 3s 176ms/step - loss: 0.4087 - accuracy: 0.6496 - val_loss: 0.4267 - val_accuracy: 0.6502\n",
            "Epoch 12/500\n",
            "16/16 [==============================] - 3s 176ms/step - loss: 0.3674 - accuracy: 0.6541 - val_loss: 0.2823 - val_accuracy: 0.5902\n",
            "Epoch 13/500\n",
            "16/16 [==============================] - 3s 167ms/step - loss: 0.3704 - accuracy: 0.6610 - val_loss: 0.3256 - val_accuracy: 0.6723\n",
            "Epoch 14/500\n",
            "16/16 [==============================] - 3s 171ms/step - loss: 0.3682 - accuracy: 0.6536 - val_loss: 0.3378 - val_accuracy: 0.6700\n",
            "Epoch 15/500\n",
            "16/16 [==============================] - 3s 176ms/step - loss: 0.3588 - accuracy: 0.6576 - val_loss: 0.4813 - val_accuracy: 0.6559\n",
            "Epoch 16/500\n",
            "16/16 [==============================] - 3s 175ms/step - loss: 0.3387 - accuracy: 0.6615 - val_loss: 0.3198 - val_accuracy: 0.6723\n",
            "Epoch 17/500\n",
            "16/16 [==============================] - 3s 174ms/step - loss: 0.3445 - accuracy: 0.6571 - val_loss: 0.3312 - val_accuracy: 0.6720\n",
            "Epoch 00017: early stopping\n",
            "Epoch 1/500\n",
            "16/16 [==============================] - 4s 242ms/step - loss: 0.7951 - accuracy: 0.5710 - val_loss: 2.4229 - val_accuracy: 0.5153\n",
            "Epoch 2/500\n",
            "16/16 [==============================] - 3s 166ms/step - loss: 0.5184 - accuracy: 0.5872 - val_loss: 0.3049 - val_accuracy: 0.6718\n",
            "Epoch 3/500\n",
            "16/16 [==============================] - 3s 166ms/step - loss: 0.3990 - accuracy: 0.6088 - val_loss: 0.3651 - val_accuracy: 0.6653\n",
            "Epoch 4/500\n",
            "16/16 [==============================] - 3s 165ms/step - loss: 0.3559 - accuracy: 0.6329 - val_loss: 0.3558 - val_accuracy: 0.6668\n",
            "Epoch 5/500\n",
            "16/16 [==============================] - 3s 168ms/step - loss: 0.3356 - accuracy: 0.6346 - val_loss: 0.2540 - val_accuracy: 0.6465\n",
            "Epoch 6/500\n",
            "16/16 [==============================] - 3s 168ms/step - loss: 0.3418 - accuracy: 0.6397 - val_loss: 0.2868 - val_accuracy: 0.6717\n",
            "Epoch 7/500\n",
            "16/16 [==============================] - 3s 167ms/step - loss: 0.3270 - accuracy: 0.6410 - val_loss: 0.3245 - val_accuracy: 0.6723\n",
            "Epoch 8/500\n",
            "16/16 [==============================] - 3s 166ms/step - loss: 0.3285 - accuracy: 0.6350 - val_loss: 0.3554 - val_accuracy: 0.5458\n",
            "Epoch 9/500\n",
            "16/16 [==============================] - 3s 167ms/step - loss: 0.3206 - accuracy: 0.6438 - val_loss: 0.7719 - val_accuracy: 0.4229\n",
            "Epoch 10/500\n",
            "16/16 [==============================] - 3s 165ms/step - loss: 0.3016 - accuracy: 0.6515 - val_loss: 4.3436 - val_accuracy: 0.0532\n",
            "Epoch 00010: early stopping\n"
          ],
          "name": "stdout"
        }
      ]
    },
    {
      "cell_type": "code",
      "metadata": {
        "id": "raV2ubGxNPts",
        "colab_type": "code",
        "colab": {
          "base_uri": "https://localhost:8080/",
          "height": 105
        },
        "outputId": "a9e80cee-bc20-4dd7-992b-806df8735879"
      },
      "source": [
        "History"
      ],
      "execution_count": null,
      "outputs": [
        {
          "output_type": "execute_result",
          "data": {
            "text/plain": [
              "[<keras.callbacks.callbacks.History at 0x7f604d6e6c50>,\n",
              " <keras.callbacks.callbacks.History at 0x7f604d30ca20>,\n",
              " <keras.callbacks.callbacks.History at 0x7f604cf0a7f0>,\n",
              " <keras.callbacks.callbacks.History at 0x7f6043614dd8>,\n",
              " <keras.callbacks.callbacks.History at 0x7f604320ecf8>]"
            ]
          },
          "metadata": {
            "tags": []
          },
          "execution_count": 17
        }
      ]
    },
    {
      "cell_type": "code",
      "metadata": {
        "id": "nlIaRqSz2akk",
        "colab_type": "code",
        "colab": {
          "base_uri": "https://localhost:8080/",
          "height": 1000
        },
        "outputId": "30942bdd-b02e-4c6d-f635-f72ed10f02d2"
      },
      "source": [
        "History[0].history"
      ],
      "execution_count": null,
      "outputs": [
        {
          "output_type": "execute_result",
          "data": {
            "text/plain": [
              "{'accuracy': [0.57034737,\n",
              "  0.6107003,\n",
              "  0.6122872,\n",
              "  0.62749374,\n",
              "  0.637922,\n",
              "  0.63126045,\n",
              "  0.64643204,\n",
              "  0.64556015,\n",
              "  0.6120257,\n",
              "  0.62276787,\n",
              "  0.6492745,\n",
              "  0.6417411,\n",
              "  0.6265869,\n",
              "  0.6461007,\n",
              "  0.64624023,\n",
              "  0.6397182,\n",
              "  0.6143624],\n",
              " 'loss': [0.494242025539279,\n",
              "  0.36485074646770954,\n",
              "  0.3396125864237547,\n",
              "  0.3301929496228695,\n",
              "  0.31714816577732563,\n",
              "  0.31546652875840664,\n",
              "  0.3046710081398487,\n",
              "  0.3033412732183933,\n",
              "  0.3161908984184265,\n",
              "  0.3191160410642624,\n",
              "  0.2881226111203432,\n",
              "  0.28610892593860626,\n",
              "  0.30391204357147217,\n",
              "  0.27669483609497547,\n",
              "  0.28784034959971905,\n",
              "  0.2746207006275654,\n",
              "  0.26982585340738297],\n",
              " 'val_accuracy': [0.48486328125,\n",
              "  0.6683174967765808,\n",
              "  0.6340680718421936,\n",
              "  0.6241978406906128,\n",
              "  0.6715959906578064,\n",
              "  0.6645682454109192,\n",
              "  0.6095145344734192,\n",
              "  0.6722237467765808,\n",
              "  0.6717005968093872,\n",
              "  0.6721714735031128,\n",
              "  0.6718401312828064,\n",
              "  0.6717005968093872,\n",
              "  0.6723109483718872,\n",
              "  0.6720842719078064,\n",
              "  0.6724156141281128,\n",
              "  0.67236328125,\n",
              "  0.6716831922531128],\n",
              " 'val_loss': [12.532462120056152,\n",
              "  0.389602929353714,\n",
              "  553.0335083007812,\n",
              "  0.7467711567878723,\n",
              "  0.3511177599430084,\n",
              "  0.7788005471229553,\n",
              "  0.3732623755931854,\n",
              "  0.3270089328289032,\n",
              "  0.330556184053421,\n",
              "  0.29370221495628357,\n",
              "  0.29070037603378296,\n",
              "  0.290618360042572,\n",
              "  0.316451758146286,\n",
              "  0.3174732029438019,\n",
              "  0.3239397406578064,\n",
              "  0.3256138265132904,\n",
              "  0.32973018288612366]}"
            ]
          },
          "metadata": {
            "tags": []
          },
          "execution_count": 18
        }
      ]
    },
    {
      "cell_type": "code",
      "metadata": {
        "id": "bmVGSoCB3rQ4",
        "colab_type": "code",
        "colab": {
          "base_uri": "https://localhost:8080/",
          "height": 316
        },
        "outputId": "21477faf-fa39-479e-d60e-0da6f48dd16d"
      },
      "source": [
        "History[0].history[\"val_loss\"]"
      ],
      "execution_count": null,
      "outputs": [
        {
          "output_type": "execute_result",
          "data": {
            "text/plain": [
              "[12.532462120056152,\n",
              " 0.389602929353714,\n",
              " 553.0335083007812,\n",
              " 0.7467711567878723,\n",
              " 0.3511177599430084,\n",
              " 0.7788005471229553,\n",
              " 0.3732623755931854,\n",
              " 0.3270089328289032,\n",
              " 0.330556184053421,\n",
              " 0.29370221495628357,\n",
              " 0.29070037603378296,\n",
              " 0.290618360042572,\n",
              " 0.316451758146286,\n",
              " 0.3174732029438019,\n",
              " 0.3239397406578064,\n",
              " 0.3256138265132904,\n",
              " 0.32973018288612366]"
            ]
          },
          "metadata": {
            "tags": []
          },
          "execution_count": 26
        }
      ]
    },
    {
      "cell_type": "code",
      "metadata": {
        "id": "XiB0PI97xTOd",
        "colab_type": "code",
        "colab": {}
      },
      "source": [
        "def objective(hyperparameters, iteration):\n",
        "    \"\"\"Objective function for grid and random search. Returns\n",
        "       the cross validation score from a set of hyperparameters.\"\"\"\n",
        "    # Number of estimators will be found using early stopping\n",
        "    if 'n_estimators' in hyperparameters.keys():\n",
        "        del hyperparameters['n_estimators']\n",
        "     # Perform n_folds cross validation\n",
        "    cv_results = lgb.cv(hyperparameters, train_set, num_boost_round = 10000, nfold = N_FOLDS, \n",
        "                        early_stopping_rounds = 100, metrics = 'auc', seed = 42)\n",
        "    # results to retun\n",
        "    score = cv_results['auc-mean'][-1]\n",
        "    estimators = len(cv_results['auc-mean'])\n",
        "    hyperparameters['n_estimators'] = estimators \n",
        "    return [score, hyperparameters, iteration]"
      ],
      "execution_count": null,
      "outputs": []
    },
    {
      "cell_type": "code",
      "metadata": {
        "id": "unbawZ29y16t",
        "colab_type": "code",
        "colab": {}
      },
      "source": [
        "from sklearn.model_selection import KFold\n",
        "\n",
        "def objective(hyperparameters, X_train):\n",
        "    \"\"\"\n",
        "    hyperparameters:\n",
        "    LSTM units\n",
        "    LSTM activation\n",
        "\n",
        "    # ハイパーパラメータは、build_modelの引数に渡す。\n",
        "    後ほど実装。(今は引数なし)\n",
        "\n",
        "    \"\"\"\n",
        "    batch_size = 128\n",
        "    epochs = 500\n",
        "\n",
        "    \n",
        "    kfold = KFold(n_splits=5)\n",
        "    History = []\n",
        "\n",
        "    for train_cv_idx, valid_cv_idx in kfold.split(X_train):\n",
        "\n",
        "        X_CV_train_gen = ReccurentTrainGenerator(X_train[train_cv_idx], batch_size=batch_size)\n",
        "        X_CV_valid_gen = ReccurentTrainGenerator(X_train[valid_cv_idx], batch_size=batch_size)\n",
        "\n",
        "        model = build_model() # 引数にハイパーパラメータを入れられるようにする\n",
        "\n",
        "        early_stopping = EarlyStopping(patience=5, verbose=1) \n",
        "\n",
        "        history = model.fit_generator(X_CV_train_gen, epochs=epochs, verbose=1, validation_data=X_CV_valid_gen, callbacks=[early_stopping])\n",
        "        History.append(history)\n",
        "\n",
        "    scores = [History[i].history[\"val_loss\"][-1] for i in range(len(History))]\n",
        "    mean_score = np.mean(scores)\n",
        "\n",
        "    return mean_score"
      ],
      "execution_count": null,
      "outputs": []
    },
    {
      "cell_type": "code",
      "metadata": {
        "id": "MOAxqn3RAB6Z",
        "colab_type": "code",
        "colab": {}
      },
      "source": [
        "import pandas as pd\n",
        "import random\n",
        "random.seed(50)\n",
        "\n",
        "def random_search(param_grid, max_evals):\n",
        "    \"\"\"Random search for hyperparameter optimization\"\"\"\n",
        "    \n",
        "    # Dataframe for results\n",
        "    results = pd.DataFrame(columns = ['score', 'params'], index = list(range(max_evals)))\n",
        "    \n",
        "    # Keep searching until reach max evaluations\n",
        "    for i in range(max_evals):\n",
        "        # Choose random hyperparameters\n",
        "        hyperparameters = {k: random.sample(v, 1)[0] for k, v in param_grid.items()}\n",
        "\n",
        "        # Evaluate randomly selected hyperparameters\n",
        "        score = objective(hyperparameters)\n",
        "        results.loc[i, :] = [score, hyperparameters]\n",
        "\n",
        "    # Sort with best score on top\n",
        "    results.sort_values('score', ascending = False, inplace = True)\n",
        "    return results \n",
        "\n",
        "def objective(hyperparameters):\n",
        "    \"\"\"Objective function for grid and random search. Returns\n",
        "       the cross validation score from a set of hyperparameters.\"\"\"\n",
        "    \n",
        "    # Perform n_folds cross validation\n",
        "    # cv_results = hoge(hyperparameters, train_set, num_boost_round = 10000, nfold = N_FOLDS, \n",
        "    #                    early_stopping_rounds = 100, metrics = 'auc', seed = 42)\n",
        "    # score = cv_results['auc-mean'][-1]\n",
        "    \n",
        "    score = 10\n",
        "    #score = hoge(hyperparameters)\n",
        "    \n",
        "    return score\n",
        "\n",
        "\n",
        "lstm_unit = 128, timesteps = 28, delay = 1, n_out_seq_length = 28, num_y = 1, repeat_vector = 28\n",
        "\n",
        "param_grid = {\n",
        "    \"lstm_unit\" : list(range(100, 200, 50)), \n",
        "    \"timesteps\" : [28],\n",
        "    \"delay\" : [1],\n",
        "    \"n_out_seq_length\" : [28],\n",
        "    \"num_y\" : [1],\n",
        "    \"repeat_vector\" : list(range(7, 56, 7)),\n",
        "}"
      ],
      "execution_count": null,
      "outputs": []
    },
    {
      "cell_type": "code",
      "metadata": {
        "id": "ZZ5Do6xiABeH",
        "colab_type": "code",
        "colab": {}
      },
      "source": [
        ""
      ],
      "execution_count": null,
      "outputs": []
    },
    {
      "cell_type": "code",
      "metadata": {
        "id": "j88bZHVvABCQ",
        "colab_type": "code",
        "colab": {}
      },
      "source": [
        ""
      ],
      "execution_count": null,
      "outputs": []
    },
    {
      "cell_type": "code",
      "metadata": {
        "id": "MwvdoOdd30Z1",
        "colab_type": "code",
        "colab": {
          "base_uri": "https://localhost:8080/",
          "height": 1000
        },
        "outputId": "ae2dfadc-076c-466f-8484-2844b611ccf4"
      },
      "source": [
        "mean_score = objective(\"hyperparameters\", X_train[:1000])"
      ],
      "execution_count": null,
      "outputs": [
        {
          "output_type": "stream",
          "text": [
            "Epoch 1/500\n",
            "16/16 [==============================] - 4s 245ms/step - loss: 0.4873 - accuracy: 0.5721 - val_loss: 2.4192 - val_accuracy: 0.6165\n",
            "Epoch 2/500\n",
            "16/16 [==============================] - 3s 171ms/step - loss: 0.3866 - accuracy: 0.5984 - val_loss: 6.4519 - val_accuracy: 0.5566\n",
            "Epoch 3/500\n",
            "16/16 [==============================] - 3s 173ms/step - loss: 0.3658 - accuracy: 0.6076 - val_loss: 0.3284 - val_accuracy: 0.6708\n",
            "Epoch 4/500\n",
            "16/16 [==============================] - 3s 174ms/step - loss: 0.3135 - accuracy: 0.6369 - val_loss: 13.5748 - val_accuracy: 0.6592\n",
            "Epoch 5/500\n",
            "16/16 [==============================] - 3s 170ms/step - loss: 0.3102 - accuracy: 0.6405 - val_loss: 9.2438 - val_accuracy: 0.6471\n",
            "Epoch 6/500\n",
            "16/16 [==============================] - 3s 172ms/step - loss: 0.3023 - accuracy: 0.6500 - val_loss: 0.3998 - val_accuracy: 0.6643\n",
            "Epoch 7/500\n",
            "16/16 [==============================] - 3s 174ms/step - loss: 0.3018 - accuracy: 0.6486 - val_loss: 13.7566 - val_accuracy: 0.2931\n",
            "Epoch 8/500\n",
            "16/16 [==============================] - 3s 173ms/step - loss: 0.2825 - accuracy: 0.6483 - val_loss: 21.2023 - val_accuracy: 0.2047\n",
            "Epoch 00008: early stopping\n",
            "Epoch 1/500\n",
            "16/16 [==============================] - 4s 264ms/step - loss: 1.1919 - accuracy: 0.5670 - val_loss: 0.3295 - val_accuracy: 0.6718\n",
            "Epoch 2/500\n",
            "16/16 [==============================] - 3s 171ms/step - loss: 0.8209 - accuracy: 0.5833 - val_loss: 36.9045 - val_accuracy: 0.1251\n",
            "Epoch 3/500\n",
            "16/16 [==============================] - 3s 171ms/step - loss: 0.5539 - accuracy: 0.6102 - val_loss: 1.0206 - val_accuracy: 0.6170\n",
            "Epoch 4/500\n",
            "16/16 [==============================] - 3s 167ms/step - loss: 0.4308 - accuracy: 0.6218 - val_loss: 0.6525 - val_accuracy: 0.5869\n",
            "Epoch 5/500\n",
            "16/16 [==============================] - 3s 170ms/step - loss: 0.4866 - accuracy: 0.6164 - val_loss: 33.6981 - val_accuracy: 0.4435\n",
            "Epoch 6/500\n",
            "16/16 [==============================] - 3s 172ms/step - loss: 0.4411 - accuracy: 0.6435 - val_loss: 0.3271 - val_accuracy: 0.6678\n",
            "Epoch 7/500\n",
            "16/16 [==============================] - 3s 173ms/step - loss: 0.4043 - accuracy: 0.6451 - val_loss: 0.3574 - val_accuracy: 0.6474\n",
            "Epoch 8/500\n",
            "16/16 [==============================] - 3s 170ms/step - loss: 0.4022 - accuracy: 0.6244 - val_loss: 0.3232 - val_accuracy: 0.6718\n",
            "Epoch 9/500\n",
            "16/16 [==============================] - 3s 170ms/step - loss: 0.3489 - accuracy: 0.6450 - val_loss: 0.3204 - val_accuracy: 0.6720\n",
            "Epoch 10/500\n",
            "16/16 [==============================] - 3s 171ms/step - loss: 0.3185 - accuracy: 0.6573 - val_loss: 0.3148 - val_accuracy: 0.6726\n",
            "Epoch 11/500\n",
            "16/16 [==============================] - 3s 169ms/step - loss: 0.3233 - accuracy: 0.6564 - val_loss: 0.3195 - val_accuracy: 0.6721\n",
            "Epoch 12/500\n",
            "16/16 [==============================] - 3s 170ms/step - loss: 0.3115 - accuracy: 0.6606 - val_loss: 0.3217 - val_accuracy: 0.6719\n",
            "Epoch 13/500\n",
            "16/16 [==============================] - 3s 172ms/step - loss: 0.3223 - accuracy: 0.6505 - val_loss: 0.3163 - val_accuracy: 0.6721\n",
            "Epoch 14/500\n",
            "16/16 [==============================] - 3s 169ms/step - loss: 0.3144 - accuracy: 0.6517 - val_loss: 1.4429 - val_accuracy: 0.5017\n",
            "Epoch 15/500\n",
            "16/16 [==============================] - 3s 169ms/step - loss: 0.3057 - accuracy: 0.6572 - val_loss: 0.4482 - val_accuracy: 0.6137\n",
            "Epoch 00015: early stopping\n",
            "Epoch 1/500\n",
            "16/16 [==============================] - 4s 261ms/step - loss: 0.9952 - accuracy: 0.5500 - val_loss: 500.5342 - val_accuracy: 0.3443\n",
            "Epoch 2/500\n",
            "16/16 [==============================] - 3s 173ms/step - loss: 0.6693 - accuracy: 0.5863 - val_loss: 22.1057 - val_accuracy: 0.5311\n",
            "Epoch 3/500\n",
            "16/16 [==============================] - 3s 171ms/step - loss: 0.4965 - accuracy: 0.6122 - val_loss: 0.5957 - val_accuracy: 0.6056\n",
            "Epoch 4/500\n",
            "16/16 [==============================] - 3s 171ms/step - loss: 0.4349 - accuracy: 0.6257 - val_loss: 315.3819 - val_accuracy: 0.4254\n",
            "Epoch 5/500\n",
            "16/16 [==============================] - 3s 170ms/step - loss: 0.5016 - accuracy: 0.6135 - val_loss: 0.3287 - val_accuracy: 0.6720\n",
            "Epoch 6/500\n",
            "16/16 [==============================] - 3s 170ms/step - loss: 0.3955 - accuracy: 0.6299 - val_loss: 0.3215 - val_accuracy: 0.6624\n",
            "Epoch 7/500\n",
            "16/16 [==============================] - 3s 170ms/step - loss: 0.3667 - accuracy: 0.6319 - val_loss: 0.3651 - val_accuracy: 0.6585\n",
            "Epoch 8/500\n",
            "16/16 [==============================] - 3s 172ms/step - loss: 0.3616 - accuracy: 0.6368 - val_loss: 0.3283 - val_accuracy: 0.6635\n",
            "Epoch 9/500\n",
            "16/16 [==============================] - 3s 169ms/step - loss: 0.3632 - accuracy: 0.6293 - val_loss: 0.3304 - val_accuracy: 0.6662\n",
            "Epoch 10/500\n",
            "16/16 [==============================] - 3s 168ms/step - loss: 0.3573 - accuracy: 0.6494 - val_loss: 0.3275 - val_accuracy: 0.6719\n",
            "Epoch 11/500\n",
            "16/16 [==============================] - 3s 170ms/step - loss: 0.3508 - accuracy: 0.6519 - val_loss: 0.3304 - val_accuracy: 0.6302\n",
            "Epoch 00011: early stopping\n",
            "Epoch 1/500\n",
            "16/16 [==============================] - 4s 245ms/step - loss: 0.5601 - accuracy: 0.5679 - val_loss: 40.3292 - val_accuracy: 0.5133\n",
            "Epoch 2/500\n",
            "16/16 [==============================] - 3s 171ms/step - loss: 0.4548 - accuracy: 0.5811 - val_loss: 10.5865 - val_accuracy: 0.0778\n",
            "Epoch 3/500\n",
            "16/16 [==============================] - 3s 170ms/step - loss: 0.4031 - accuracy: 0.6128 - val_loss: 1.4918 - val_accuracy: 0.4012\n",
            "Epoch 4/500\n",
            "16/16 [==============================] - 3s 173ms/step - loss: 0.3739 - accuracy: 0.6205 - val_loss: 1.6726 - val_accuracy: 0.6232\n",
            "Epoch 5/500\n",
            "16/16 [==============================] - 3s 171ms/step - loss: 0.3716 - accuracy: 0.6041 - val_loss: 16.6399 - val_accuracy: 0.5980\n",
            "Epoch 6/500\n",
            "16/16 [==============================] - 3s 172ms/step - loss: 0.3443 - accuracy: 0.6319 - val_loss: 0.3256 - val_accuracy: 0.6722\n",
            "Epoch 7/500\n",
            "16/16 [==============================] - 3s 173ms/step - loss: 0.3377 - accuracy: 0.6265 - val_loss: 0.3329 - val_accuracy: 0.6718\n",
            "Epoch 8/500\n",
            "16/16 [==============================] - 3s 180ms/step - loss: 0.3114 - accuracy: 0.6503 - val_loss: 0.3276 - val_accuracy: 0.6722\n",
            "Epoch 9/500\n",
            "16/16 [==============================] - 3s 174ms/step - loss: 0.3053 - accuracy: 0.6507 - val_loss: 0.3265 - val_accuracy: 0.6725\n",
            "Epoch 10/500\n",
            "16/16 [==============================] - 3s 170ms/step - loss: 0.3185 - accuracy: 0.6578 - val_loss: 214.8456 - val_accuracy: 0.5856\n",
            "Epoch 11/500\n",
            "16/16 [==============================] - 3s 173ms/step - loss: 0.3283 - accuracy: 0.6610 - val_loss: 0.7390 - val_accuracy: 0.6673\n",
            "Epoch 00011: early stopping\n",
            "Epoch 1/500\n",
            "16/16 [==============================] - 4s 244ms/step - loss: 0.5973 - accuracy: 0.6044 - val_loss: 41.1299 - val_accuracy: 0.4581\n",
            "Epoch 2/500\n",
            "16/16 [==============================] - 3s 167ms/step - loss: 0.4594 - accuracy: 0.6154 - val_loss: 0.3304 - val_accuracy: 0.6720\n",
            "Epoch 3/500\n",
            "16/16 [==============================] - 3s 167ms/step - loss: 0.3912 - accuracy: 0.6417 - val_loss: 0.3323 - val_accuracy: 0.6719\n",
            "Epoch 4/500\n",
            "16/16 [==============================] - 3s 168ms/step - loss: 0.3737 - accuracy: 0.6468 - val_loss: 0.3259 - val_accuracy: 0.6721\n",
            "Epoch 5/500\n",
            "16/16 [==============================] - 3s 167ms/step - loss: 0.3368 - accuracy: 0.6501 - val_loss: 0.3299 - val_accuracy: 0.6714\n",
            "Epoch 6/500\n",
            "16/16 [==============================] - 3s 174ms/step - loss: 0.3583 - accuracy: 0.6484 - val_loss: 0.3245 - val_accuracy: 0.6719\n",
            "Epoch 7/500\n",
            "16/16 [==============================] - 3s 176ms/step - loss: 0.3423 - accuracy: 0.6483 - val_loss: 12.3522 - val_accuracy: 0.4011\n",
            "Epoch 8/500\n",
            "16/16 [==============================] - 3s 177ms/step - loss: 0.3333 - accuracy: 0.6451 - val_loss: 0.4280 - val_accuracy: 0.6651\n",
            "Epoch 9/500\n",
            "16/16 [==============================] - 3s 174ms/step - loss: 0.3309 - accuracy: 0.6418 - val_loss: 0.2893 - val_accuracy: 0.6718\n",
            "Epoch 10/500\n",
            "16/16 [==============================] - 3s 166ms/step - loss: 0.2965 - accuracy: 0.6458 - val_loss: 1.0327 - val_accuracy: 0.2992\n",
            "Epoch 11/500\n",
            "16/16 [==============================] - 3s 169ms/step - loss: 0.3042 - accuracy: 0.6476 - val_loss: 1.1348 - val_accuracy: 0.2504\n",
            "Epoch 12/500\n",
            "16/16 [==============================] - 3s 170ms/step - loss: 0.2980 - accuracy: 0.6323 - val_loss: 2.9355 - val_accuracy: 0.1555\n",
            "Epoch 13/500\n",
            "16/16 [==============================] - 3s 168ms/step - loss: 0.3072 - accuracy: 0.6238 - val_loss: 5.5749 - val_accuracy: 0.1591\n",
            "Epoch 14/500\n",
            "16/16 [==============================] - 3s 171ms/step - loss: 0.3084 - accuracy: 0.6249 - val_loss: 3.8773 - val_accuracy: 0.1847\n",
            "Epoch 00014: early stopping\n"
          ],
          "name": "stdout"
        }
      ]
    },
    {
      "cell_type": "code",
      "metadata": {
        "id": "oI2lFd4N5gBO",
        "colab_type": "code",
        "colab": {
          "base_uri": "https://localhost:8080/",
          "height": 34
        },
        "outputId": "aeaaf8b7-a139-47bc-ca97-2b8ac034346d"
      },
      "source": [
        "mean_score"
      ],
      "execution_count": null,
      "outputs": [
        {
          "output_type": "execute_result",
          "data": {
            "text/plain": [
              "5.3194280624389645"
            ]
          },
          "metadata": {
            "tags": []
          },
          "execution_count": 36
        }
      ]
    },
    {
      "cell_type": "markdown",
      "metadata": {
        "id": "hSaX0grCN4Hl",
        "colab_type": "text"
      },
      "source": [
        "# Loss を自作する(RMSSEをLossとして学習する)"
      ]
    },
    {
      "cell_type": "code",
      "metadata": {
        "id": "9Imw2Ac4N1-1",
        "colab_type": "code",
        "colab": {}
      },
      "source": [
        ""
      ],
      "execution_count": null,
      "outputs": []
    }
  ]
}