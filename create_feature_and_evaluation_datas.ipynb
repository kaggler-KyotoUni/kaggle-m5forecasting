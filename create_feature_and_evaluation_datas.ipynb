{
 "cells": [
  {
   "cell_type": "code",
   "execution_count": 1,
   "metadata": {},
   "outputs": [],
   "source": [
    "import pandas as pd \n",
    "import numpy as np \n",
    "import matplotlib.pyplot as plt \n",
    "import os \n",
    "from itertools import cycle\n",
    "color_cycle = cycle(plt.rcParams['axes.prop_cycle'].by_key()['color'])"
   ]
  },
  {
   "cell_type": "code",
   "execution_count": 2,
   "metadata": {},
   "outputs": [],
   "source": [
    "INPUT_DIR = \".\\\\datas\\\\\"\n",
    "\n",
    "def read_data():\n",
    "    cal = pd.read_csv(f\"{INPUT_DIR}calendar.csv\")\n",
    "    stv = pd.read_csv(f\"{INPUT_DIR}sales_train_validation.csv\")\n",
    "    ste = pd.read_csv(f\"{INPUT_DIR}sales_train_evaluation.csv\")\n",
    "    ss = pd.read_csv(f\"{INPUT_DIR}sample_submission.csv\")\n",
    "    sellp = pd.read_csv(f\"{INPUT_DIR}sell_prices.csv\")\n",
    "    \n",
    "    return cal, stv, ste, ss, sellp"
   ]
  },
  {
   "cell_type": "code",
   "execution_count": 3,
   "metadata": {},
   "outputs": [],
   "source": [
    "def reduce_mem_usage(df, verbose=True):\n",
    "    \"\"\"\n",
    "    目的：メモリサイズの削減\n",
    "    df: メモリを削減したい DataFrame (pandas.DataFrame)\n",
    "    verbose: 実行時に、メモリ削減の情報を出力するかどうかを指定(bool)\n",
    "\n",
    "    ■ 基本思想\n",
    "    【前提知識】\n",
    "    pandas で作成したデータフレームのうち数値データは、特に dtype を指定しない場合\n",
    "    int64 または float64 でデータを作成するので、\n",
    "    実際のデータよりもこの型が大きいと余計なメモリサイズを確保してしまう。\n",
    "\n",
    "    【処理内容】\n",
    "    (1) 入力された DataFrame の column の型を全てチェック(for loop)\n",
    "    (2) その型が大きい数値データ(int16~int64, float16~float64)ならば、\n",
    "        そのデータフレームの最大値・最小値をチェック。\n",
    "        現在処理中のカラムを、上記の最大値・最小値を表せる必要最低限の型に変換する。\n",
    "        int と floatに分けて処理。\n",
    "\n",
    "    ────────────────────────────────────────────────────────────────────────\n",
    "    【変更履歴】\n",
    "    2020/06/06:\n",
    "    ■ 35行目\n",
    "    ifのネストが深かったので、リファクタ。\n",
    "    Early Continueを入れたので可読性が向上(したはず)。\n",
    "\n",
    "    ■ 46行目・71行目(置き換え・追加)\n",
    "    説明変数(関数?)で置き換え。\n",
    "    columnのtypeがintであるか否かを判定する関数を噛ませている。\n",
    "    (返り値はbool値)\n",
    "    \"\"\"\n",
    "\n",
    "    numerics = ['int16', 'int32', 'int64', 'float16', 'float32', 'float64']\n",
    "    start_mem = df.memory_usage().sum() / 1024**2\n",
    "\n",
    "    # main loop    \n",
    "    for col in df.columns:\n",
    "        col_type = df[col].dtypes\n",
    "\n",
    "        if col_type not in numerics: \n",
    "            continue # Early continue if column type is not numeric\n",
    "        \n",
    "        c_min = df[col].min()\n",
    "        c_max = df[col].max()\n",
    "\n",
    "        if IsInt(col_type):\n",
    "            if c_min > np.iinfo(np.int8).min and c_max < np.iinfo(np.int8).max:\n",
    "                df[col] = df[col].astype(np.int8)\n",
    "            elif c_min > np.iinfo(np.int16).min and c_max < np.iinfo(np.int16).max:\n",
    "                df[col] = df[col].astype(np.int16)\n",
    "            elif c_min > np.iinfo(np.int32).min and c_max < np.iinfo(np.int32).max:\n",
    "                df[col] = df[col].astype(np.int32)\n",
    "            elif c_min > np.iinfo(np.int64).min and c_max < np.iinfo(np.int64).max:\n",
    "                df[col] = df[col].astype(np.int64)  \n",
    "        else:\n",
    "            if c_min > np.finfo(np.float16).min and c_max < np.finfo(np.float16).max:\n",
    "                df[col] = df[col].astype(np.float16)\n",
    "            elif c_min > np.finfo(np.float32).min and c_max < np.finfo(np.float32).max:\n",
    "                df[col] = df[col].astype(np.float32)\n",
    "            else:\n",
    "                df[col] = df[col].astype(np.float64)\n",
    "\n",
    "    end_mem = df.memory_usage().sum() / 1024**2\n",
    "\n",
    "    if verbose: \n",
    "        print('Mem. usage decreased to {:5.2f} Mb ({:.1f}% reduction)'.format(end_mem, 100 * (start_mem - end_mem) / start_mem))\n",
    "\n",
    "    return df\n",
    "\n",
    "\n",
    "def IsInt(col_type):\n",
    "    return str(col_type)[:3] == 'int'"
   ]
  },
  {
   "cell_type": "code",
   "execution_count": 4,
   "metadata": {},
   "outputs": [],
   "source": [
    "cal, stv, ste, ss, sellp = read_data()"
   ]
  },
  {
   "cell_type": "code",
   "execution_count": 5,
   "metadata": {},
   "outputs": [
    {
     "output_type": "stream",
     "name": "stdout",
     "text": "Mem. usage decreased to  0.12 Mb (41.9% reduction)\nMem. usage decreased to 95.00 Mb (78.7% reduction)\nMem. usage decreased to 96.13 Mb (78.8% reduction)\nMem. usage decreased to  2.09 Mb (84.5% reduction)\nMem. usage decreased to 130.48 Mb (37.5% reduction)\n"
    }
   ],
   "source": [
    "dfs = [cal, stv, ste, ss, sellp]\n",
    "for df in dfs:\n",
    "    df = reduce_mem_usage(df)"
   ]
  },
  {
   "cell_type": "code",
   "execution_count": 6,
   "metadata": {},
   "outputs": [],
   "source": [
    "train_sales = ste\n",
    "calendar = cal\n",
    "sell_prices = pd.read_csv(f\"{INPUT_DIR}sell_prices.csv\")\n",
    "# pd.pivot() を使うときに、メモリサイズを削減したものだとエラーになる模様。なので再度読み直し。対応策はないのか？\n",
    "submission_file = ss"
   ]
  },
  {
   "cell_type": "code",
   "execution_count": 7,
   "metadata": {},
   "outputs": [],
   "source": [
    "from sklearn.preprocessing import LabelEncoder\n",
    "\n",
    "def transform(data):\n",
    "    \n",
    "    nan_features = ['event_name_1', 'event_type_1', 'event_name_2', 'event_type_2']\n",
    "    for feature in nan_features:\n",
    "        data[feature].fillna('unknown', inplace = True)\n",
    "        \n",
    "    cat = ['event_name_1','event_type_1','event_name_2','event_type_2','snap_CA','snap_TX','snap_WI']\n",
    "    for feature in cat:\n",
    "        encoder = LabelEncoder()\n",
    "        data[feature] = encoder.fit_transform(data[feature])\n",
    "    \n",
    "    return data\n",
    "#calendarの何もない日をunknownで埋めて、label encoderによって処理しやすい形に変える\n",
    "# one-hot encodingのほうが良いのでは？"
   ]
  },
  {
   "cell_type": "code",
   "execution_count": 8,
   "metadata": {},
   "outputs": [],
   "source": [
    "days = range(1, 1970)\n",
    "time_series_columns = [f'd_{i}' for i in days]\n",
    "\n",
    "event_snap_columns = ['event_name_1','event_type_1','event_name_2','event_type_2','snap_CA','snap_TX','snap_WI']\n",
    "\n",
    "transfer_cal = pd.DataFrame(calendar[event_snap_columns].values.T,\n",
    "                            index=event_snap_columns,\n",
    "                            columns=time_series_columns)\n",
    "transfer_cal = transfer_cal.fillna(0)\n",
    "\n",
    "# event_name_1_se = transfer_cal.loc['event_name_1'].apply(lambda x: x if re.search(\"^\\d+$\", str(x)) else np.nan).fillna(10)\n",
    "# event_name_2_se = transfer_cal.loc['event_name_2'].apply(lambda x: x if re.search(\"^\\d+$\", str(x)) else np.nan).fillna(10)\n",
    "# #↑event nameが入っているものをnanにした後、10にしている。\n",
    "# # ここはプロットに使っていただけなので削除"
   ]
  },
  {
   "cell_type": "code",
   "execution_count": 9,
   "metadata": {},
   "outputs": [
    {
     "output_type": "execute_result",
     "data": {
      "text/plain": "              d_1  d_2  d_3  d_4  d_5  d_6  d_7  d_8        d_9  d_10  ...  \\\nevent_name_1    0    0    0    0    0    0    0    0  SuperBowl     0  ...   \nevent_type_1    0    0    0    0    0    0    0    0   Sporting     0  ...   \nevent_name_2    0    0    0    0    0    0    0    0          0     0  ...   \nevent_type_2    0    0    0    0    0    0    0    0          0     0  ...   \nsnap_CA         0    0    0    1    1    1    1    1          1     1  ...   \nsnap_TX         0    0    0    1    0    1    0    1          1     1  ...   \nsnap_WI         0    0    0    0    1    1    0    1          1     0  ...   \n\n              d_1960  d_1961  d_1962  d_1963  d_1964  d_1965 d_1966  d_1967  \\\nevent_name_1       0       0       0       0       0       0      0       0   \nevent_type_1       0       0       0       0       0       0      0       0   \nevent_name_2       0       0       0       0       0       0      0       0   \nevent_type_2       0       0       0       0       0       0      0       0   \nsnap_CA            1       0       0       0       0       0      0       0   \nsnap_TX            0       1       1       1       0       1      0       0   \nsnap_WI            0       1       1       0       1       1      0       0   \n\n              d_1968        d_1969  \nevent_name_1       0  NBAFinalsEnd  \nevent_type_1       0      Sporting  \nevent_name_2       0  Father's day  \nevent_type_2       0      Cultural  \nsnap_CA            0             0  \nsnap_TX            0             0  \nsnap_WI            0             0  \n\n[7 rows x 1969 columns]",
      "text/html": "<div>\n<style scoped>\n    .dataframe tbody tr th:only-of-type {\n        vertical-align: middle;\n    }\n\n    .dataframe tbody tr th {\n        vertical-align: top;\n    }\n\n    .dataframe thead th {\n        text-align: right;\n    }\n</style>\n<table border=\"1\" class=\"dataframe\">\n  <thead>\n    <tr style=\"text-align: right;\">\n      <th></th>\n      <th>d_1</th>\n      <th>d_2</th>\n      <th>d_3</th>\n      <th>d_4</th>\n      <th>d_5</th>\n      <th>d_6</th>\n      <th>d_7</th>\n      <th>d_8</th>\n      <th>d_9</th>\n      <th>d_10</th>\n      <th>...</th>\n      <th>d_1960</th>\n      <th>d_1961</th>\n      <th>d_1962</th>\n      <th>d_1963</th>\n      <th>d_1964</th>\n      <th>d_1965</th>\n      <th>d_1966</th>\n      <th>d_1967</th>\n      <th>d_1968</th>\n      <th>d_1969</th>\n    </tr>\n  </thead>\n  <tbody>\n    <tr>\n      <th>event_name_1</th>\n      <td>0</td>\n      <td>0</td>\n      <td>0</td>\n      <td>0</td>\n      <td>0</td>\n      <td>0</td>\n      <td>0</td>\n      <td>0</td>\n      <td>SuperBowl</td>\n      <td>0</td>\n      <td>...</td>\n      <td>0</td>\n      <td>0</td>\n      <td>0</td>\n      <td>0</td>\n      <td>0</td>\n      <td>0</td>\n      <td>0</td>\n      <td>0</td>\n      <td>0</td>\n      <td>NBAFinalsEnd</td>\n    </tr>\n    <tr>\n      <th>event_type_1</th>\n      <td>0</td>\n      <td>0</td>\n      <td>0</td>\n      <td>0</td>\n      <td>0</td>\n      <td>0</td>\n      <td>0</td>\n      <td>0</td>\n      <td>Sporting</td>\n      <td>0</td>\n      <td>...</td>\n      <td>0</td>\n      <td>0</td>\n      <td>0</td>\n      <td>0</td>\n      <td>0</td>\n      <td>0</td>\n      <td>0</td>\n      <td>0</td>\n      <td>0</td>\n      <td>Sporting</td>\n    </tr>\n    <tr>\n      <th>event_name_2</th>\n      <td>0</td>\n      <td>0</td>\n      <td>0</td>\n      <td>0</td>\n      <td>0</td>\n      <td>0</td>\n      <td>0</td>\n      <td>0</td>\n      <td>0</td>\n      <td>0</td>\n      <td>...</td>\n      <td>0</td>\n      <td>0</td>\n      <td>0</td>\n      <td>0</td>\n      <td>0</td>\n      <td>0</td>\n      <td>0</td>\n      <td>0</td>\n      <td>0</td>\n      <td>Father's day</td>\n    </tr>\n    <tr>\n      <th>event_type_2</th>\n      <td>0</td>\n      <td>0</td>\n      <td>0</td>\n      <td>0</td>\n      <td>0</td>\n      <td>0</td>\n      <td>0</td>\n      <td>0</td>\n      <td>0</td>\n      <td>0</td>\n      <td>...</td>\n      <td>0</td>\n      <td>0</td>\n      <td>0</td>\n      <td>0</td>\n      <td>0</td>\n      <td>0</td>\n      <td>0</td>\n      <td>0</td>\n      <td>0</td>\n      <td>Cultural</td>\n    </tr>\n    <tr>\n      <th>snap_CA</th>\n      <td>0</td>\n      <td>0</td>\n      <td>0</td>\n      <td>1</td>\n      <td>1</td>\n      <td>1</td>\n      <td>1</td>\n      <td>1</td>\n      <td>1</td>\n      <td>1</td>\n      <td>...</td>\n      <td>1</td>\n      <td>0</td>\n      <td>0</td>\n      <td>0</td>\n      <td>0</td>\n      <td>0</td>\n      <td>0</td>\n      <td>0</td>\n      <td>0</td>\n      <td>0</td>\n    </tr>\n    <tr>\n      <th>snap_TX</th>\n      <td>0</td>\n      <td>0</td>\n      <td>0</td>\n      <td>1</td>\n      <td>0</td>\n      <td>1</td>\n      <td>0</td>\n      <td>1</td>\n      <td>1</td>\n      <td>1</td>\n      <td>...</td>\n      <td>0</td>\n      <td>1</td>\n      <td>1</td>\n      <td>1</td>\n      <td>0</td>\n      <td>1</td>\n      <td>0</td>\n      <td>0</td>\n      <td>0</td>\n      <td>0</td>\n    </tr>\n    <tr>\n      <th>snap_WI</th>\n      <td>0</td>\n      <td>0</td>\n      <td>0</td>\n      <td>0</td>\n      <td>1</td>\n      <td>1</td>\n      <td>0</td>\n      <td>1</td>\n      <td>1</td>\n      <td>0</td>\n      <td>...</td>\n      <td>0</td>\n      <td>1</td>\n      <td>1</td>\n      <td>0</td>\n      <td>1</td>\n      <td>1</td>\n      <td>0</td>\n      <td>0</td>\n      <td>0</td>\n      <td>0</td>\n    </tr>\n  </tbody>\n</table>\n<p>7 rows × 1969 columns</p>\n</div>"
     },
     "metadata": {},
     "execution_count": 9
    }
   ],
   "source": [
    "transfer_cal"
   ]
  },
  {
   "cell_type": "code",
   "execution_count": 10,
   "metadata": {},
   "outputs": [
    {
     "output_type": "execute_result",
     "data": {
      "text/plain": "                             0                    1                    2     \\\nevent_name_1                   30                   30                   30   \nevent_type_1                    4                    4                    4   \nevent_name_2                    4                    4                    4   \nevent_type_2                    2                    2                    2   \nsnap_CA                         0                    0                    0   \nsnap_TX                         0                    0                    0   \nsnap_WI                         0                    0                    0   \ndate          2011-01-29 00:00:00  2011-01-30 00:00:00  2011-01-31 00:00:00   \nd                             d_1                  d_2                  d_3   \n\n                             3                    4                    5     \\\nevent_name_1                   30                   30                   30   \nevent_type_1                    4                    4                    4   \nevent_name_2                    4                    4                    4   \nevent_type_2                    2                    2                    2   \nsnap_CA                         1                    1                    1   \nsnap_TX                         1                    0                    1   \nsnap_WI                         0                    1                    1   \ndate          2011-02-01 00:00:00  2011-02-02 00:00:00  2011-02-03 00:00:00   \nd                             d_4                  d_5                  d_6   \n\n                             6                    7                    8     \\\nevent_name_1                   30                   30                   26   \nevent_type_1                    4                    4                    3   \nevent_name_2                    4                    4                    4   \nevent_type_2                    2                    2                    2   \nsnap_CA                         1                    1                    1   \nsnap_TX                         0                    1                    1   \nsnap_WI                         0                    1                    1   \ndate          2011-02-04 00:00:00  2011-02-05 00:00:00  2011-02-06 00:00:00   \nd                             d_7                  d_8                  d_9   \n\n                             9     ...                 1959  \\\nevent_name_1                   30  ...                   30   \nevent_type_1                    4  ...                    4   \nevent_name_2                    4  ...                    4   \nevent_type_2                    2  ...                    2   \nsnap_CA                         1  ...                    1   \nsnap_TX                         1  ...                    0   \nsnap_WI                         0  ...                    0   \ndate          2011-02-07 00:00:00  ...  2016-06-10 00:00:00   \nd                            d_10  ...               d_1960   \n\n                             1960                 1961                 1962  \\\nevent_name_1                   30                   30                   30   \nevent_type_1                    4                    4                    4   \nevent_name_2                    4                    4                    4   \nevent_type_2                    2                    2                    2   \nsnap_CA                         0                    0                    0   \nsnap_TX                         1                    1                    1   \nsnap_WI                         1                    1                    0   \ndate          2016-06-11 00:00:00  2016-06-12 00:00:00  2016-06-13 00:00:00   \nd                          d_1961               d_1962               d_1963   \n\n                             1963                 1964                 1965  \\\nevent_name_1                   30                   30                   30   \nevent_type_1                    4                    4                    4   \nevent_name_2                    4                    4                    4   \nevent_type_2                    2                    2                    2   \nsnap_CA                         0                    0                    0   \nsnap_TX                         0                    1                    0   \nsnap_WI                         1                    1                    0   \ndate          2016-06-14 00:00:00  2016-06-15 00:00:00  2016-06-16 00:00:00   \nd                          d_1964               d_1965               d_1966   \n\n                             1966                 1967                 1968  \nevent_name_1                   30                   30                   16  \nevent_type_1                    4                    4                    3  \nevent_name_2                    4                    4                    2  \nevent_type_2                    2                    2                    0  \nsnap_CA                         0                    0                    0  \nsnap_TX                         0                    0                    0  \nsnap_WI                         0                    0                    0  \ndate          2016-06-17 00:00:00  2016-06-18 00:00:00  2016-06-19 00:00:00  \nd                          d_1967               d_1968               d_1969  \n\n[9 rows x 1969 columns]",
      "text/html": "<div>\n<style scoped>\n    .dataframe tbody tr th:only-of-type {\n        vertical-align: middle;\n    }\n\n    .dataframe tbody tr th {\n        vertical-align: top;\n    }\n\n    .dataframe thead th {\n        text-align: right;\n    }\n</style>\n<table border=\"1\" class=\"dataframe\">\n  <thead>\n    <tr style=\"text-align: right;\">\n      <th></th>\n      <th>0</th>\n      <th>1</th>\n      <th>2</th>\n      <th>3</th>\n      <th>4</th>\n      <th>5</th>\n      <th>6</th>\n      <th>7</th>\n      <th>8</th>\n      <th>9</th>\n      <th>...</th>\n      <th>1959</th>\n      <th>1960</th>\n      <th>1961</th>\n      <th>1962</th>\n      <th>1963</th>\n      <th>1964</th>\n      <th>1965</th>\n      <th>1966</th>\n      <th>1967</th>\n      <th>1968</th>\n    </tr>\n  </thead>\n  <tbody>\n    <tr>\n      <th>event_name_1</th>\n      <td>30</td>\n      <td>30</td>\n      <td>30</td>\n      <td>30</td>\n      <td>30</td>\n      <td>30</td>\n      <td>30</td>\n      <td>30</td>\n      <td>26</td>\n      <td>30</td>\n      <td>...</td>\n      <td>30</td>\n      <td>30</td>\n      <td>30</td>\n      <td>30</td>\n      <td>30</td>\n      <td>30</td>\n      <td>30</td>\n      <td>30</td>\n      <td>30</td>\n      <td>16</td>\n    </tr>\n    <tr>\n      <th>event_type_1</th>\n      <td>4</td>\n      <td>4</td>\n      <td>4</td>\n      <td>4</td>\n      <td>4</td>\n      <td>4</td>\n      <td>4</td>\n      <td>4</td>\n      <td>3</td>\n      <td>4</td>\n      <td>...</td>\n      <td>4</td>\n      <td>4</td>\n      <td>4</td>\n      <td>4</td>\n      <td>4</td>\n      <td>4</td>\n      <td>4</td>\n      <td>4</td>\n      <td>4</td>\n      <td>3</td>\n    </tr>\n    <tr>\n      <th>event_name_2</th>\n      <td>4</td>\n      <td>4</td>\n      <td>4</td>\n      <td>4</td>\n      <td>4</td>\n      <td>4</td>\n      <td>4</td>\n      <td>4</td>\n      <td>4</td>\n      <td>4</td>\n      <td>...</td>\n      <td>4</td>\n      <td>4</td>\n      <td>4</td>\n      <td>4</td>\n      <td>4</td>\n      <td>4</td>\n      <td>4</td>\n      <td>4</td>\n      <td>4</td>\n      <td>2</td>\n    </tr>\n    <tr>\n      <th>event_type_2</th>\n      <td>2</td>\n      <td>2</td>\n      <td>2</td>\n      <td>2</td>\n      <td>2</td>\n      <td>2</td>\n      <td>2</td>\n      <td>2</td>\n      <td>2</td>\n      <td>2</td>\n      <td>...</td>\n      <td>2</td>\n      <td>2</td>\n      <td>2</td>\n      <td>2</td>\n      <td>2</td>\n      <td>2</td>\n      <td>2</td>\n      <td>2</td>\n      <td>2</td>\n      <td>0</td>\n    </tr>\n    <tr>\n      <th>snap_CA</th>\n      <td>0</td>\n      <td>0</td>\n      <td>0</td>\n      <td>1</td>\n      <td>1</td>\n      <td>1</td>\n      <td>1</td>\n      <td>1</td>\n      <td>1</td>\n      <td>1</td>\n      <td>...</td>\n      <td>1</td>\n      <td>0</td>\n      <td>0</td>\n      <td>0</td>\n      <td>0</td>\n      <td>0</td>\n      <td>0</td>\n      <td>0</td>\n      <td>0</td>\n      <td>0</td>\n    </tr>\n    <tr>\n      <th>snap_TX</th>\n      <td>0</td>\n      <td>0</td>\n      <td>0</td>\n      <td>1</td>\n      <td>0</td>\n      <td>1</td>\n      <td>0</td>\n      <td>1</td>\n      <td>1</td>\n      <td>1</td>\n      <td>...</td>\n      <td>0</td>\n      <td>1</td>\n      <td>1</td>\n      <td>1</td>\n      <td>0</td>\n      <td>1</td>\n      <td>0</td>\n      <td>0</td>\n      <td>0</td>\n      <td>0</td>\n    </tr>\n    <tr>\n      <th>snap_WI</th>\n      <td>0</td>\n      <td>0</td>\n      <td>0</td>\n      <td>0</td>\n      <td>1</td>\n      <td>1</td>\n      <td>0</td>\n      <td>1</td>\n      <td>1</td>\n      <td>0</td>\n      <td>...</td>\n      <td>0</td>\n      <td>1</td>\n      <td>1</td>\n      <td>0</td>\n      <td>1</td>\n      <td>1</td>\n      <td>0</td>\n      <td>0</td>\n      <td>0</td>\n      <td>0</td>\n    </tr>\n    <tr>\n      <th>date</th>\n      <td>2011-01-29 00:00:00</td>\n      <td>2011-01-30 00:00:00</td>\n      <td>2011-01-31 00:00:00</td>\n      <td>2011-02-01 00:00:00</td>\n      <td>2011-02-02 00:00:00</td>\n      <td>2011-02-03 00:00:00</td>\n      <td>2011-02-04 00:00:00</td>\n      <td>2011-02-05 00:00:00</td>\n      <td>2011-02-06 00:00:00</td>\n      <td>2011-02-07 00:00:00</td>\n      <td>...</td>\n      <td>2016-06-10 00:00:00</td>\n      <td>2016-06-11 00:00:00</td>\n      <td>2016-06-12 00:00:00</td>\n      <td>2016-06-13 00:00:00</td>\n      <td>2016-06-14 00:00:00</td>\n      <td>2016-06-15 00:00:00</td>\n      <td>2016-06-16 00:00:00</td>\n      <td>2016-06-17 00:00:00</td>\n      <td>2016-06-18 00:00:00</td>\n      <td>2016-06-19 00:00:00</td>\n    </tr>\n    <tr>\n      <th>d</th>\n      <td>d_1</td>\n      <td>d_2</td>\n      <td>d_3</td>\n      <td>d_4</td>\n      <td>d_5</td>\n      <td>d_6</td>\n      <td>d_7</td>\n      <td>d_8</td>\n      <td>d_9</td>\n      <td>d_10</td>\n      <td>...</td>\n      <td>d_1960</td>\n      <td>d_1961</td>\n      <td>d_1962</td>\n      <td>d_1963</td>\n      <td>d_1964</td>\n      <td>d_1965</td>\n      <td>d_1966</td>\n      <td>d_1967</td>\n      <td>d_1968</td>\n      <td>d_1969</td>\n    </tr>\n  </tbody>\n</table>\n<p>9 rows × 1969 columns</p>\n</div>"
     },
     "metadata": {},
     "execution_count": 10
    }
   ],
   "source": [
    "\"\"\"\n",
    "※注意※\n",
    "\n",
    "ここで、使用メモリを減らすためにcalenderの範囲が減らされている。\n",
    "増やすと単純に精度向上が可能？\n",
    "-> もしフルに使うと、ローカルのメモリが死ぬ\n",
    "\n",
    "\"\"\"\n",
    "\n",
    "calendar['date'] = pd.to_datetime(calendar['date'])\n",
    "#calendar = calendar[calendar['date']>= '2014-3-15']  #reduce memory\n",
    "#calendar = calendar[calendar[\"date\"] <= \"2016-05-22\"] #eliminate evaluate date\n",
    "#使うデータを少なくします -> TrainingDataのステップ数が800になるよう設定\n",
    "calendar= transform(calendar)\n",
    "# Attempts to convert events into time series data.\n",
    "transfer_cal = pd.DataFrame(calendar[event_snap_columns + [\"date\", \"d\"]].values.T,\n",
    "                            index=event_snap_columns + [\"date\", \"d\"])\n",
    "transfer_cal"
   ]
  },
  {
   "cell_type": "code",
   "execution_count": 11,
   "metadata": {},
   "outputs": [],
   "source": [
    "price_fea = calendar[['wm_yr_wk','date']].merge(sell_prices, on = ['wm_yr_wk'], how = 'left')\n",
    "#販売価格に対して、calendarを結合した。\n",
    "price_fea['id'] = price_fea['item_id']+'_'+price_fea['store_id']+'_evaluation'\n",
    "df = price_fea.pivot('id','date','sell_price')\n",
    "#各商品を一行にして、商品の値段の移り変わりを表した。"
   ]
  },
  {
   "cell_type": "code",
   "execution_count": 12,
   "metadata": {},
   "outputs": [],
   "source": [
    "df.columns = [\"d_\" + str(d) for d in range(1, 1970)]"
   ]
  },
  {
   "cell_type": "code",
   "execution_count": 13,
   "metadata": {},
   "outputs": [],
   "source": [
    "df = df.reset_index()"
   ]
  },
  {
   "cell_type": "code",
   "execution_count": 14,
   "metadata": {},
   "outputs": [
    {
     "output_type": "execute_result",
     "data": {
      "text/plain": "                                    id   d_1   d_2   d_3   d_4   d_5   d_6  \\\n0          FOODS_1_001_CA_1_evaluation  2.00  2.00  2.00  2.00  2.00  2.00   \n1          FOODS_1_001_CA_2_evaluation  2.00  2.00  2.00  2.00  2.00  2.00   \n2          FOODS_1_001_CA_3_evaluation  2.00  2.00  2.00  2.00  2.00  2.00   \n3          FOODS_1_001_CA_4_evaluation  2.00  2.00  2.00  2.00  2.00  2.00   \n4          FOODS_1_001_TX_1_evaluation  2.00  2.00  2.00  2.00  2.00  2.00   \n...                                ...   ...   ...   ...   ...   ...   ...   \n30485  HOUSEHOLD_2_516_TX_2_evaluation  5.94  5.94  5.94  5.94  5.94  5.94   \n30486  HOUSEHOLD_2_516_TX_3_evaluation  5.94  5.94  5.94  5.94  5.94  5.94   \n30487  HOUSEHOLD_2_516_WI_1_evaluation  5.94  5.94  5.94  5.94  5.94  5.94   \n30488  HOUSEHOLD_2_516_WI_2_evaluation   NaN   NaN   NaN   NaN   NaN   NaN   \n30489  HOUSEHOLD_2_516_WI_3_evaluation  5.94  5.94  5.94  5.94  5.94  5.94   \n\n        d_7   d_8   d_9  ...  d_1960  d_1961  d_1962  d_1963  d_1964  d_1965  \\\n0      2.00  2.00  2.00  ...    2.24    2.24    2.24    2.24    2.24    2.24   \n1      2.00  2.00  2.00  ...    2.24    2.24    2.24    2.24    2.24    2.24   \n2      2.00  2.00  2.00  ...    2.24    2.24    2.24    2.24    2.24    2.24   \n3      2.00  2.00  2.00  ...    2.24    2.24    2.24    2.24    2.24    2.24   \n4      2.00  2.00  2.00  ...    2.24    2.24    2.24    2.24    2.24    2.24   \n...     ...   ...   ...  ...     ...     ...     ...     ...     ...     ...   \n30485  5.94  5.94  5.94  ...    5.94    5.94    5.94    5.94    5.94    5.94   \n30486  5.94  5.94  5.94  ...    5.94    5.94    5.94    5.94    5.94    5.94   \n30487  5.94  5.94  5.94  ...    5.94    5.94    5.94    5.94    5.94    5.94   \n30488   NaN   NaN   NaN  ...    5.94    5.94    5.94    5.94    5.94    5.94   \n30489  5.94  5.94  5.94  ...    5.94    5.94    5.94    5.94    5.94    5.94   \n\n       d_1966  d_1967  d_1968  d_1969  \n0        2.24    2.24    2.24    2.24  \n1        2.24    2.24    2.24    2.24  \n2        2.24    2.24    2.24    2.24  \n3        2.24    2.24    2.24    2.24  \n4        2.24    2.24    2.24    2.24  \n...       ...     ...     ...     ...  \n30485    5.94    5.94    5.94    5.94  \n30486    5.94    5.94    5.94    5.94  \n30487    5.94    5.94    5.94    5.94  \n30488    5.94    5.94    5.94    5.94  \n30489    5.94    5.94    5.94    5.94  \n\n[30490 rows x 1970 columns]",
      "text/html": "<div>\n<style scoped>\n    .dataframe tbody tr th:only-of-type {\n        vertical-align: middle;\n    }\n\n    .dataframe tbody tr th {\n        vertical-align: top;\n    }\n\n    .dataframe thead th {\n        text-align: right;\n    }\n</style>\n<table border=\"1\" class=\"dataframe\">\n  <thead>\n    <tr style=\"text-align: right;\">\n      <th></th>\n      <th>id</th>\n      <th>d_1</th>\n      <th>d_2</th>\n      <th>d_3</th>\n      <th>d_4</th>\n      <th>d_5</th>\n      <th>d_6</th>\n      <th>d_7</th>\n      <th>d_8</th>\n      <th>d_9</th>\n      <th>...</th>\n      <th>d_1960</th>\n      <th>d_1961</th>\n      <th>d_1962</th>\n      <th>d_1963</th>\n      <th>d_1964</th>\n      <th>d_1965</th>\n      <th>d_1966</th>\n      <th>d_1967</th>\n      <th>d_1968</th>\n      <th>d_1969</th>\n    </tr>\n  </thead>\n  <tbody>\n    <tr>\n      <th>0</th>\n      <td>FOODS_1_001_CA_1_evaluation</td>\n      <td>2.00</td>\n      <td>2.00</td>\n      <td>2.00</td>\n      <td>2.00</td>\n      <td>2.00</td>\n      <td>2.00</td>\n      <td>2.00</td>\n      <td>2.00</td>\n      <td>2.00</td>\n      <td>...</td>\n      <td>2.24</td>\n      <td>2.24</td>\n      <td>2.24</td>\n      <td>2.24</td>\n      <td>2.24</td>\n      <td>2.24</td>\n      <td>2.24</td>\n      <td>2.24</td>\n      <td>2.24</td>\n      <td>2.24</td>\n    </tr>\n    <tr>\n      <th>1</th>\n      <td>FOODS_1_001_CA_2_evaluation</td>\n      <td>2.00</td>\n      <td>2.00</td>\n      <td>2.00</td>\n      <td>2.00</td>\n      <td>2.00</td>\n      <td>2.00</td>\n      <td>2.00</td>\n      <td>2.00</td>\n      <td>2.00</td>\n      <td>...</td>\n      <td>2.24</td>\n      <td>2.24</td>\n      <td>2.24</td>\n      <td>2.24</td>\n      <td>2.24</td>\n      <td>2.24</td>\n      <td>2.24</td>\n      <td>2.24</td>\n      <td>2.24</td>\n      <td>2.24</td>\n    </tr>\n    <tr>\n      <th>2</th>\n      <td>FOODS_1_001_CA_3_evaluation</td>\n      <td>2.00</td>\n      <td>2.00</td>\n      <td>2.00</td>\n      <td>2.00</td>\n      <td>2.00</td>\n      <td>2.00</td>\n      <td>2.00</td>\n      <td>2.00</td>\n      <td>2.00</td>\n      <td>...</td>\n      <td>2.24</td>\n      <td>2.24</td>\n      <td>2.24</td>\n      <td>2.24</td>\n      <td>2.24</td>\n      <td>2.24</td>\n      <td>2.24</td>\n      <td>2.24</td>\n      <td>2.24</td>\n      <td>2.24</td>\n    </tr>\n    <tr>\n      <th>3</th>\n      <td>FOODS_1_001_CA_4_evaluation</td>\n      <td>2.00</td>\n      <td>2.00</td>\n      <td>2.00</td>\n      <td>2.00</td>\n      <td>2.00</td>\n      <td>2.00</td>\n      <td>2.00</td>\n      <td>2.00</td>\n      <td>2.00</td>\n      <td>...</td>\n      <td>2.24</td>\n      <td>2.24</td>\n      <td>2.24</td>\n      <td>2.24</td>\n      <td>2.24</td>\n      <td>2.24</td>\n      <td>2.24</td>\n      <td>2.24</td>\n      <td>2.24</td>\n      <td>2.24</td>\n    </tr>\n    <tr>\n      <th>4</th>\n      <td>FOODS_1_001_TX_1_evaluation</td>\n      <td>2.00</td>\n      <td>2.00</td>\n      <td>2.00</td>\n      <td>2.00</td>\n      <td>2.00</td>\n      <td>2.00</td>\n      <td>2.00</td>\n      <td>2.00</td>\n      <td>2.00</td>\n      <td>...</td>\n      <td>2.24</td>\n      <td>2.24</td>\n      <td>2.24</td>\n      <td>2.24</td>\n      <td>2.24</td>\n      <td>2.24</td>\n      <td>2.24</td>\n      <td>2.24</td>\n      <td>2.24</td>\n      <td>2.24</td>\n    </tr>\n    <tr>\n      <th>...</th>\n      <td>...</td>\n      <td>...</td>\n      <td>...</td>\n      <td>...</td>\n      <td>...</td>\n      <td>...</td>\n      <td>...</td>\n      <td>...</td>\n      <td>...</td>\n      <td>...</td>\n      <td>...</td>\n      <td>...</td>\n      <td>...</td>\n      <td>...</td>\n      <td>...</td>\n      <td>...</td>\n      <td>...</td>\n      <td>...</td>\n      <td>...</td>\n      <td>...</td>\n      <td>...</td>\n    </tr>\n    <tr>\n      <th>30485</th>\n      <td>HOUSEHOLD_2_516_TX_2_evaluation</td>\n      <td>5.94</td>\n      <td>5.94</td>\n      <td>5.94</td>\n      <td>5.94</td>\n      <td>5.94</td>\n      <td>5.94</td>\n      <td>5.94</td>\n      <td>5.94</td>\n      <td>5.94</td>\n      <td>...</td>\n      <td>5.94</td>\n      <td>5.94</td>\n      <td>5.94</td>\n      <td>5.94</td>\n      <td>5.94</td>\n      <td>5.94</td>\n      <td>5.94</td>\n      <td>5.94</td>\n      <td>5.94</td>\n      <td>5.94</td>\n    </tr>\n    <tr>\n      <th>30486</th>\n      <td>HOUSEHOLD_2_516_TX_3_evaluation</td>\n      <td>5.94</td>\n      <td>5.94</td>\n      <td>5.94</td>\n      <td>5.94</td>\n      <td>5.94</td>\n      <td>5.94</td>\n      <td>5.94</td>\n      <td>5.94</td>\n      <td>5.94</td>\n      <td>...</td>\n      <td>5.94</td>\n      <td>5.94</td>\n      <td>5.94</td>\n      <td>5.94</td>\n      <td>5.94</td>\n      <td>5.94</td>\n      <td>5.94</td>\n      <td>5.94</td>\n      <td>5.94</td>\n      <td>5.94</td>\n    </tr>\n    <tr>\n      <th>30487</th>\n      <td>HOUSEHOLD_2_516_WI_1_evaluation</td>\n      <td>5.94</td>\n      <td>5.94</td>\n      <td>5.94</td>\n      <td>5.94</td>\n      <td>5.94</td>\n      <td>5.94</td>\n      <td>5.94</td>\n      <td>5.94</td>\n      <td>5.94</td>\n      <td>...</td>\n      <td>5.94</td>\n      <td>5.94</td>\n      <td>5.94</td>\n      <td>5.94</td>\n      <td>5.94</td>\n      <td>5.94</td>\n      <td>5.94</td>\n      <td>5.94</td>\n      <td>5.94</td>\n      <td>5.94</td>\n    </tr>\n    <tr>\n      <th>30488</th>\n      <td>HOUSEHOLD_2_516_WI_2_evaluation</td>\n      <td>NaN</td>\n      <td>NaN</td>\n      <td>NaN</td>\n      <td>NaN</td>\n      <td>NaN</td>\n      <td>NaN</td>\n      <td>NaN</td>\n      <td>NaN</td>\n      <td>NaN</td>\n      <td>...</td>\n      <td>5.94</td>\n      <td>5.94</td>\n      <td>5.94</td>\n      <td>5.94</td>\n      <td>5.94</td>\n      <td>5.94</td>\n      <td>5.94</td>\n      <td>5.94</td>\n      <td>5.94</td>\n      <td>5.94</td>\n    </tr>\n    <tr>\n      <th>30489</th>\n      <td>HOUSEHOLD_2_516_WI_3_evaluation</td>\n      <td>5.94</td>\n      <td>5.94</td>\n      <td>5.94</td>\n      <td>5.94</td>\n      <td>5.94</td>\n      <td>5.94</td>\n      <td>5.94</td>\n      <td>5.94</td>\n      <td>5.94</td>\n      <td>...</td>\n      <td>5.94</td>\n      <td>5.94</td>\n      <td>5.94</td>\n      <td>5.94</td>\n      <td>5.94</td>\n      <td>5.94</td>\n      <td>5.94</td>\n      <td>5.94</td>\n      <td>5.94</td>\n      <td>5.94</td>\n    </tr>\n  </tbody>\n</table>\n<p>30490 rows × 1970 columns</p>\n</div>"
     },
     "metadata": {},
     "execution_count": 14
    }
   ],
   "source": [
    "df"
   ]
  },
  {
   "cell_type": "code",
   "execution_count": 15,
   "metadata": {},
   "outputs": [],
   "source": [
    "price_df = df.fillna(0)"
   ]
  },
  {
   "cell_type": "code",
   "execution_count": 16,
   "metadata": {},
   "outputs": [
    {
     "output_type": "execute_result",
     "data": {
      "text/plain": "                                    id   d_1   d_2   d_3   d_4   d_5   d_6  \\\n0          FOODS_1_001_CA_1_evaluation  2.00  2.00  2.00  2.00  2.00  2.00   \n1          FOODS_1_001_CA_2_evaluation  2.00  2.00  2.00  2.00  2.00  2.00   \n2          FOODS_1_001_CA_3_evaluation  2.00  2.00  2.00  2.00  2.00  2.00   \n3          FOODS_1_001_CA_4_evaluation  2.00  2.00  2.00  2.00  2.00  2.00   \n4          FOODS_1_001_TX_1_evaluation  2.00  2.00  2.00  2.00  2.00  2.00   \n...                                ...   ...   ...   ...   ...   ...   ...   \n30485  HOUSEHOLD_2_516_TX_2_evaluation  5.94  5.94  5.94  5.94  5.94  5.94   \n30486  HOUSEHOLD_2_516_TX_3_evaluation  5.94  5.94  5.94  5.94  5.94  5.94   \n30487  HOUSEHOLD_2_516_WI_1_evaluation  5.94  5.94  5.94  5.94  5.94  5.94   \n30488  HOUSEHOLD_2_516_WI_2_evaluation  0.00  0.00  0.00  0.00  0.00  0.00   \n30489  HOUSEHOLD_2_516_WI_3_evaluation  5.94  5.94  5.94  5.94  5.94  5.94   \n\n        d_7   d_8   d_9  ...  d_1960  d_1961  d_1962  d_1963  d_1964  d_1965  \\\n0      2.00  2.00  2.00  ...    2.24    2.24    2.24    2.24    2.24    2.24   \n1      2.00  2.00  2.00  ...    2.24    2.24    2.24    2.24    2.24    2.24   \n2      2.00  2.00  2.00  ...    2.24    2.24    2.24    2.24    2.24    2.24   \n3      2.00  2.00  2.00  ...    2.24    2.24    2.24    2.24    2.24    2.24   \n4      2.00  2.00  2.00  ...    2.24    2.24    2.24    2.24    2.24    2.24   \n...     ...   ...   ...  ...     ...     ...     ...     ...     ...     ...   \n30485  5.94  5.94  5.94  ...    5.94    5.94    5.94    5.94    5.94    5.94   \n30486  5.94  5.94  5.94  ...    5.94    5.94    5.94    5.94    5.94    5.94   \n30487  5.94  5.94  5.94  ...    5.94    5.94    5.94    5.94    5.94    5.94   \n30488  0.00  0.00  0.00  ...    5.94    5.94    5.94    5.94    5.94    5.94   \n30489  5.94  5.94  5.94  ...    5.94    5.94    5.94    5.94    5.94    5.94   \n\n       d_1966  d_1967  d_1968  d_1969  \n0        2.24    2.24    2.24    2.24  \n1        2.24    2.24    2.24    2.24  \n2        2.24    2.24    2.24    2.24  \n3        2.24    2.24    2.24    2.24  \n4        2.24    2.24    2.24    2.24  \n...       ...     ...     ...     ...  \n30485    5.94    5.94    5.94    5.94  \n30486    5.94    5.94    5.94    5.94  \n30487    5.94    5.94    5.94    5.94  \n30488    5.94    5.94    5.94    5.94  \n30489    5.94    5.94    5.94    5.94  \n\n[30490 rows x 1970 columns]",
      "text/html": "<div>\n<style scoped>\n    .dataframe tbody tr th:only-of-type {\n        vertical-align: middle;\n    }\n\n    .dataframe tbody tr th {\n        vertical-align: top;\n    }\n\n    .dataframe thead th {\n        text-align: right;\n    }\n</style>\n<table border=\"1\" class=\"dataframe\">\n  <thead>\n    <tr style=\"text-align: right;\">\n      <th></th>\n      <th>id</th>\n      <th>d_1</th>\n      <th>d_2</th>\n      <th>d_3</th>\n      <th>d_4</th>\n      <th>d_5</th>\n      <th>d_6</th>\n      <th>d_7</th>\n      <th>d_8</th>\n      <th>d_9</th>\n      <th>...</th>\n      <th>d_1960</th>\n      <th>d_1961</th>\n      <th>d_1962</th>\n      <th>d_1963</th>\n      <th>d_1964</th>\n      <th>d_1965</th>\n      <th>d_1966</th>\n      <th>d_1967</th>\n      <th>d_1968</th>\n      <th>d_1969</th>\n    </tr>\n  </thead>\n  <tbody>\n    <tr>\n      <th>0</th>\n      <td>FOODS_1_001_CA_1_evaluation</td>\n      <td>2.00</td>\n      <td>2.00</td>\n      <td>2.00</td>\n      <td>2.00</td>\n      <td>2.00</td>\n      <td>2.00</td>\n      <td>2.00</td>\n      <td>2.00</td>\n      <td>2.00</td>\n      <td>...</td>\n      <td>2.24</td>\n      <td>2.24</td>\n      <td>2.24</td>\n      <td>2.24</td>\n      <td>2.24</td>\n      <td>2.24</td>\n      <td>2.24</td>\n      <td>2.24</td>\n      <td>2.24</td>\n      <td>2.24</td>\n    </tr>\n    <tr>\n      <th>1</th>\n      <td>FOODS_1_001_CA_2_evaluation</td>\n      <td>2.00</td>\n      <td>2.00</td>\n      <td>2.00</td>\n      <td>2.00</td>\n      <td>2.00</td>\n      <td>2.00</td>\n      <td>2.00</td>\n      <td>2.00</td>\n      <td>2.00</td>\n      <td>...</td>\n      <td>2.24</td>\n      <td>2.24</td>\n      <td>2.24</td>\n      <td>2.24</td>\n      <td>2.24</td>\n      <td>2.24</td>\n      <td>2.24</td>\n      <td>2.24</td>\n      <td>2.24</td>\n      <td>2.24</td>\n    </tr>\n    <tr>\n      <th>2</th>\n      <td>FOODS_1_001_CA_3_evaluation</td>\n      <td>2.00</td>\n      <td>2.00</td>\n      <td>2.00</td>\n      <td>2.00</td>\n      <td>2.00</td>\n      <td>2.00</td>\n      <td>2.00</td>\n      <td>2.00</td>\n      <td>2.00</td>\n      <td>...</td>\n      <td>2.24</td>\n      <td>2.24</td>\n      <td>2.24</td>\n      <td>2.24</td>\n      <td>2.24</td>\n      <td>2.24</td>\n      <td>2.24</td>\n      <td>2.24</td>\n      <td>2.24</td>\n      <td>2.24</td>\n    </tr>\n    <tr>\n      <th>3</th>\n      <td>FOODS_1_001_CA_4_evaluation</td>\n      <td>2.00</td>\n      <td>2.00</td>\n      <td>2.00</td>\n      <td>2.00</td>\n      <td>2.00</td>\n      <td>2.00</td>\n      <td>2.00</td>\n      <td>2.00</td>\n      <td>2.00</td>\n      <td>...</td>\n      <td>2.24</td>\n      <td>2.24</td>\n      <td>2.24</td>\n      <td>2.24</td>\n      <td>2.24</td>\n      <td>2.24</td>\n      <td>2.24</td>\n      <td>2.24</td>\n      <td>2.24</td>\n      <td>2.24</td>\n    </tr>\n    <tr>\n      <th>4</th>\n      <td>FOODS_1_001_TX_1_evaluation</td>\n      <td>2.00</td>\n      <td>2.00</td>\n      <td>2.00</td>\n      <td>2.00</td>\n      <td>2.00</td>\n      <td>2.00</td>\n      <td>2.00</td>\n      <td>2.00</td>\n      <td>2.00</td>\n      <td>...</td>\n      <td>2.24</td>\n      <td>2.24</td>\n      <td>2.24</td>\n      <td>2.24</td>\n      <td>2.24</td>\n      <td>2.24</td>\n      <td>2.24</td>\n      <td>2.24</td>\n      <td>2.24</td>\n      <td>2.24</td>\n    </tr>\n    <tr>\n      <th>...</th>\n      <td>...</td>\n      <td>...</td>\n      <td>...</td>\n      <td>...</td>\n      <td>...</td>\n      <td>...</td>\n      <td>...</td>\n      <td>...</td>\n      <td>...</td>\n      <td>...</td>\n      <td>...</td>\n      <td>...</td>\n      <td>...</td>\n      <td>...</td>\n      <td>...</td>\n      <td>...</td>\n      <td>...</td>\n      <td>...</td>\n      <td>...</td>\n      <td>...</td>\n      <td>...</td>\n    </tr>\n    <tr>\n      <th>30485</th>\n      <td>HOUSEHOLD_2_516_TX_2_evaluation</td>\n      <td>5.94</td>\n      <td>5.94</td>\n      <td>5.94</td>\n      <td>5.94</td>\n      <td>5.94</td>\n      <td>5.94</td>\n      <td>5.94</td>\n      <td>5.94</td>\n      <td>5.94</td>\n      <td>...</td>\n      <td>5.94</td>\n      <td>5.94</td>\n      <td>5.94</td>\n      <td>5.94</td>\n      <td>5.94</td>\n      <td>5.94</td>\n      <td>5.94</td>\n      <td>5.94</td>\n      <td>5.94</td>\n      <td>5.94</td>\n    </tr>\n    <tr>\n      <th>30486</th>\n      <td>HOUSEHOLD_2_516_TX_3_evaluation</td>\n      <td>5.94</td>\n      <td>5.94</td>\n      <td>5.94</td>\n      <td>5.94</td>\n      <td>5.94</td>\n      <td>5.94</td>\n      <td>5.94</td>\n      <td>5.94</td>\n      <td>5.94</td>\n      <td>...</td>\n      <td>5.94</td>\n      <td>5.94</td>\n      <td>5.94</td>\n      <td>5.94</td>\n      <td>5.94</td>\n      <td>5.94</td>\n      <td>5.94</td>\n      <td>5.94</td>\n      <td>5.94</td>\n      <td>5.94</td>\n    </tr>\n    <tr>\n      <th>30487</th>\n      <td>HOUSEHOLD_2_516_WI_1_evaluation</td>\n      <td>5.94</td>\n      <td>5.94</td>\n      <td>5.94</td>\n      <td>5.94</td>\n      <td>5.94</td>\n      <td>5.94</td>\n      <td>5.94</td>\n      <td>5.94</td>\n      <td>5.94</td>\n      <td>...</td>\n      <td>5.94</td>\n      <td>5.94</td>\n      <td>5.94</td>\n      <td>5.94</td>\n      <td>5.94</td>\n      <td>5.94</td>\n      <td>5.94</td>\n      <td>5.94</td>\n      <td>5.94</td>\n      <td>5.94</td>\n    </tr>\n    <tr>\n      <th>30488</th>\n      <td>HOUSEHOLD_2_516_WI_2_evaluation</td>\n      <td>0.00</td>\n      <td>0.00</td>\n      <td>0.00</td>\n      <td>0.00</td>\n      <td>0.00</td>\n      <td>0.00</td>\n      <td>0.00</td>\n      <td>0.00</td>\n      <td>0.00</td>\n      <td>...</td>\n      <td>5.94</td>\n      <td>5.94</td>\n      <td>5.94</td>\n      <td>5.94</td>\n      <td>5.94</td>\n      <td>5.94</td>\n      <td>5.94</td>\n      <td>5.94</td>\n      <td>5.94</td>\n      <td>5.94</td>\n    </tr>\n    <tr>\n      <th>30489</th>\n      <td>HOUSEHOLD_2_516_WI_3_evaluation</td>\n      <td>5.94</td>\n      <td>5.94</td>\n      <td>5.94</td>\n      <td>5.94</td>\n      <td>5.94</td>\n      <td>5.94</td>\n      <td>5.94</td>\n      <td>5.94</td>\n      <td>5.94</td>\n      <td>...</td>\n      <td>5.94</td>\n      <td>5.94</td>\n      <td>5.94</td>\n      <td>5.94</td>\n      <td>5.94</td>\n      <td>5.94</td>\n      <td>5.94</td>\n      <td>5.94</td>\n      <td>5.94</td>\n      <td>5.94</td>\n    </tr>\n  </tbody>\n</table>\n<p>30490 rows × 1970 columns</p>\n</div>"
     },
     "metadata": {},
     "execution_count": 16
    }
   ],
   "source": [
    "price_df"
   ]
  },
  {
   "cell_type": "code",
   "execution_count": 17,
   "metadata": {},
   "outputs": [
    {
     "output_type": "execute_result",
     "data": {
      "text/plain": "                                  id        item_id    dept_id   cat_id  \\\n0      HOBBIES_1_001_CA_1_evaluation  HOBBIES_1_001  HOBBIES_1  HOBBIES   \n1      HOBBIES_1_002_CA_1_evaluation  HOBBIES_1_002  HOBBIES_1  HOBBIES   \n2      HOBBIES_1_003_CA_1_evaluation  HOBBIES_1_003  HOBBIES_1  HOBBIES   \n3      HOBBIES_1_004_CA_1_evaluation  HOBBIES_1_004  HOBBIES_1  HOBBIES   \n4      HOBBIES_1_005_CA_1_evaluation  HOBBIES_1_005  HOBBIES_1  HOBBIES   \n...                              ...            ...        ...      ...   \n30485    FOODS_3_823_WI_3_evaluation    FOODS_3_823    FOODS_3    FOODS   \n30486    FOODS_3_824_WI_3_evaluation    FOODS_3_824    FOODS_3    FOODS   \n30487    FOODS_3_825_WI_3_evaluation    FOODS_3_825    FOODS_3    FOODS   \n30488    FOODS_3_826_WI_3_evaluation    FOODS_3_826    FOODS_3    FOODS   \n30489    FOODS_3_827_WI_3_evaluation    FOODS_3_827    FOODS_3    FOODS   \n\n      store_id state_id  d_1  d_2  d_3  d_4  ...  d_1932  d_1933  d_1934  \\\n0         CA_1       CA    0    0    0    0  ...       2       4       0   \n1         CA_1       CA    0    0    0    0  ...       0       1       2   \n2         CA_1       CA    0    0    0    0  ...       1       0       2   \n3         CA_1       CA    0    0    0    0  ...       1       1       0   \n4         CA_1       CA    0    0    0    0  ...       0       0       0   \n...        ...      ...  ...  ...  ...  ...  ...     ...     ...     ...   \n30485     WI_3       WI    0    0    2    2  ...       1       0       3   \n30486     WI_3       WI    0    0    0    0  ...       0       0       0   \n30487     WI_3       WI    0    6    0    2  ...       0       0       1   \n30488     WI_3       WI    0    0    0    0  ...       1       1       1   \n30489     WI_3       WI    0    0    0    0  ...       1       2       0   \n\n       d_1935  d_1936  d_1937  d_1938  d_1939  d_1940  d_1941  \n0           0       0       0       3       3       0       1  \n1           1       1       0       0       0       0       0  \n2           0       0       0       2       3       0       1  \n3           4       0       1       3       0       2       6  \n4           2       1       0       0       2       1       0  \n...       ...     ...     ...     ...     ...     ...     ...  \n30485       0       1       1       0       0       1       1  \n30486       0       0       0       1       0       1       0  \n30487       2       0       1       0       1       0       2  \n30488       4       6       0       1       1       1       0  \n30489       5       4       0       2       2       5       1  \n\n[30490 rows x 1947 columns]",
      "text/html": "<div>\n<style scoped>\n    .dataframe tbody tr th:only-of-type {\n        vertical-align: middle;\n    }\n\n    .dataframe tbody tr th {\n        vertical-align: top;\n    }\n\n    .dataframe thead th {\n        text-align: right;\n    }\n</style>\n<table border=\"1\" class=\"dataframe\">\n  <thead>\n    <tr style=\"text-align: right;\">\n      <th></th>\n      <th>id</th>\n      <th>item_id</th>\n      <th>dept_id</th>\n      <th>cat_id</th>\n      <th>store_id</th>\n      <th>state_id</th>\n      <th>d_1</th>\n      <th>d_2</th>\n      <th>d_3</th>\n      <th>d_4</th>\n      <th>...</th>\n      <th>d_1932</th>\n      <th>d_1933</th>\n      <th>d_1934</th>\n      <th>d_1935</th>\n      <th>d_1936</th>\n      <th>d_1937</th>\n      <th>d_1938</th>\n      <th>d_1939</th>\n      <th>d_1940</th>\n      <th>d_1941</th>\n    </tr>\n  </thead>\n  <tbody>\n    <tr>\n      <th>0</th>\n      <td>HOBBIES_1_001_CA_1_evaluation</td>\n      <td>HOBBIES_1_001</td>\n      <td>HOBBIES_1</td>\n      <td>HOBBIES</td>\n      <td>CA_1</td>\n      <td>CA</td>\n      <td>0</td>\n      <td>0</td>\n      <td>0</td>\n      <td>0</td>\n      <td>...</td>\n      <td>2</td>\n      <td>4</td>\n      <td>0</td>\n      <td>0</td>\n      <td>0</td>\n      <td>0</td>\n      <td>3</td>\n      <td>3</td>\n      <td>0</td>\n      <td>1</td>\n    </tr>\n    <tr>\n      <th>1</th>\n      <td>HOBBIES_1_002_CA_1_evaluation</td>\n      <td>HOBBIES_1_002</td>\n      <td>HOBBIES_1</td>\n      <td>HOBBIES</td>\n      <td>CA_1</td>\n      <td>CA</td>\n      <td>0</td>\n      <td>0</td>\n      <td>0</td>\n      <td>0</td>\n      <td>...</td>\n      <td>0</td>\n      <td>1</td>\n      <td>2</td>\n      <td>1</td>\n      <td>1</td>\n      <td>0</td>\n      <td>0</td>\n      <td>0</td>\n      <td>0</td>\n      <td>0</td>\n    </tr>\n    <tr>\n      <th>2</th>\n      <td>HOBBIES_1_003_CA_1_evaluation</td>\n      <td>HOBBIES_1_003</td>\n      <td>HOBBIES_1</td>\n      <td>HOBBIES</td>\n      <td>CA_1</td>\n      <td>CA</td>\n      <td>0</td>\n      <td>0</td>\n      <td>0</td>\n      <td>0</td>\n      <td>...</td>\n      <td>1</td>\n      <td>0</td>\n      <td>2</td>\n      <td>0</td>\n      <td>0</td>\n      <td>0</td>\n      <td>2</td>\n      <td>3</td>\n      <td>0</td>\n      <td>1</td>\n    </tr>\n    <tr>\n      <th>3</th>\n      <td>HOBBIES_1_004_CA_1_evaluation</td>\n      <td>HOBBIES_1_004</td>\n      <td>HOBBIES_1</td>\n      <td>HOBBIES</td>\n      <td>CA_1</td>\n      <td>CA</td>\n      <td>0</td>\n      <td>0</td>\n      <td>0</td>\n      <td>0</td>\n      <td>...</td>\n      <td>1</td>\n      <td>1</td>\n      <td>0</td>\n      <td>4</td>\n      <td>0</td>\n      <td>1</td>\n      <td>3</td>\n      <td>0</td>\n      <td>2</td>\n      <td>6</td>\n    </tr>\n    <tr>\n      <th>4</th>\n      <td>HOBBIES_1_005_CA_1_evaluation</td>\n      <td>HOBBIES_1_005</td>\n      <td>HOBBIES_1</td>\n      <td>HOBBIES</td>\n      <td>CA_1</td>\n      <td>CA</td>\n      <td>0</td>\n      <td>0</td>\n      <td>0</td>\n      <td>0</td>\n      <td>...</td>\n      <td>0</td>\n      <td>0</td>\n      <td>0</td>\n      <td>2</td>\n      <td>1</td>\n      <td>0</td>\n      <td>0</td>\n      <td>2</td>\n      <td>1</td>\n      <td>0</td>\n    </tr>\n    <tr>\n      <th>...</th>\n      <td>...</td>\n      <td>...</td>\n      <td>...</td>\n      <td>...</td>\n      <td>...</td>\n      <td>...</td>\n      <td>...</td>\n      <td>...</td>\n      <td>...</td>\n      <td>...</td>\n      <td>...</td>\n      <td>...</td>\n      <td>...</td>\n      <td>...</td>\n      <td>...</td>\n      <td>...</td>\n      <td>...</td>\n      <td>...</td>\n      <td>...</td>\n      <td>...</td>\n      <td>...</td>\n    </tr>\n    <tr>\n      <th>30485</th>\n      <td>FOODS_3_823_WI_3_evaluation</td>\n      <td>FOODS_3_823</td>\n      <td>FOODS_3</td>\n      <td>FOODS</td>\n      <td>WI_3</td>\n      <td>WI</td>\n      <td>0</td>\n      <td>0</td>\n      <td>2</td>\n      <td>2</td>\n      <td>...</td>\n      <td>1</td>\n      <td>0</td>\n      <td>3</td>\n      <td>0</td>\n      <td>1</td>\n      <td>1</td>\n      <td>0</td>\n      <td>0</td>\n      <td>1</td>\n      <td>1</td>\n    </tr>\n    <tr>\n      <th>30486</th>\n      <td>FOODS_3_824_WI_3_evaluation</td>\n      <td>FOODS_3_824</td>\n      <td>FOODS_3</td>\n      <td>FOODS</td>\n      <td>WI_3</td>\n      <td>WI</td>\n      <td>0</td>\n      <td>0</td>\n      <td>0</td>\n      <td>0</td>\n      <td>...</td>\n      <td>0</td>\n      <td>0</td>\n      <td>0</td>\n      <td>0</td>\n      <td>0</td>\n      <td>0</td>\n      <td>1</td>\n      <td>0</td>\n      <td>1</td>\n      <td>0</td>\n    </tr>\n    <tr>\n      <th>30487</th>\n      <td>FOODS_3_825_WI_3_evaluation</td>\n      <td>FOODS_3_825</td>\n      <td>FOODS_3</td>\n      <td>FOODS</td>\n      <td>WI_3</td>\n      <td>WI</td>\n      <td>0</td>\n      <td>6</td>\n      <td>0</td>\n      <td>2</td>\n      <td>...</td>\n      <td>0</td>\n      <td>0</td>\n      <td>1</td>\n      <td>2</td>\n      <td>0</td>\n      <td>1</td>\n      <td>0</td>\n      <td>1</td>\n      <td>0</td>\n      <td>2</td>\n    </tr>\n    <tr>\n      <th>30488</th>\n      <td>FOODS_3_826_WI_3_evaluation</td>\n      <td>FOODS_3_826</td>\n      <td>FOODS_3</td>\n      <td>FOODS</td>\n      <td>WI_3</td>\n      <td>WI</td>\n      <td>0</td>\n      <td>0</td>\n      <td>0</td>\n      <td>0</td>\n      <td>...</td>\n      <td>1</td>\n      <td>1</td>\n      <td>1</td>\n      <td>4</td>\n      <td>6</td>\n      <td>0</td>\n      <td>1</td>\n      <td>1</td>\n      <td>1</td>\n      <td>0</td>\n    </tr>\n    <tr>\n      <th>30489</th>\n      <td>FOODS_3_827_WI_3_evaluation</td>\n      <td>FOODS_3_827</td>\n      <td>FOODS_3</td>\n      <td>FOODS</td>\n      <td>WI_3</td>\n      <td>WI</td>\n      <td>0</td>\n      <td>0</td>\n      <td>0</td>\n      <td>0</td>\n      <td>...</td>\n      <td>1</td>\n      <td>2</td>\n      <td>0</td>\n      <td>5</td>\n      <td>4</td>\n      <td>0</td>\n      <td>2</td>\n      <td>2</td>\n      <td>5</td>\n      <td>1</td>\n    </tr>\n  </tbody>\n</table>\n<p>30490 rows × 1947 columns</p>\n</div>"
     },
     "metadata": {},
     "execution_count": 17
    }
   ],
   "source": [
    "ste"
   ]
  },
  {
   "cell_type": "code",
   "execution_count": 18,
   "metadata": {},
   "outputs": [],
   "source": [
    "ste = ste.rename(columns={\"id\": \"total_id\"})"
   ]
  },
  {
   "cell_type": "code",
   "execution_count": 19,
   "metadata": {},
   "outputs": [
    {
     "output_type": "execute_result",
     "data": {
      "text/plain": "                            total_id  d_1  d_2  d_3  d_4  d_5  d_6  d_7  d_8  \\\n0      HOBBIES_1_001_CA_1_evaluation    0    0    0    0    0    0    0    0   \n1      HOBBIES_1_002_CA_1_evaluation    0    0    0    0    0    0    0    0   \n2      HOBBIES_1_003_CA_1_evaluation    0    0    0    0    0    0    0    0   \n3      HOBBIES_1_004_CA_1_evaluation    0    0    0    0    0    0    0    0   \n4      HOBBIES_1_005_CA_1_evaluation    0    0    0    0    0    0    0    0   \n...                              ...  ...  ...  ...  ...  ...  ...  ...  ...   \n30485    FOODS_3_823_WI_3_evaluation    0    0    2    2    0    3    1    4   \n30486    FOODS_3_824_WI_3_evaluation    0    0    0    0    0    5    0    1   \n30487    FOODS_3_825_WI_3_evaluation    0    6    0    2    2    4    1    8   \n30488    FOODS_3_826_WI_3_evaluation    0    0    0    0    0    0    0    0   \n30489    FOODS_3_827_WI_3_evaluation    0    0    0    0    0    0    0    0   \n\n       d_9  ...  d_1932  d_1933  d_1934  d_1935  d_1936  d_1937  d_1938  \\\n0        0  ...       2       4       0       0       0       0       3   \n1        0  ...       0       1       2       1       1       0       0   \n2        0  ...       1       0       2       0       0       0       2   \n3        0  ...       1       1       0       4       0       1       3   \n4        0  ...       0       0       0       2       1       0       0   \n...    ...  ...     ...     ...     ...     ...     ...     ...     ...   \n30485    1  ...       1       0       3       0       1       1       0   \n30486    1  ...       0       0       0       0       0       0       1   \n30487    5  ...       0       0       1       2       0       1       0   \n30488    0  ...       1       1       1       4       6       0       1   \n30489    0  ...       1       2       0       5       4       0       2   \n\n       d_1939  d_1940  d_1941  \n0           3       0       1  \n1           0       0       0  \n2           3       0       1  \n3           0       2       6  \n4           2       1       0  \n...       ...     ...     ...  \n30485       0       1       1  \n30486       0       1       0  \n30487       1       0       2  \n30488       1       1       0  \n30489       2       5       1  \n\n[30490 rows x 1942 columns]",
      "text/html": "<div>\n<style scoped>\n    .dataframe tbody tr th:only-of-type {\n        vertical-align: middle;\n    }\n\n    .dataframe tbody tr th {\n        vertical-align: top;\n    }\n\n    .dataframe thead th {\n        text-align: right;\n    }\n</style>\n<table border=\"1\" class=\"dataframe\">\n  <thead>\n    <tr style=\"text-align: right;\">\n      <th></th>\n      <th>total_id</th>\n      <th>d_1</th>\n      <th>d_2</th>\n      <th>d_3</th>\n      <th>d_4</th>\n      <th>d_5</th>\n      <th>d_6</th>\n      <th>d_7</th>\n      <th>d_8</th>\n      <th>d_9</th>\n      <th>...</th>\n      <th>d_1932</th>\n      <th>d_1933</th>\n      <th>d_1934</th>\n      <th>d_1935</th>\n      <th>d_1936</th>\n      <th>d_1937</th>\n      <th>d_1938</th>\n      <th>d_1939</th>\n      <th>d_1940</th>\n      <th>d_1941</th>\n    </tr>\n  </thead>\n  <tbody>\n    <tr>\n      <th>0</th>\n      <td>HOBBIES_1_001_CA_1_evaluation</td>\n      <td>0</td>\n      <td>0</td>\n      <td>0</td>\n      <td>0</td>\n      <td>0</td>\n      <td>0</td>\n      <td>0</td>\n      <td>0</td>\n      <td>0</td>\n      <td>...</td>\n      <td>2</td>\n      <td>4</td>\n      <td>0</td>\n      <td>0</td>\n      <td>0</td>\n      <td>0</td>\n      <td>3</td>\n      <td>3</td>\n      <td>0</td>\n      <td>1</td>\n    </tr>\n    <tr>\n      <th>1</th>\n      <td>HOBBIES_1_002_CA_1_evaluation</td>\n      <td>0</td>\n      <td>0</td>\n      <td>0</td>\n      <td>0</td>\n      <td>0</td>\n      <td>0</td>\n      <td>0</td>\n      <td>0</td>\n      <td>0</td>\n      <td>...</td>\n      <td>0</td>\n      <td>1</td>\n      <td>2</td>\n      <td>1</td>\n      <td>1</td>\n      <td>0</td>\n      <td>0</td>\n      <td>0</td>\n      <td>0</td>\n      <td>0</td>\n    </tr>\n    <tr>\n      <th>2</th>\n      <td>HOBBIES_1_003_CA_1_evaluation</td>\n      <td>0</td>\n      <td>0</td>\n      <td>0</td>\n      <td>0</td>\n      <td>0</td>\n      <td>0</td>\n      <td>0</td>\n      <td>0</td>\n      <td>0</td>\n      <td>...</td>\n      <td>1</td>\n      <td>0</td>\n      <td>2</td>\n      <td>0</td>\n      <td>0</td>\n      <td>0</td>\n      <td>2</td>\n      <td>3</td>\n      <td>0</td>\n      <td>1</td>\n    </tr>\n    <tr>\n      <th>3</th>\n      <td>HOBBIES_1_004_CA_1_evaluation</td>\n      <td>0</td>\n      <td>0</td>\n      <td>0</td>\n      <td>0</td>\n      <td>0</td>\n      <td>0</td>\n      <td>0</td>\n      <td>0</td>\n      <td>0</td>\n      <td>...</td>\n      <td>1</td>\n      <td>1</td>\n      <td>0</td>\n      <td>4</td>\n      <td>0</td>\n      <td>1</td>\n      <td>3</td>\n      <td>0</td>\n      <td>2</td>\n      <td>6</td>\n    </tr>\n    <tr>\n      <th>4</th>\n      <td>HOBBIES_1_005_CA_1_evaluation</td>\n      <td>0</td>\n      <td>0</td>\n      <td>0</td>\n      <td>0</td>\n      <td>0</td>\n      <td>0</td>\n      <td>0</td>\n      <td>0</td>\n      <td>0</td>\n      <td>...</td>\n      <td>0</td>\n      <td>0</td>\n      <td>0</td>\n      <td>2</td>\n      <td>1</td>\n      <td>0</td>\n      <td>0</td>\n      <td>2</td>\n      <td>1</td>\n      <td>0</td>\n    </tr>\n    <tr>\n      <th>...</th>\n      <td>...</td>\n      <td>...</td>\n      <td>...</td>\n      <td>...</td>\n      <td>...</td>\n      <td>...</td>\n      <td>...</td>\n      <td>...</td>\n      <td>...</td>\n      <td>...</td>\n      <td>...</td>\n      <td>...</td>\n      <td>...</td>\n      <td>...</td>\n      <td>...</td>\n      <td>...</td>\n      <td>...</td>\n      <td>...</td>\n      <td>...</td>\n      <td>...</td>\n      <td>...</td>\n    </tr>\n    <tr>\n      <th>30485</th>\n      <td>FOODS_3_823_WI_3_evaluation</td>\n      <td>0</td>\n      <td>0</td>\n      <td>2</td>\n      <td>2</td>\n      <td>0</td>\n      <td>3</td>\n      <td>1</td>\n      <td>4</td>\n      <td>1</td>\n      <td>...</td>\n      <td>1</td>\n      <td>0</td>\n      <td>3</td>\n      <td>0</td>\n      <td>1</td>\n      <td>1</td>\n      <td>0</td>\n      <td>0</td>\n      <td>1</td>\n      <td>1</td>\n    </tr>\n    <tr>\n      <th>30486</th>\n      <td>FOODS_3_824_WI_3_evaluation</td>\n      <td>0</td>\n      <td>0</td>\n      <td>0</td>\n      <td>0</td>\n      <td>0</td>\n      <td>5</td>\n      <td>0</td>\n      <td>1</td>\n      <td>1</td>\n      <td>...</td>\n      <td>0</td>\n      <td>0</td>\n      <td>0</td>\n      <td>0</td>\n      <td>0</td>\n      <td>0</td>\n      <td>1</td>\n      <td>0</td>\n      <td>1</td>\n      <td>0</td>\n    </tr>\n    <tr>\n      <th>30487</th>\n      <td>FOODS_3_825_WI_3_evaluation</td>\n      <td>0</td>\n      <td>6</td>\n      <td>0</td>\n      <td>2</td>\n      <td>2</td>\n      <td>4</td>\n      <td>1</td>\n      <td>8</td>\n      <td>5</td>\n      <td>...</td>\n      <td>0</td>\n      <td>0</td>\n      <td>1</td>\n      <td>2</td>\n      <td>0</td>\n      <td>1</td>\n      <td>0</td>\n      <td>1</td>\n      <td>0</td>\n      <td>2</td>\n    </tr>\n    <tr>\n      <th>30488</th>\n      <td>FOODS_3_826_WI_3_evaluation</td>\n      <td>0</td>\n      <td>0</td>\n      <td>0</td>\n      <td>0</td>\n      <td>0</td>\n      <td>0</td>\n      <td>0</td>\n      <td>0</td>\n      <td>0</td>\n      <td>...</td>\n      <td>1</td>\n      <td>1</td>\n      <td>1</td>\n      <td>4</td>\n      <td>6</td>\n      <td>0</td>\n      <td>1</td>\n      <td>1</td>\n      <td>1</td>\n      <td>0</td>\n    </tr>\n    <tr>\n      <th>30489</th>\n      <td>FOODS_3_827_WI_3_evaluation</td>\n      <td>0</td>\n      <td>0</td>\n      <td>0</td>\n      <td>0</td>\n      <td>0</td>\n      <td>0</td>\n      <td>0</td>\n      <td>0</td>\n      <td>0</td>\n      <td>...</td>\n      <td>1</td>\n      <td>2</td>\n      <td>0</td>\n      <td>5</td>\n      <td>4</td>\n      <td>0</td>\n      <td>2</td>\n      <td>2</td>\n      <td>5</td>\n      <td>1</td>\n    </tr>\n  </tbody>\n</table>\n<p>30490 rows × 1942 columns</p>\n</div>"
     },
     "metadata": {},
     "execution_count": 19
    }
   ],
   "source": [
    "mod_ste = ste.drop(columns=[\"item_id\", \"dept_id\", \"cat_id\", \"store_id\", \"state_id\"])\n",
    "mod_ste"
   ]
  },
  {
   "cell_type": "code",
   "execution_count": 20,
   "metadata": {},
   "outputs": [
    {
     "output_type": "execute_result",
     "data": {
      "text/plain": "                            total_id  item_id  dept_id  cat_id  store_id  \\\n0      HOBBIES_1_001_CA_1_evaluation     1437        3       1         0   \n1      HOBBIES_1_002_CA_1_evaluation     1438        3       1         0   \n2      HOBBIES_1_003_CA_1_evaluation     1439        3       1         0   \n3      HOBBIES_1_004_CA_1_evaluation     1440        3       1         0   \n4      HOBBIES_1_005_CA_1_evaluation     1441        3       1         0   \n...                              ...      ...      ...     ...       ...   \n30485    FOODS_3_823_WI_3_evaluation     1432        2       0         9   \n30486    FOODS_3_824_WI_3_evaluation     1433        2       0         9   \n30487    FOODS_3_825_WI_3_evaluation     1434        2       0         9   \n30488    FOODS_3_826_WI_3_evaluation     1435        2       0         9   \n30489    FOODS_3_827_WI_3_evaluation     1436        2       0         9   \n\n       state_id  \n0             0  \n1             0  \n2             0  \n3             0  \n4             0  \n...         ...  \n30485         2  \n30486         2  \n30487         2  \n30488         2  \n30489         2  \n\n[30490 rows x 6 columns]",
      "text/html": "<div>\n<style scoped>\n    .dataframe tbody tr th:only-of-type {\n        vertical-align: middle;\n    }\n\n    .dataframe tbody tr th {\n        vertical-align: top;\n    }\n\n    .dataframe thead th {\n        text-align: right;\n    }\n</style>\n<table border=\"1\" class=\"dataframe\">\n  <thead>\n    <tr style=\"text-align: right;\">\n      <th></th>\n      <th>total_id</th>\n      <th>item_id</th>\n      <th>dept_id</th>\n      <th>cat_id</th>\n      <th>store_id</th>\n      <th>state_id</th>\n    </tr>\n  </thead>\n  <tbody>\n    <tr>\n      <th>0</th>\n      <td>HOBBIES_1_001_CA_1_evaluation</td>\n      <td>1437</td>\n      <td>3</td>\n      <td>1</td>\n      <td>0</td>\n      <td>0</td>\n    </tr>\n    <tr>\n      <th>1</th>\n      <td>HOBBIES_1_002_CA_1_evaluation</td>\n      <td>1438</td>\n      <td>3</td>\n      <td>1</td>\n      <td>0</td>\n      <td>0</td>\n    </tr>\n    <tr>\n      <th>2</th>\n      <td>HOBBIES_1_003_CA_1_evaluation</td>\n      <td>1439</td>\n      <td>3</td>\n      <td>1</td>\n      <td>0</td>\n      <td>0</td>\n    </tr>\n    <tr>\n      <th>3</th>\n      <td>HOBBIES_1_004_CA_1_evaluation</td>\n      <td>1440</td>\n      <td>3</td>\n      <td>1</td>\n      <td>0</td>\n      <td>0</td>\n    </tr>\n    <tr>\n      <th>4</th>\n      <td>HOBBIES_1_005_CA_1_evaluation</td>\n      <td>1441</td>\n      <td>3</td>\n      <td>1</td>\n      <td>0</td>\n      <td>0</td>\n    </tr>\n    <tr>\n      <th>...</th>\n      <td>...</td>\n      <td>...</td>\n      <td>...</td>\n      <td>...</td>\n      <td>...</td>\n      <td>...</td>\n    </tr>\n    <tr>\n      <th>30485</th>\n      <td>FOODS_3_823_WI_3_evaluation</td>\n      <td>1432</td>\n      <td>2</td>\n      <td>0</td>\n      <td>9</td>\n      <td>2</td>\n    </tr>\n    <tr>\n      <th>30486</th>\n      <td>FOODS_3_824_WI_3_evaluation</td>\n      <td>1433</td>\n      <td>2</td>\n      <td>0</td>\n      <td>9</td>\n      <td>2</td>\n    </tr>\n    <tr>\n      <th>30487</th>\n      <td>FOODS_3_825_WI_3_evaluation</td>\n      <td>1434</td>\n      <td>2</td>\n      <td>0</td>\n      <td>9</td>\n      <td>2</td>\n    </tr>\n    <tr>\n      <th>30488</th>\n      <td>FOODS_3_826_WI_3_evaluation</td>\n      <td>1435</td>\n      <td>2</td>\n      <td>0</td>\n      <td>9</td>\n      <td>2</td>\n    </tr>\n    <tr>\n      <th>30489</th>\n      <td>FOODS_3_827_WI_3_evaluation</td>\n      <td>1436</td>\n      <td>2</td>\n      <td>0</td>\n      <td>9</td>\n      <td>2</td>\n    </tr>\n  </tbody>\n</table>\n<p>30490 rows × 6 columns</p>\n</div>"
     },
     "metadata": {},
     "execution_count": 20
    }
   ],
   "source": [
    "encoder = LabelEncoder()\n",
    "item_attribute_df = pd.DataFrame(ste[\"total_id\"])\n",
    "for col in [\"item_id\", \"dept_id\", \"cat_id\", \"store_id\", \"state_id\"]:\n",
    "    item_attribute_df[col] = pd.Series(encoder.fit_transform(ste[col]), name=col)\n",
    "\n",
    "item_attribute_df"
   ]
  },
  {
   "cell_type": "code",
   "execution_count": 21,
   "metadata": {},
   "outputs": [
    {
     "output_type": "execute_result",
     "data": {
      "text/plain": "pandas.core.frame.DataFrame"
     },
     "metadata": {},
     "execution_count": 21
    }
   ],
   "source": [
    "type(price_df[price_df[\"id\"] == \"HOBBIES_1_001_CA_1_evaluation\"])"
   ]
  },
  {
   "cell_type": "code",
   "execution_count": 22,
   "metadata": {},
   "outputs": [
    {
     "output_type": "execute_result",
     "data": {
      "text/plain": "     event_name_1 event_type_1 event_name_2 event_type_2 snap_CA snap_TX  \\\n0              30            4            4            2       0       0   \n1              30            4            4            2       0       0   \n2              30            4            4            2       0       0   \n3              30            4            4            2       1       1   \n4              30            4            4            2       1       0   \n...           ...          ...          ...          ...     ...     ...   \n1964           30            4            4            2       0       1   \n1965           30            4            4            2       0       0   \n1966           30            4            4            2       0       0   \n1967           30            4            4            2       0       0   \n1968           16            3            2            0       0       0   \n\n     snap_WI       date       d  \n0          0 2011-01-29     d_1  \n1          0 2011-01-30     d_2  \n2          0 2011-01-31     d_3  \n3          0 2011-02-01     d_4  \n4          1 2011-02-02     d_5  \n...      ...        ...     ...  \n1964       1 2016-06-15  d_1965  \n1965       0 2016-06-16  d_1966  \n1966       0 2016-06-17  d_1967  \n1967       0 2016-06-18  d_1968  \n1968       0 2016-06-19  d_1969  \n\n[1969 rows x 9 columns]",
      "text/html": "<div>\n<style scoped>\n    .dataframe tbody tr th:only-of-type {\n        vertical-align: middle;\n    }\n\n    .dataframe tbody tr th {\n        vertical-align: top;\n    }\n\n    .dataframe thead th {\n        text-align: right;\n    }\n</style>\n<table border=\"1\" class=\"dataframe\">\n  <thead>\n    <tr style=\"text-align: right;\">\n      <th></th>\n      <th>event_name_1</th>\n      <th>event_type_1</th>\n      <th>event_name_2</th>\n      <th>event_type_2</th>\n      <th>snap_CA</th>\n      <th>snap_TX</th>\n      <th>snap_WI</th>\n      <th>date</th>\n      <th>d</th>\n    </tr>\n  </thead>\n  <tbody>\n    <tr>\n      <th>0</th>\n      <td>30</td>\n      <td>4</td>\n      <td>4</td>\n      <td>2</td>\n      <td>0</td>\n      <td>0</td>\n      <td>0</td>\n      <td>2011-01-29</td>\n      <td>d_1</td>\n    </tr>\n    <tr>\n      <th>1</th>\n      <td>30</td>\n      <td>4</td>\n      <td>4</td>\n      <td>2</td>\n      <td>0</td>\n      <td>0</td>\n      <td>0</td>\n      <td>2011-01-30</td>\n      <td>d_2</td>\n    </tr>\n    <tr>\n      <th>2</th>\n      <td>30</td>\n      <td>4</td>\n      <td>4</td>\n      <td>2</td>\n      <td>0</td>\n      <td>0</td>\n      <td>0</td>\n      <td>2011-01-31</td>\n      <td>d_3</td>\n    </tr>\n    <tr>\n      <th>3</th>\n      <td>30</td>\n      <td>4</td>\n      <td>4</td>\n      <td>2</td>\n      <td>1</td>\n      <td>1</td>\n      <td>0</td>\n      <td>2011-02-01</td>\n      <td>d_4</td>\n    </tr>\n    <tr>\n      <th>4</th>\n      <td>30</td>\n      <td>4</td>\n      <td>4</td>\n      <td>2</td>\n      <td>1</td>\n      <td>0</td>\n      <td>1</td>\n      <td>2011-02-02</td>\n      <td>d_5</td>\n    </tr>\n    <tr>\n      <th>...</th>\n      <td>...</td>\n      <td>...</td>\n      <td>...</td>\n      <td>...</td>\n      <td>...</td>\n      <td>...</td>\n      <td>...</td>\n      <td>...</td>\n      <td>...</td>\n    </tr>\n    <tr>\n      <th>1964</th>\n      <td>30</td>\n      <td>4</td>\n      <td>4</td>\n      <td>2</td>\n      <td>0</td>\n      <td>1</td>\n      <td>1</td>\n      <td>2016-06-15</td>\n      <td>d_1965</td>\n    </tr>\n    <tr>\n      <th>1965</th>\n      <td>30</td>\n      <td>4</td>\n      <td>4</td>\n      <td>2</td>\n      <td>0</td>\n      <td>0</td>\n      <td>0</td>\n      <td>2016-06-16</td>\n      <td>d_1966</td>\n    </tr>\n    <tr>\n      <th>1966</th>\n      <td>30</td>\n      <td>4</td>\n      <td>4</td>\n      <td>2</td>\n      <td>0</td>\n      <td>0</td>\n      <td>0</td>\n      <td>2016-06-17</td>\n      <td>d_1967</td>\n    </tr>\n    <tr>\n      <th>1967</th>\n      <td>30</td>\n      <td>4</td>\n      <td>4</td>\n      <td>2</td>\n      <td>0</td>\n      <td>0</td>\n      <td>0</td>\n      <td>2016-06-18</td>\n      <td>d_1968</td>\n    </tr>\n    <tr>\n      <th>1968</th>\n      <td>16</td>\n      <td>3</td>\n      <td>2</td>\n      <td>0</td>\n      <td>0</td>\n      <td>0</td>\n      <td>0</td>\n      <td>2016-06-19</td>\n      <td>d_1969</td>\n    </tr>\n  </tbody>\n</table>\n<p>1969 rows × 9 columns</p>\n</div>"
     },
     "metadata": {},
     "execution_count": 22
    }
   ],
   "source": [
    "transfer_cal.transpose()"
   ]
  },
  {
   "cell_type": "code",
   "execution_count": 23,
   "metadata": {},
   "outputs": [],
   "source": [
    "def train_data_generator(feature, cal):\n",
    "    \"\"\"\n",
    "    6/7 未完成\n",
    "    for文の中にもう一つfor文を作成し、\n",
    "    所望の長さ(シーケンス)のデータをジェネレートするようにしたい\n",
    "    \n",
    "    -> 別のセルで、keras用のgeneratorクラスを作成することにした。\n",
    "    これ自体は、トレーニングデータ作成に使えるので残す。\n",
    "\n",
    "    feature: データ点列 × データ数のデータフレーム\n",
    "    cal: カレンダーのデータフレーム\n",
    "\n",
    "    引数は特徴量を追加した段階で足すかもしれない。\n",
    "\n",
    "    \"\"\"\n",
    "\n",
    "    length = feature.shape[1]\n",
    "    columns = feature.columns\n",
    "    for i in range(0, length):\n",
    "        feature_df =  pd.concat([cal.reset_index(drop=True), feature[columns[i]]], axis=1)\n",
    "        yield feature_df"
   ]
  },
  {
   "cell_type": "code",
   "execution_count": 24,
   "metadata": {},
   "outputs": [
    {
     "output_type": "execute_result",
     "data": {
      "text/plain": "                             0                    1                    2     \\\nevent_name_1                   30                   30                   30   \nevent_type_1                    4                    4                    4   \nevent_name_2                    4                    4                    4   \nevent_type_2                    2                    2                    2   \nsnap_CA                         0                    0                    0   \nsnap_TX                         0                    0                    0   \nsnap_WI                         0                    0                    0   \ndate          2011-01-29 00:00:00  2011-01-30 00:00:00  2011-01-31 00:00:00   \nd                             d_1                  d_2                  d_3   \n\n                             3                    4                    5     \\\nevent_name_1                   30                   30                   30   \nevent_type_1                    4                    4                    4   \nevent_name_2                    4                    4                    4   \nevent_type_2                    2                    2                    2   \nsnap_CA                         1                    1                    1   \nsnap_TX                         1                    0                    1   \nsnap_WI                         0                    1                    1   \ndate          2011-02-01 00:00:00  2011-02-02 00:00:00  2011-02-03 00:00:00   \nd                             d_4                  d_5                  d_6   \n\n                             6                    7                    8     \\\nevent_name_1                   30                   30                   26   \nevent_type_1                    4                    4                    3   \nevent_name_2                    4                    4                    4   \nevent_type_2                    2                    2                    2   \nsnap_CA                         1                    1                    1   \nsnap_TX                         0                    1                    1   \nsnap_WI                         0                    1                    1   \ndate          2011-02-04 00:00:00  2011-02-05 00:00:00  2011-02-06 00:00:00   \nd                             d_7                  d_8                  d_9   \n\n                             9     ...                 1959  \\\nevent_name_1                   30  ...                   30   \nevent_type_1                    4  ...                    4   \nevent_name_2                    4  ...                    4   \nevent_type_2                    2  ...                    2   \nsnap_CA                         1  ...                    1   \nsnap_TX                         1  ...                    0   \nsnap_WI                         0  ...                    0   \ndate          2011-02-07 00:00:00  ...  2016-06-10 00:00:00   \nd                            d_10  ...               d_1960   \n\n                             1960                 1961                 1962  \\\nevent_name_1                   30                   30                   30   \nevent_type_1                    4                    4                    4   \nevent_name_2                    4                    4                    4   \nevent_type_2                    2                    2                    2   \nsnap_CA                         0                    0                    0   \nsnap_TX                         1                    1                    1   \nsnap_WI                         1                    1                    0   \ndate          2016-06-11 00:00:00  2016-06-12 00:00:00  2016-06-13 00:00:00   \nd                          d_1961               d_1962               d_1963   \n\n                             1963                 1964                 1965  \\\nevent_name_1                   30                   30                   30   \nevent_type_1                    4                    4                    4   \nevent_name_2                    4                    4                    4   \nevent_type_2                    2                    2                    2   \nsnap_CA                         0                    0                    0   \nsnap_TX                         0                    1                    0   \nsnap_WI                         1                    1                    0   \ndate          2016-06-14 00:00:00  2016-06-15 00:00:00  2016-06-16 00:00:00   \nd                          d_1964               d_1965               d_1966   \n\n                             1966                 1967                 1968  \nevent_name_1                   30                   30                   16  \nevent_type_1                    4                    4                    3  \nevent_name_2                    4                    4                    2  \nevent_type_2                    2                    2                    0  \nsnap_CA                         0                    0                    0  \nsnap_TX                         0                    0                    0  \nsnap_WI                         0                    0                    0  \ndate          2016-06-17 00:00:00  2016-06-18 00:00:00  2016-06-19 00:00:00  \nd                          d_1967               d_1968               d_1969  \n\n[9 rows x 1969 columns]",
      "text/html": "<div>\n<style scoped>\n    .dataframe tbody tr th:only-of-type {\n        vertical-align: middle;\n    }\n\n    .dataframe tbody tr th {\n        vertical-align: top;\n    }\n\n    .dataframe thead th {\n        text-align: right;\n    }\n</style>\n<table border=\"1\" class=\"dataframe\">\n  <thead>\n    <tr style=\"text-align: right;\">\n      <th></th>\n      <th>0</th>\n      <th>1</th>\n      <th>2</th>\n      <th>3</th>\n      <th>4</th>\n      <th>5</th>\n      <th>6</th>\n      <th>7</th>\n      <th>8</th>\n      <th>9</th>\n      <th>...</th>\n      <th>1959</th>\n      <th>1960</th>\n      <th>1961</th>\n      <th>1962</th>\n      <th>1963</th>\n      <th>1964</th>\n      <th>1965</th>\n      <th>1966</th>\n      <th>1967</th>\n      <th>1968</th>\n    </tr>\n  </thead>\n  <tbody>\n    <tr>\n      <th>event_name_1</th>\n      <td>30</td>\n      <td>30</td>\n      <td>30</td>\n      <td>30</td>\n      <td>30</td>\n      <td>30</td>\n      <td>30</td>\n      <td>30</td>\n      <td>26</td>\n      <td>30</td>\n      <td>...</td>\n      <td>30</td>\n      <td>30</td>\n      <td>30</td>\n      <td>30</td>\n      <td>30</td>\n      <td>30</td>\n      <td>30</td>\n      <td>30</td>\n      <td>30</td>\n      <td>16</td>\n    </tr>\n    <tr>\n      <th>event_type_1</th>\n      <td>4</td>\n      <td>4</td>\n      <td>4</td>\n      <td>4</td>\n      <td>4</td>\n      <td>4</td>\n      <td>4</td>\n      <td>4</td>\n      <td>3</td>\n      <td>4</td>\n      <td>...</td>\n      <td>4</td>\n      <td>4</td>\n      <td>4</td>\n      <td>4</td>\n      <td>4</td>\n      <td>4</td>\n      <td>4</td>\n      <td>4</td>\n      <td>4</td>\n      <td>3</td>\n    </tr>\n    <tr>\n      <th>event_name_2</th>\n      <td>4</td>\n      <td>4</td>\n      <td>4</td>\n      <td>4</td>\n      <td>4</td>\n      <td>4</td>\n      <td>4</td>\n      <td>4</td>\n      <td>4</td>\n      <td>4</td>\n      <td>...</td>\n      <td>4</td>\n      <td>4</td>\n      <td>4</td>\n      <td>4</td>\n      <td>4</td>\n      <td>4</td>\n      <td>4</td>\n      <td>4</td>\n      <td>4</td>\n      <td>2</td>\n    </tr>\n    <tr>\n      <th>event_type_2</th>\n      <td>2</td>\n      <td>2</td>\n      <td>2</td>\n      <td>2</td>\n      <td>2</td>\n      <td>2</td>\n      <td>2</td>\n      <td>2</td>\n      <td>2</td>\n      <td>2</td>\n      <td>...</td>\n      <td>2</td>\n      <td>2</td>\n      <td>2</td>\n      <td>2</td>\n      <td>2</td>\n      <td>2</td>\n      <td>2</td>\n      <td>2</td>\n      <td>2</td>\n      <td>0</td>\n    </tr>\n    <tr>\n      <th>snap_CA</th>\n      <td>0</td>\n      <td>0</td>\n      <td>0</td>\n      <td>1</td>\n      <td>1</td>\n      <td>1</td>\n      <td>1</td>\n      <td>1</td>\n      <td>1</td>\n      <td>1</td>\n      <td>...</td>\n      <td>1</td>\n      <td>0</td>\n      <td>0</td>\n      <td>0</td>\n      <td>0</td>\n      <td>0</td>\n      <td>0</td>\n      <td>0</td>\n      <td>0</td>\n      <td>0</td>\n    </tr>\n    <tr>\n      <th>snap_TX</th>\n      <td>0</td>\n      <td>0</td>\n      <td>0</td>\n      <td>1</td>\n      <td>0</td>\n      <td>1</td>\n      <td>0</td>\n      <td>1</td>\n      <td>1</td>\n      <td>1</td>\n      <td>...</td>\n      <td>0</td>\n      <td>1</td>\n      <td>1</td>\n      <td>1</td>\n      <td>0</td>\n      <td>1</td>\n      <td>0</td>\n      <td>0</td>\n      <td>0</td>\n      <td>0</td>\n    </tr>\n    <tr>\n      <th>snap_WI</th>\n      <td>0</td>\n      <td>0</td>\n      <td>0</td>\n      <td>0</td>\n      <td>1</td>\n      <td>1</td>\n      <td>0</td>\n      <td>1</td>\n      <td>1</td>\n      <td>0</td>\n      <td>...</td>\n      <td>0</td>\n      <td>1</td>\n      <td>1</td>\n      <td>0</td>\n      <td>1</td>\n      <td>1</td>\n      <td>0</td>\n      <td>0</td>\n      <td>0</td>\n      <td>0</td>\n    </tr>\n    <tr>\n      <th>date</th>\n      <td>2011-01-29 00:00:00</td>\n      <td>2011-01-30 00:00:00</td>\n      <td>2011-01-31 00:00:00</td>\n      <td>2011-02-01 00:00:00</td>\n      <td>2011-02-02 00:00:00</td>\n      <td>2011-02-03 00:00:00</td>\n      <td>2011-02-04 00:00:00</td>\n      <td>2011-02-05 00:00:00</td>\n      <td>2011-02-06 00:00:00</td>\n      <td>2011-02-07 00:00:00</td>\n      <td>...</td>\n      <td>2016-06-10 00:00:00</td>\n      <td>2016-06-11 00:00:00</td>\n      <td>2016-06-12 00:00:00</td>\n      <td>2016-06-13 00:00:00</td>\n      <td>2016-06-14 00:00:00</td>\n      <td>2016-06-15 00:00:00</td>\n      <td>2016-06-16 00:00:00</td>\n      <td>2016-06-17 00:00:00</td>\n      <td>2016-06-18 00:00:00</td>\n      <td>2016-06-19 00:00:00</td>\n    </tr>\n    <tr>\n      <th>d</th>\n      <td>d_1</td>\n      <td>d_2</td>\n      <td>d_3</td>\n      <td>d_4</td>\n      <td>d_5</td>\n      <td>d_6</td>\n      <td>d_7</td>\n      <td>d_8</td>\n      <td>d_9</td>\n      <td>d_10</td>\n      <td>...</td>\n      <td>d_1960</td>\n      <td>d_1961</td>\n      <td>d_1962</td>\n      <td>d_1963</td>\n      <td>d_1964</td>\n      <td>d_1965</td>\n      <td>d_1966</td>\n      <td>d_1967</td>\n      <td>d_1968</td>\n      <td>d_1969</td>\n    </tr>\n  </tbody>\n</table>\n<p>9 rows × 1969 columns</p>\n</div>"
     },
     "metadata": {},
     "execution_count": 24
    }
   ],
   "source": [
    "price_df\n",
    "mod_ste\n",
    "item_attribute_df\n",
    "transfer_cal"
   ]
  },
  {
   "cell_type": "code",
   "execution_count": 35,
   "metadata": {},
   "outputs": [],
   "source": [
    "col = \"HOBBIES_1_001_CA_1_evaluation\"\n",
    "days = transfer_cal.transpose().shape[0]\n",
    "cal_category = ['event_name_1','event_type_1','event_name_2','event_type_2','snap_CA','snap_TX','snap_WI']\n",
    "output_category = [\"price\", \"sale\", \"item_id\", \"dept_id\", \"cat_id\", \"store_id\", \"state_id\", 'event_name_1','event_type_1','event_name_2','event_type_2','snap_CA','snap_TX','snap_WI']\n",
    "\n",
    "\n",
    "price_abstract = price_df[price_df[\"id\"] == col].drop(columns=[\"id\"]).transpose().reset_index(drop=True)\n",
    "mod_ste_abstract = mod_ste[mod_ste[\"total_id\"] == col].drop(columns=[\"total_id\"]).transpose().reset_index(drop=True)\n",
    "\n",
    "id_info_abstract = pd.DataFrame(item_attribute_df[item_attribute_df[\"total_id\"] == col].drop(columns=[\"total_id\"]).values * np.ones((days,1)))\n",
    "\n",
    "cal_abstract = transfer_cal.transpose()[cal_category]\n",
    "\n",
    "tmp_df = pd.concat([price_abstract, mod_ste_abstract, id_info_abstract, cal_abstract], axis=1)\n",
    "tmp_df.columns = output_category\n",
    "\n",
    "tmp_df = tmp_df.fillna(0)\n"
   ]
  },
  {
   "cell_type": "code",
   "execution_count": 39,
   "metadata": {},
   "outputs": [],
   "source": [
    "def train_df_generator(price_df, mod_ste, item_attribute_df, transfer_cal):\n",
    "    \n",
    "    days = transfer_cal.transpose().shape[0]\n",
    "    cal_category = ['event_name_1','event_type_1','event_name_2','event_type_2','snap_CA','snap_TX','snap_WI']\n",
    "    output_category = [\"price\", \"sale\", \"item_id\", \"dept_id\", \"cat_id\", \"store_id\", \"state_id\", 'event_name_1','event_type_1','event_name_2','event_type_2','snap_CA','snap_TX','snap_WI']\n",
    "\n",
    "    id_list = item_attribute_df[\"total_id\"]\n",
    "\n",
    "    for col in id_list: \n",
    "        price_abstract = price_df[price_df[\"id\"] == col].drop(columns=[\"id\"]).transpose().reset_index(drop=True)\n",
    "        mod_ste_abstract = mod_ste[mod_ste[\"total_id\"] == col].drop(columns=[\"total_id\"]).transpose().reset_index(drop=True)\n",
    "\n",
    "        id_info_abstract = pd.DataFrame(item_attribute_df[item_attribute_df[\"total_id\"] == col].drop(columns=[\"total_id\"]).values * np.ones((days, 1)))\n",
    "\n",
    "        cal_abstract = transfer_cal.transpose()[cal_category]\n",
    "\n",
    "        tmp_df = pd.concat([price_abstract, mod_ste_abstract, id_info_abstract, cal_abstract], axis=1)\n",
    "        tmp_df.columns = output_category\n",
    "\n",
    "        tmp_df = tmp_df.fillna(0)\n",
    "\n",
    "        yield tmp_df\n"
   ]
  },
  {
   "cell_type": "code",
   "execution_count": 40,
   "metadata": {},
   "outputs": [],
   "source": [
    "tdg = train_df_generator(price_df, mod_ste, item_attribute_df, transfer_cal)"
   ]
  },
  {
   "cell_type": "code",
   "execution_count": 43,
   "metadata": {},
   "outputs": [
    {
     "output_type": "execute_result",
     "data": {
      "text/plain": "      price  sale  item_id  dept_id  cat_id  store_id  state_id  event_name_1  \\\n0      0.00   0.0   1439.0      3.0     1.0       0.0       0.0            30   \n1      0.00   0.0   1439.0      3.0     1.0       0.0       0.0            30   \n2      0.00   0.0   1439.0      3.0     1.0       0.0       0.0            30   \n3      0.00   0.0   1439.0      3.0     1.0       0.0       0.0            30   \n4      0.00   0.0   1439.0      3.0     1.0       0.0       0.0            30   \n...     ...   ...      ...      ...     ...       ...       ...           ...   \n1964   2.97   0.0   1439.0      3.0     1.0       0.0       0.0            30   \n1965   2.97   0.0   1439.0      3.0     1.0       0.0       0.0            30   \n1966   2.97   0.0   1439.0      3.0     1.0       0.0       0.0            30   \n1967   2.97   0.0   1439.0      3.0     1.0       0.0       0.0            30   \n1968   2.97   0.0   1439.0      3.0     1.0       0.0       0.0            16   \n\n      event_type_1  event_name_2  event_type_2  snap_CA  snap_TX  snap_WI  \n0                4             4             2        0        0        0  \n1                4             4             2        0        0        0  \n2                4             4             2        0        0        0  \n3                4             4             2        1        1        0  \n4                4             4             2        1        0        1  \n...            ...           ...           ...      ...      ...      ...  \n1964             4             4             2        0        1        1  \n1965             4             4             2        0        0        0  \n1966             4             4             2        0        0        0  \n1967             4             4             2        0        0        0  \n1968             3             2             0        0        0        0  \n\n[1969 rows x 14 columns]",
      "text/html": "<div>\n<style scoped>\n    .dataframe tbody tr th:only-of-type {\n        vertical-align: middle;\n    }\n\n    .dataframe tbody tr th {\n        vertical-align: top;\n    }\n\n    .dataframe thead th {\n        text-align: right;\n    }\n</style>\n<table border=\"1\" class=\"dataframe\">\n  <thead>\n    <tr style=\"text-align: right;\">\n      <th></th>\n      <th>price</th>\n      <th>sale</th>\n      <th>item_id</th>\n      <th>dept_id</th>\n      <th>cat_id</th>\n      <th>store_id</th>\n      <th>state_id</th>\n      <th>event_name_1</th>\n      <th>event_type_1</th>\n      <th>event_name_2</th>\n      <th>event_type_2</th>\n      <th>snap_CA</th>\n      <th>snap_TX</th>\n      <th>snap_WI</th>\n    </tr>\n  </thead>\n  <tbody>\n    <tr>\n      <th>0</th>\n      <td>0.00</td>\n      <td>0.0</td>\n      <td>1439.0</td>\n      <td>3.0</td>\n      <td>1.0</td>\n      <td>0.0</td>\n      <td>0.0</td>\n      <td>30</td>\n      <td>4</td>\n      <td>4</td>\n      <td>2</td>\n      <td>0</td>\n      <td>0</td>\n      <td>0</td>\n    </tr>\n    <tr>\n      <th>1</th>\n      <td>0.00</td>\n      <td>0.0</td>\n      <td>1439.0</td>\n      <td>3.0</td>\n      <td>1.0</td>\n      <td>0.0</td>\n      <td>0.0</td>\n      <td>30</td>\n      <td>4</td>\n      <td>4</td>\n      <td>2</td>\n      <td>0</td>\n      <td>0</td>\n      <td>0</td>\n    </tr>\n    <tr>\n      <th>2</th>\n      <td>0.00</td>\n      <td>0.0</td>\n      <td>1439.0</td>\n      <td>3.0</td>\n      <td>1.0</td>\n      <td>0.0</td>\n      <td>0.0</td>\n      <td>30</td>\n      <td>4</td>\n      <td>4</td>\n      <td>2</td>\n      <td>0</td>\n      <td>0</td>\n      <td>0</td>\n    </tr>\n    <tr>\n      <th>3</th>\n      <td>0.00</td>\n      <td>0.0</td>\n      <td>1439.0</td>\n      <td>3.0</td>\n      <td>1.0</td>\n      <td>0.0</td>\n      <td>0.0</td>\n      <td>30</td>\n      <td>4</td>\n      <td>4</td>\n      <td>2</td>\n      <td>1</td>\n      <td>1</td>\n      <td>0</td>\n    </tr>\n    <tr>\n      <th>4</th>\n      <td>0.00</td>\n      <td>0.0</td>\n      <td>1439.0</td>\n      <td>3.0</td>\n      <td>1.0</td>\n      <td>0.0</td>\n      <td>0.0</td>\n      <td>30</td>\n      <td>4</td>\n      <td>4</td>\n      <td>2</td>\n      <td>1</td>\n      <td>0</td>\n      <td>1</td>\n    </tr>\n    <tr>\n      <th>...</th>\n      <td>...</td>\n      <td>...</td>\n      <td>...</td>\n      <td>...</td>\n      <td>...</td>\n      <td>...</td>\n      <td>...</td>\n      <td>...</td>\n      <td>...</td>\n      <td>...</td>\n      <td>...</td>\n      <td>...</td>\n      <td>...</td>\n      <td>...</td>\n    </tr>\n    <tr>\n      <th>1964</th>\n      <td>2.97</td>\n      <td>0.0</td>\n      <td>1439.0</td>\n      <td>3.0</td>\n      <td>1.0</td>\n      <td>0.0</td>\n      <td>0.0</td>\n      <td>30</td>\n      <td>4</td>\n      <td>4</td>\n      <td>2</td>\n      <td>0</td>\n      <td>1</td>\n      <td>1</td>\n    </tr>\n    <tr>\n      <th>1965</th>\n      <td>2.97</td>\n      <td>0.0</td>\n      <td>1439.0</td>\n      <td>3.0</td>\n      <td>1.0</td>\n      <td>0.0</td>\n      <td>0.0</td>\n      <td>30</td>\n      <td>4</td>\n      <td>4</td>\n      <td>2</td>\n      <td>0</td>\n      <td>0</td>\n      <td>0</td>\n    </tr>\n    <tr>\n      <th>1966</th>\n      <td>2.97</td>\n      <td>0.0</td>\n      <td>1439.0</td>\n      <td>3.0</td>\n      <td>1.0</td>\n      <td>0.0</td>\n      <td>0.0</td>\n      <td>30</td>\n      <td>4</td>\n      <td>4</td>\n      <td>2</td>\n      <td>0</td>\n      <td>0</td>\n      <td>0</td>\n    </tr>\n    <tr>\n      <th>1967</th>\n      <td>2.97</td>\n      <td>0.0</td>\n      <td>1439.0</td>\n      <td>3.0</td>\n      <td>1.0</td>\n      <td>0.0</td>\n      <td>0.0</td>\n      <td>30</td>\n      <td>4</td>\n      <td>4</td>\n      <td>2</td>\n      <td>0</td>\n      <td>0</td>\n      <td>0</td>\n    </tr>\n    <tr>\n      <th>1968</th>\n      <td>2.97</td>\n      <td>0.0</td>\n      <td>1439.0</td>\n      <td>3.0</td>\n      <td>1.0</td>\n      <td>0.0</td>\n      <td>0.0</td>\n      <td>16</td>\n      <td>3</td>\n      <td>2</td>\n      <td>0</td>\n      <td>0</td>\n      <td>0</td>\n      <td>0</td>\n    </tr>\n  </tbody>\n</table>\n<p>1969 rows × 14 columns</p>\n</div>"
     },
     "metadata": {},
     "execution_count": 43
    }
   ],
   "source": [
    "next(tdg)"
   ]
  },
  {
   "cell_type": "code",
   "execution_count": 44,
   "metadata": {},
   "outputs": [],
   "source": [
    "OUTPUT_PATH = \".\\\\datas\\\\training_datas\\\\\"\n",
    "tdg = train_df_generator(price_df, mod_ste, item_attribute_df, transfer_cal)\n",
    "\n",
    "# Create CSV Files Correspoding to Each id\n",
    "for i, df in enumerate(tdg):\n",
    "    df.to_csv(OUTPUT_PATH + \"train_data\" + str(i) + \".csv\", index=False)"
   ]
  },
  {
   "cell_type": "markdown",
   "metadata": {},
   "source": [
    "### Create Training Data & Prediction Input Data"
   ]
  },
  {
   "cell_type": "code",
   "execution_count": 4,
   "metadata": {},
   "outputs": [],
   "source": [
    "NUM_ITEMS = 30490\n",
    "OUTPUT_PATH = \".\\\\datas\\\\training_datas\\\\\""
   ]
  },
  {
   "cell_type": "code",
   "execution_count": 7,
   "metadata": {},
   "outputs": [],
   "source": [
    "def train_data_from_csv_generator(num=NUM_ITEMS):\n",
    "    for i in range(num):\n",
    "        df = pd.read_csv(OUTPUT_PATH + \"train_data\" + str(i) +\".csv\")\n",
    "        df = reduce_mem_usage(df, verbose=False)\n",
    "        df = df.fillna(0)\n",
    "        array = df.values\n",
    "        #array = array / (np.max(array) - np.min(array)) #正規化して出力(そのままだと一瞬でLossがNaNになる(勾配爆発？))\n",
    "        yield array"
   ]
  },
  {
   "cell_type": "code",
   "execution_count": 30,
   "metadata": {},
   "outputs": [
    {
     "output_type": "execute_result",
     "data": {
      "text/plain": "(1969, 14)"
     },
     "metadata": {},
     "execution_count": 30
    }
   ],
   "source": [
    "train_generator = train_data_from_csv_generator(num=1) \n",
    "next(train_generator).shape"
   ]
  },
  {
   "cell_type": "code",
   "execution_count": 6,
   "metadata": {},
   "outputs": [],
   "source": [
    "\"\"\"\n",
    "Create Training Datas & Labels\n",
    "\"\"\"\n",
    "\n",
    "train_generator = train_data_from_csv_generator(num=1) \n",
    "x_shape = next(train_generator).shape\n",
    "timesteps = 28\n",
    "#timesteps=10\n",
    "delay = 1\n",
    "num_samples=10\n",
    "#num_samples = 1000 # ローカルのマシンだとこのサイズですらメモリが限界になる。\n",
    "#num_samples = NUM_ITEMS\n",
    "\n",
    "train_generator = train_data_from_csv_generator(num=num_samples) \n",
    "\n",
    "len_sequence, num_features = x_shape\n",
    "sample_batchsize = len_sequence-timesteps+1 - delay\n",
    "\n",
    "X_train = np.zeros((sample_batchsize*num_samples, timesteps, num_features))\n",
    "Y_train = np.zeros((sample_batchsize*num_samples, timesteps, 1))\n",
    "\n",
    "for i, array in enumerate(train_generator):\n",
    "    for j in range(sample_batchsize - timesteps + 1 -delay):\n",
    "        X_train[i*sample_batchsize+j, 0: timesteps] = array[j:j+timesteps]\n",
    "        Y_train[i*sample_batchsize+j, 0: timesteps] = array[j+timesteps:j+2*timesteps , num_features-1].reshape(timesteps, 1)"
   ]
  },
  {
   "cell_type": "code",
   "execution_count": 8,
   "metadata": {},
   "outputs": [],
   "source": [
    "def CreateTrainingData(timesteps=28, delay=1, num_samples=30490):\n",
    "    x_shape = next(train_data_from_csv_generator(num=1)).shape\n",
    "\n",
    "    train_generator = train_data_from_csv_generator(num=num_samples)\n",
    "\n",
    "    len_sequence, num_features = x_shape\n",
    "    sample_batchsize = len_sequence-timesteps+1 - delay\n",
    "\n",
    "    X_train = np.zeros((sample_batchsize*num_samples, timesteps, num_features))\n",
    "    Y_train = np.zeros((sample_batchsize*num_samples, timesteps, 1))\n",
    "\n",
    "    for i, array in enumerate(train_generator):\n",
    "        for j in range(sample_batchsize - timesteps + 1 -delay):\n",
    "            X_train[i*sample_batchsize+j, 0: timesteps] = array[j:j+timesteps]\n",
    "            Y_train[i*sample_batchsize+j, 0: timesteps] = array[j+timesteps:j+2*timesteps , num_features-1].reshape(timesteps, 1)\n",
    "\n",
    "    return X_train, Y_train    "
   ]
  },
  {
   "cell_type": "code",
   "execution_count": 31,
   "metadata": {},
   "outputs": [],
   "source": [
    "X_train, Y_train = CreateTrainingData(num_samples=10)"
   ]
  },
  {
   "cell_type": "code",
   "execution_count": 32,
   "metadata": {},
   "outputs": [
    {
     "output_type": "stream",
     "name": "stdout",
     "text": "(19410, 28, 14)\n(19410, 28, 1)\n"
    }
   ],
   "source": [
    "print(X_train.shape)\n",
    "print(Y_train.shape)"
   ]
  },
  {
   "cell_type": "code",
   "execution_count": 11,
   "metadata": {},
   "outputs": [],
   "source": [
    "\"\"\"\n",
    "Evaluation用のデータ生成関数\n",
    "\"\"\"\n",
    "\n",
    "def GenerateInputForPrediction(num_samples=30490):\n",
    "    TIMESTEPS = 28\n",
    "\n",
    "    train_generator = train_data_from_csv_generator(num=1) \n",
    "    x_shape = next(train_generator).shape\n",
    "    num_features = x_shape[1]\n",
    "\n",
    "    #X_test = np.zeros((num_samples, TIMESTEPS, num_features))\n",
    "\n",
    "    train_generator = train_data_from_csv_generator(num=num_samples)\n",
    "\n",
    "    for i, array in enumerate(train_generator):\n",
    "        #X_test[i] = array[-TIMESTEPS:]\n",
    "        yield array[-TIMESTEPS:]\n",
    "\n",
    "#    return X_test"
   ]
  },
  {
   "cell_type": "code",
   "execution_count": 13,
   "metadata": {},
   "outputs": [
    {
     "output_type": "execute_result",
     "data": {
      "text/plain": "(28, 14)"
     },
     "metadata": {},
     "execution_count": 13
    }
   ],
   "source": [
    "X_test = GenerateInputForPrediction(10)\n",
    "next(X_test).shape"
   ]
  },
  {
   "cell_type": "code",
   "execution_count": 14,
   "metadata": {},
   "outputs": [],
   "source": [
    "def MinMaxScaling(array):\n",
    "    max_array = np.max(array)\n",
    "    min_array = np.min(array)\n",
    "    normalized_array = array - min_array / (max_array - min_array)\n",
    "    return normalized_array, max_array, min_array\n",
    "\n",
    "def Inverse_MinMaxScaling(normalized_array, max_array, min_array):\n",
    "    array = normalized_array*(max_array - min_array) + min_array\n",
    "    return array"
   ]
  },
  {
   "cell_type": "code",
   "execution_count": 15,
   "metadata": {},
   "outputs": [],
   "source": [
    "def normalize(X):\n",
    "    mean = np.mean(X, axis=(1,2), keepdims=True)\n",
    "    sd = np.std(X, axis=(1,2), keepdims=True)\n",
    "    return (X-mean)/(sd+1e-7)"
   ]
  },
  {
   "cell_type": "code",
   "execution_count": 20,
   "metadata": {},
   "outputs": [],
   "source": [
    "from sklearn import preprocessing, metrics\n",
    "from keras.models import Sequential\n",
    "from keras.layers import Dense\n",
    "from keras.layers import LSTM,Dropout\n",
    "from keras.layers import RepeatVector,TimeDistributed, BatchNormalization\n",
    "from numpy import array\n",
    "from keras.models import Sequential, load_model\n",
    "from keras.optimizers import Adam, RMSprop\n",
    "#import utils_paths\n",
    "import re\n",
    "from tqdm import tqdm\n",
    "import os\n",
    "\n",
    "def build_model():\n",
    "    timesteps = 28\n",
    "    #timesteps=10\n",
    "    delay = 1\n",
    "    #num_samples=10\n",
    "\n",
    "    n_out_seq_length = 28\n",
    "    num_y = 1\n",
    "\n",
    "    train_generator = train_data_from_csv_generator(num=1) \n",
    "    x_shape = next(train_generator).shape\n",
    "\n",
    "    len_sequence, num_features = x_shape\n",
    "\n",
    "    model = Sequential()\n",
    "\n",
    "    model.add(LSTM(128, activation='relu', batch_input_shape=(None, timesteps, num_features), return_sequences=False))\n",
    "    model.add(BatchNormalization())\n",
    "    model.add(RepeatVector(timesteps))\n",
    "    model.add(LSTM(32, activation='relu', return_sequences=True))\n",
    "    model.add(BatchNormalization())\n",
    "    #model.add(Dropout(0.1))  \n",
    "    model.add(TimeDistributed(Dense(delay)))   # num_y means the shape of y,in some problem(like translate), it can be many.\n",
    "                                                #In that case, you should set the  activation= 'softmax'\n",
    "    \n",
    "    RMSpropOptimizer = RMSprop(lr=0.001, clipvalue=0.5)\n",
    "    model.compile(optimizer=RMSpropOptimizer, loss='mean_squared_error', metrics=[\"accuracy\"])\n",
    "\n",
    "    return model"
   ]
  },
  {
   "cell_type": "code",
   "execution_count": 21,
   "metadata": {},
   "outputs": [
    {
     "output_type": "stream",
     "name": "stdout",
     "text": "WARNING:tensorflow:From C:\\Users\\lank4\\Miniconda3\\envs\\EnvForML\\lib\\site-packages\\keras\\backend\\tensorflow_backend.py:517: The name tf.placeholder is deprecated. Please use tf.compat.v1.placeholder instead.\n\nWARNING:tensorflow:From C:\\Users\\lank4\\Miniconda3\\envs\\EnvForML\\lib\\site-packages\\keras\\backend\\tensorflow_backend.py:4138: The name tf.random_uniform is deprecated. Please use tf.random.uniform instead.\n\nWARNING:tensorflow:From C:\\Users\\lank4\\Miniconda3\\envs\\EnvForML\\lib\\site-packages\\keras\\backend\\tensorflow_backend.py:133: The name tf.placeholder_with_default is deprecated. Please use tf.compat.v1.placeholder_with_default instead.\n\nWARNING:tensorflow:From C:\\Users\\lank4\\Miniconda3\\envs\\EnvForML\\lib\\site-packages\\keras\\optimizers.py:790: The name tf.train.Optimizer is deprecated. Please use tf.compat.v1.train.Optimizer instead.\n\n"
    }
   ],
   "source": [
    "model = build_model()"
   ]
  },
  {
   "cell_type": "code",
   "execution_count": 22,
   "metadata": {},
   "outputs": [
    {
     "output_type": "stream",
     "name": "stdout",
     "text": "_________________________________________________________________\nLayer (type)                 Output Shape              Param #   \n=================================================================\nlstm_1 (LSTM)                (None, 128)               73216     \n_________________________________________________________________\nbatch_normalization_1 (Batch (None, 128)               512       \n_________________________________________________________________\nrepeat_vector_1 (RepeatVecto (None, 28, 128)           0         \n_________________________________________________________________\nlstm_2 (LSTM)                (None, 28, 32)            20608     \n_________________________________________________________________\nbatch_normalization_2 (Batch (None, 28, 32)            128       \n_________________________________________________________________\ntime_distributed_1 (TimeDist (None, 28, 1)             33        \n=================================================================\nTotal params: 94,497\nTrainable params: 94,177\nNon-trainable params: 320\n_________________________________________________________________\n"
    }
   ],
   "source": [
    "model.summary()"
   ]
  },
  {
   "cell_type": "code",
   "execution_count": 23,
   "metadata": {},
   "outputs": [],
   "source": [
    "X_train, X_max, X_min = MinMaxScaling(X_train)\n",
    "#Y_train, Y_max, Y_min = MinMaxScaling(Y_train)"
   ]
  },
  {
   "cell_type": "code",
   "execution_count": 25,
   "metadata": {},
   "outputs": [
    {
     "output_type": "stream",
     "name": "stdout",
     "text": "Train on 873450 samples, validate on 97050 samples\nEpoch 1/10\n873450/873450 [==============================] - 386s 441us/step - loss: 0.2190 - acc: 0.6760 - val_loss: 0.2304 - val_acc: 0.6765\nEpoch 2/10\n873450/873450 [==============================] - 375s 430us/step - loss: 0.2090 - acc: 0.6852 - val_loss: 0.2789 - val_acc: 0.6693\nEpoch 3/10\n873450/873450 [==============================] - 365s 418us/step - loss: 0.2161 - acc: 0.6757 - val_loss: 0.5074 - val_acc: 0.4536\nEpoch 4/10\n873450/873450 [==============================] - 397s 455us/step - loss: 0.2034 - acc: 0.6884 - val_loss: 0.3135 - val_acc: 0.6099\nEpoch 5/10\n873450/873450 [==============================] - 412s 472us/step - loss: 0.1717 - acc: 0.7349 - val_loss: 0.3043 - val_acc: 0.6008\nEpoch 6/10\n873450/873450 [==============================] - 441s 505us/step - loss: 0.1342 - acc: 0.7962 - val_loss: 0.4701 - val_acc: 0.5151\nEpoch 7/10\n873450/873450 [==============================] - 464s 531us/step - loss: 0.1180 - acc: 0.8234 - val_loss: 0.5470 - val_acc: 0.5870\nEpoch 8/10\n873450/873450 [==============================] - 491s 563us/step - loss: 0.1131 - acc: 0.8298 - val_loss: 1.2497 - val_acc: 0.5612\nEpoch 9/10\n873450/873450 [==============================] - 524s 600us/step - loss: 0.1110 - acc: 0.8325 - val_loss: 0.2943 - val_acc: 0.5979\nEpoch 10/10\n873450/873450 [==============================] - 576s 659us/step - loss: 0.1085 - acc: 0.8361 - val_loss: 0.6905 - val_acc: 0.5005\n"
    }
   ],
   "source": [
    "batch_size = 1000\n",
    "history = model.fit(X_train, Y_train, epochs=10, batch_size=batch_size, validation_split=0.1)"
   ]
  },
  {
   "cell_type": "code",
   "execution_count": 26,
   "metadata": {},
   "outputs": [],
   "source": [
    "open(\"model.json\" ,\"w\").write(model.to_json())\n",
    "model.save_weights(\"weight.hdf5\")"
   ]
  },
  {
   "cell_type": "code",
   "execution_count": null,
   "metadata": {},
   "outputs": [],
   "source": [
    "model_from_json(open(\"model.json\", \"w\").read(model.to_json()))\n",
    "model.load_weights(\"weight.hdf5\")"
   ]
  },
  {
   "cell_type": "code",
   "execution_count": 225,
   "metadata": {},
   "outputs": [],
   "source": [
    "X_test, X_test_max, X_test_min = MinMaxScaling(X_test)"
   ]
  },
  {
   "cell_type": "code",
   "execution_count": 226,
   "metadata": {},
   "outputs": [],
   "source": [
    "prediction = model.predict(X_test)"
   ]
  },
  {
   "cell_type": "code",
   "execution_count": 228,
   "metadata": {},
   "outputs": [
    {
     "output_type": "execute_result",
     "data": {
      "text/plain": "(10, 28, 1)"
     },
     "metadata": {},
     "execution_count": 228
    }
   ],
   "source": [
    "prediction.shape"
   ]
  },
  {
   "cell_type": "code",
   "execution_count": null,
   "metadata": {},
   "outputs": [],
   "source": []
  }
 ],
 "metadata": {
  "language_info": {
   "codemirror_mode": {
    "name": "ipython",
    "version": 3
   },
   "file_extension": ".py",
   "mimetype": "text/x-python",
   "name": "python",
   "nbconvert_exporter": "python",
   "pygments_lexer": "ipython3",
   "version": "3.7.5-final"
  },
  "orig_nbformat": 2,
  "kernelspec": {
   "name": "envforml",
   "display_name": "EnvForML"
  }
 },
 "nbformat": 4,
 "nbformat_minor": 2
}